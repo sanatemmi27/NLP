{
 "cells": [
  {
   "cell_type": "code",
   "execution_count": 61,
   "metadata": {},
   "outputs": [],
   "source": [
    "data = [\"The amount of pollution is increasing day by day\",\n",
    "\"The concert was just great\", \"I love to see Gordon Ramsay cook\",\n",
    "\"Google is introducing a new technlogy\", \"AI robots are great example of great technology present today\",\n",
    "\"All of us were singing in the concert\", \"We have launch campaigns to stop pollution and global warming\"]"
   ]
  },
  {
   "cell_type": "code",
   "execution_count": 2,
   "metadata": {},
   "outputs": [
    {
     "data": {
      "text/plain": [
       "['The amount of pollution is increasing day by day',\n",
       " 'The concert was just great',\n",
       " 'I love to see Gordon Ramsay cook',\n",
       " 'Google is introducing a new technlogy',\n",
       " 'AI robots are great example of great technology present today',\n",
       " 'All of us were singing in the concert',\n",
       " 'We have launch campaigns to stop pollution and global warming']"
      ]
     },
     "execution_count": 2,
     "metadata": {},
     "output_type": "execute_result"
    }
   ],
   "source": [
    "data"
   ]
  },
  {
   "cell_type": "code",
   "execution_count": 3,
   "metadata": {},
   "outputs": [],
   "source": [
    "import pandas as pd\n",
    "data = pd.DataFrame(data)"
   ]
  },
  {
   "cell_type": "code",
   "execution_count": 5,
   "metadata": {},
   "outputs": [],
   "source": [
    "data.columns = [\"text\"]"
   ]
  },
  {
   "cell_type": "code",
   "execution_count": 6,
   "metadata": {},
   "outputs": [
    {
     "data": {
      "text/html": [
       "<div>\n",
       "<style scoped>\n",
       "    .dataframe tbody tr th:only-of-type {\n",
       "        vertical-align: middle;\n",
       "    }\n",
       "\n",
       "    .dataframe tbody tr th {\n",
       "        vertical-align: top;\n",
       "    }\n",
       "\n",
       "    .dataframe thead th {\n",
       "        text-align: right;\n",
       "    }\n",
       "</style>\n",
       "<table border=\"1\" class=\"dataframe\">\n",
       "  <thead>\n",
       "    <tr style=\"text-align: right;\">\n",
       "      <th></th>\n",
       "      <th>text</th>\n",
       "    </tr>\n",
       "  </thead>\n",
       "  <tbody>\n",
       "    <tr>\n",
       "      <th>0</th>\n",
       "      <td>The amount of pollution is increasing day by day</td>\n",
       "    </tr>\n",
       "    <tr>\n",
       "      <th>1</th>\n",
       "      <td>The concert was just great</td>\n",
       "    </tr>\n",
       "    <tr>\n",
       "      <th>2</th>\n",
       "      <td>I love to see Gordon Ramsay cook</td>\n",
       "    </tr>\n",
       "    <tr>\n",
       "      <th>3</th>\n",
       "      <td>Google is introducing a new technlogy</td>\n",
       "    </tr>\n",
       "    <tr>\n",
       "      <th>4</th>\n",
       "      <td>AI robots are great example of great technolog...</td>\n",
       "    </tr>\n",
       "    <tr>\n",
       "      <th>5</th>\n",
       "      <td>All of us were singing in the concert</td>\n",
       "    </tr>\n",
       "    <tr>\n",
       "      <th>6</th>\n",
       "      <td>We have launch campaigns to stop pollution and...</td>\n",
       "    </tr>\n",
       "  </tbody>\n",
       "</table>\n",
       "</div>"
      ],
      "text/plain": [
       "                                                text\n",
       "0   The amount of pollution is increasing day by day\n",
       "1                         The concert was just great\n",
       "2                   I love to see Gordon Ramsay cook\n",
       "3              Google is introducing a new technlogy\n",
       "4  AI robots are great example of great technolog...\n",
       "5              All of us were singing in the concert\n",
       "6  We have launch campaigns to stop pollution and..."
      ]
     },
     "execution_count": 6,
     "metadata": {},
     "output_type": "execute_result"
    }
   ],
   "source": [
    "data"
   ]
  },
  {
   "cell_type": "code",
   "execution_count": 7,
   "metadata": {},
   "outputs": [
    {
     "name": "stderr",
     "output_type": "stream",
     "text": [
      "[nltk_data] Downloading package stopwords to\n",
      "[nltk_data]     C:\\Users\\sanat\\AppData\\Roaming\\nltk_data...\n",
      "[nltk_data]   Package stopwords is already up-to-date!\n",
      "[nltk_data] Downloading package punkt to\n",
      "[nltk_data]     C:\\Users\\sanat\\AppData\\Roaming\\nltk_data...\n",
      "[nltk_data]   Package punkt is already up-to-date!\n",
      "[nltk_data] Downloading package wordnet to\n",
      "[nltk_data]     C:\\Users\\sanat\\AppData\\Roaming\\nltk_data...\n",
      "[nltk_data]   Package wordnet is already up-to-date!\n"
     ]
    }
   ],
   "source": [
    "import nltk\n",
    "import pandas as pd\n",
    "from sklearn.feature_extraction.text import TfidfVectorizer\n",
    "from sklearn.decomposition import TruncatedSVD\n",
    "import nltk\n",
    "from nltk.corpus import stopwords\n",
    "from string import punctuation\n",
    "nltk.download('stopwords')\n",
    "nltk.download('punkt')\n",
    "stop_words = stopwords.words('english')\n",
    "from string import punctuation\n",
    "custom = stop_words+list(punctuation)\n",
    "from nltk.stem import WordNetLemmatizer\n",
    "wordnet_lemmatizer = WordNetLemmatizer()\n",
    "nltk.download('wordnet')\n",
    "import warnings\n",
    "warnings.filterwarnings(\"ignore\")"
   ]
  },
  {
   "cell_type": "code",
   "execution_count": 9,
   "metadata": {},
   "outputs": [],
   "source": [
    "def my_tokenizer(s):\n",
    "    s = s.lower()\n",
    "    tokens = nltk.tokenize.word_tokenize(s)\n",
    "    tokens = [t for t in tokens if len(t)>2] #remove words lesser than 2 in length\n",
    "    tokens = [wordnet_lemmatizer.lemmatize(t) for t in tokens] #lemmatize words\n",
    "    tokens = [t for t in tokens if t not in custom] #remove stopwords and punctuation\n",
    "    tokens = [t for t in tokens if not any(c.isdigit() for c in t)] # remove digits\n",
    "    return tokens"
   ]
  },
  {
   "cell_type": "code",
   "execution_count": 10,
   "metadata": {},
   "outputs": [],
   "source": [
    "data = data[\"text\"].tolist()"
   ]
  },
  {
   "cell_type": "code",
   "execution_count": 11,
   "metadata": {},
   "outputs": [
    {
     "data": {
      "text/plain": [
       "['The amount of pollution is increasing day by day',\n",
       " 'The concert was just great',\n",
       " 'I love to see Gordon Ramsay cook',\n",
       " 'Google is introducing a new technlogy',\n",
       " 'AI robots are great example of great technology present today',\n",
       " 'All of us were singing in the concert',\n",
       " 'We have launch campaigns to stop pollution and global warming']"
      ]
     },
     "execution_count": 11,
     "metadata": {},
     "output_type": "execute_result"
    }
   ],
   "source": [
    "data"
   ]
  },
  {
   "cell_type": "code",
   "execution_count": 12,
   "metadata": {},
   "outputs": [],
   "source": [
    "text = [my_tokenizer(s) for s in data]"
   ]
  },
  {
   "cell_type": "code",
   "execution_count": 18,
   "metadata": {},
   "outputs": [
    {
     "data": {
      "text/plain": [
       "[['amount', 'pollution', 'increasing', 'day', 'day'],\n",
       " ['concert', 'wa', 'great'],\n",
       " ['love', 'see', 'gordon', 'ramsay', 'cook'],\n",
       " ['google', 'introducing', 'new', 'technlogy'],\n",
       " ['robot', 'great', 'example', 'great', 'technology', 'present', 'today'],\n",
       " ['singing', 'concert'],\n",
       " ['launch', 'campaign', 'stop', 'pollution', 'global', 'warming']]"
      ]
     },
     "execution_count": 18,
     "metadata": {},
     "output_type": "execute_result"
    }
   ],
   "source": [
    "text"
   ]
  },
  {
   "cell_type": "code",
   "execution_count": 19,
   "metadata": {},
   "outputs": [],
   "source": [
    "from sklearn.decomposition import TruncatedSVD"
   ]
  },
  {
   "cell_type": "code",
   "execution_count": 23,
   "metadata": {},
   "outputs": [],
   "source": [
    "tfidf = TfidfVectorizer()\n",
    "X = tfidf.fit_transform(data)"
   ]
  },
  {
   "cell_type": "code",
   "execution_count": 24,
   "metadata": {},
   "outputs": [
    {
     "data": {
      "text/plain": [
       "<7x42 sparse matrix of type '<class 'numpy.float64'>'\n",
       "\twith 51 stored elements in Compressed Sparse Row format>"
      ]
     },
     "execution_count": 24,
     "metadata": {},
     "output_type": "execute_result"
    }
   ],
   "source": [
    "X"
   ]
  },
  {
   "cell_type": "code",
   "execution_count": 25,
   "metadata": {},
   "outputs": [],
   "source": [
    "lsa = TruncatedSVD(n_components=4,n_iter=100)\n"
   ]
  },
  {
   "cell_type": "code",
   "execution_count": 27,
   "metadata": {},
   "outputs": [
    {
     "data": {
      "text/plain": [
       "TruncatedSVD(algorithm='randomized', n_components=4, n_iter=100,\n",
       "             random_state=None, tol=0.0)"
      ]
     },
     "execution_count": 27,
     "metadata": {},
     "output_type": "execute_result"
    }
   ],
   "source": [
    "lsa.fit(X)"
   ]
  },
  {
   "cell_type": "code",
   "execution_count": 28,
   "metadata": {},
   "outputs": [
    {
     "data": {
      "text/plain": [
       "array([0.11696462, 0.1707732 , 0.10318835, 0.01935276, 0.11696462,\n",
       "       0.10318835, 0.01935276, 0.35741668, 0.00567144, 0.20637669,\n",
       "       0.11696462, 0.01935276, 0.03668901, 0.00567144, 0.40984162,\n",
       "       0.01935276, 0.1707732 , 0.10318835, 0.03668901, 0.11611022,\n",
       "       0.25980475, 0.01935276, 0.00567144, 0.03668901, 0.27737381,\n",
       "       0.10171964, 0.11696462, 0.00567144, 0.11696462, 0.00567144,\n",
       "       0.1707732 , 0.01935276, 0.03668901, 0.11696462, 0.37872315,\n",
       "       0.02077223, 0.11696462, 0.1707732 , 0.01935276, 0.25980475,\n",
       "       0.01935276, 0.1707732 ])"
      ]
     },
     "execution_count": 28,
     "metadata": {},
     "output_type": "execute_result"
    }
   ],
   "source": [
    "lsa.components_[0]"
   ]
  },
  {
   "cell_type": "code",
   "execution_count": 29,
   "metadata": {},
   "outputs": [],
   "source": [
    "words = tfidf.get_feature_names()"
   ]
  },
  {
   "cell_type": "code",
   "execution_count": 30,
   "metadata": {},
   "outputs": [
    {
     "data": {
      "text/plain": [
       "['ai',\n",
       " 'all',\n",
       " 'amount',\n",
       " 'and',\n",
       " 'are',\n",
       " 'by',\n",
       " 'campaigns',\n",
       " 'concert',\n",
       " 'cook',\n",
       " 'day',\n",
       " 'example',\n",
       " 'global',\n",
       " 'google',\n",
       " 'gordon',\n",
       " 'great',\n",
       " 'have',\n",
       " 'in',\n",
       " 'increasing',\n",
       " 'introducing',\n",
       " 'is',\n",
       " 'just',\n",
       " 'launch',\n",
       " 'love',\n",
       " 'new',\n",
       " 'of',\n",
       " 'pollution',\n",
       " 'present',\n",
       " 'ramsay',\n",
       " 'robots',\n",
       " 'see',\n",
       " 'singing',\n",
       " 'stop',\n",
       " 'technlogy',\n",
       " 'technology',\n",
       " 'the',\n",
       " 'to',\n",
       " 'today',\n",
       " 'us',\n",
       " 'warming',\n",
       " 'was',\n",
       " 'we',\n",
       " 'were']"
      ]
     },
     "execution_count": 30,
     "metadata": {},
     "output_type": "execute_result"
    }
   ],
   "source": [
    "words"
   ]
  },
  {
   "cell_type": "code",
   "execution_count": 31,
   "metadata": {},
   "outputs": [
    {
     "name": "stdout",
     "output_type": "stream",
     "text": [
      "\n",
      "Topic 0 ;\n",
      "('great', 0.40984162355340076)\n",
      "('the', 0.37872314722187905)\n",
      "('concert', 0.3574166811716594)\n",
      "('of', 0.27737380673259016)\n",
      "('just', 0.259804752702269)\n",
      "('was', 0.259804752702269)\n",
      "('day', 0.20637669367094524)\n",
      "('all', 0.17077320324892342)\n",
      "('in', 0.17077320324892342)\n",
      "('singing', 0.17077320324892342)\n",
      "\n",
      "Topic 1 ;\n",
      "('to', 0.3218414494137734)\n",
      "('pollution', 0.26410761357197915)\n",
      "('day', 0.2490207719189292)\n",
      "('is', 0.22901149256839073)\n",
      "('cook', 0.19406202788196975)\n",
      "('gordon', 0.19406202788196975)\n",
      "('love', 0.19406202788196975)\n",
      "('ramsay', 0.19406202788196975)\n",
      "('see', 0.19406202788196975)\n",
      "('and', 0.19365863746211864)\n",
      "\n",
      "Topic 2 ;\n",
      "('is', 0.34424073742032524)\n",
      "('google', 0.29368746403512613)\n",
      "('introducing', 0.29368746403512613)\n",
      "('new', 0.29368746403512613)\n",
      "('technlogy', 0.29368746403512613)\n",
      "('day', 0.24203500650628626)\n",
      "('by', 0.12101750325314313)\n",
      "('increasing', 0.12101750325314313)\n",
      "('amount', 0.12101750325314305)\n",
      "('of', 0.046070154585006184)\n",
      "\n",
      "Topic 3 ;\n",
      "('great', 0.36097341569294406)\n",
      "('google', 0.21834424295922916)\n",
      "('introducing', 0.21834424295922916)\n",
      "('new', 0.21834424295922916)\n",
      "('technlogy', 0.21834424295922916)\n",
      "('are', 0.20230022314968046)\n",
      "('example', 0.20230022314968046)\n",
      "('present', 0.20230022314968046)\n",
      "('robots', 0.20230022314968046)\n",
      "('technology', 0.20230022314968046)\n"
     ]
    }
   ],
   "source": [
    "for i,y in enumerate(lsa.components_):\n",
    "    componentwords = zip(words, y)\n",
    "    sortedComponentwords = sorted(componentwords, key = lambda x: x[1],\n",
    "                                reverse=True)\n",
    "    sortedComponentwords = sortedComponentwords[:10]\n",
    "    print (\"\\nTopic\", i, \";\")\n",
    "    for x in sortedComponentwords:\n",
    "        print (x)"
   ]
  },
  {
   "cell_type": "code",
   "execution_count": 37,
   "metadata": {},
   "outputs": [],
   "source": [
    "import gensim\n",
    "from gensim.corpora import dictionary\n",
    "from gensim import corpora\n",
    "from pprint import pprint\n",
    "from gensim.models import CoherenceModel\n",
    "from gensim.models import LsiModel"
   ]
  },
  {
   "cell_type": "code",
   "execution_count": 38,
   "metadata": {},
   "outputs": [],
   "source": [
    "id2word = corpora.Dictionary(text)"
   ]
  },
  {
   "cell_type": "code",
   "execution_count": 40,
   "metadata": {},
   "outputs": [
    {
     "name": "stdout",
     "output_type": "stream",
     "text": [
      "Dictionary(27 unique tokens: ['amount', 'day', 'increasing', 'pollution', 'concert']...)\n"
     ]
    }
   ],
   "source": [
    "print (id2word)"
   ]
  },
  {
   "cell_type": "code",
   "execution_count": 41,
   "metadata": {},
   "outputs": [
    {
     "name": "stdout",
     "output_type": "stream",
     "text": [
      "{'amount': 0, 'day': 1, 'increasing': 2, 'pollution': 3, 'concert': 4, 'great': 5, 'wa': 6, 'cook': 7, 'gordon': 8, 'love': 9, 'ramsay': 10, 'see': 11, 'google': 12, 'introducing': 13, 'new': 14, 'technlogy': 15, 'example': 16, 'present': 17, 'robot': 18, 'technology': 19, 'today': 20, 'singing': 21, 'campaign': 22, 'global': 23, 'launch': 24, 'stop': 25, 'warming': 26}\n"
     ]
    }
   ],
   "source": [
    "print (id2word.token2id)"
   ]
  },
  {
   "cell_type": "code",
   "execution_count": 42,
   "metadata": {},
   "outputs": [],
   "source": [
    "mycorpus = [id2word.doc2bow(s) for s in text]"
   ]
  },
  {
   "cell_type": "code",
   "execution_count": 43,
   "metadata": {},
   "outputs": [
    {
     "data": {
      "text/plain": [
       "[[(0, 1), (1, 2), (2, 1), (3, 1)],\n",
       " [(4, 1), (5, 1), (6, 1)],\n",
       " [(7, 1), (8, 1), (9, 1), (10, 1), (11, 1)],\n",
       " [(12, 1), (13, 1), (14, 1), (15, 1)],\n",
       " [(5, 2), (16, 1), (17, 1), (18, 1), (19, 1), (20, 1)],\n",
       " [(4, 1), (21, 1)],\n",
       " [(3, 1), (22, 1), (23, 1), (24, 1), (25, 1), (26, 1)]]"
      ]
     },
     "execution_count": 43,
     "metadata": {},
     "output_type": "execute_result"
    }
   ],
   "source": [
    "mycorpus"
   ]
  },
  {
   "cell_type": "code",
   "execution_count": 44,
   "metadata": {},
   "outputs": [
    {
     "data": {
      "text/plain": [
       "['amount', 'pollution', 'increasing', 'day', 'day']"
      ]
     },
     "execution_count": 44,
     "metadata": {},
     "output_type": "execute_result"
    }
   ],
   "source": [
    "text[0]\n"
   ]
  },
  {
   "cell_type": "code",
   "execution_count": 66,
   "metadata": {},
   "outputs": [],
   "source": [
    "lsi_model = LsiModel(corpus=mycorpus, id2word=id2word, num_topics=7, decay=0.5)\n",
    "\n",
    "lda_model = gensim.models.ldamodel.LdaModel(corpus=mycorpus,\n",
    "                                           id2word=id2word,\n",
    "                                           num_topics=4, \n",
    "                                           random_state=42,\n",
    "                                           update_every=1,\n",
    "                                           chunksize=100,\n",
    "                                           passes=10,\n",
    "                                           alpha='auto',\n",
    "                                           per_word_topics=True)"
   ]
  },
  {
   "cell_type": "code",
   "execution_count": 69,
   "metadata": {},
   "outputs": [
    {
     "name": "stdout",
     "output_type": "stream",
     "text": [
      "[(0,\n",
      "  '0.711*\"great\" + 0.308*\"example\" + 0.308*\"today\" + 0.308*\"technology\" + '\n",
      "  '0.308*\"robot\" + 0.308*\"present\" + 0.107*\"concert\" + 0.095*\"wa\" + '\n",
      "  '0.012*\"singing\" + -0.000*\"cook\"'),\n",
      " (1,\n",
      "  '0.616*\"day\" + 0.499*\"pollution\" + 0.308*\"increasing\" + 0.308*\"amount\" + '\n",
      "  '0.190*\"stop\" + 0.190*\"launch\" + 0.190*\"warming\" + 0.190*\"campaign\" + '\n",
      "  '0.190*\"global\" + -0.000*\"singing\"'),\n",
      " (2,\n",
      "  '-0.453*\"day\" + 0.367*\"campaign\" + 0.367*\"global\" + 0.367*\"warming\" + '\n",
      "  '0.367*\"stop\" + 0.367*\"launch\" + -0.227*\"amount\" + -0.227*\"increasing\" + '\n",
      "  '0.140*\"pollution\" + -0.000*\"concert\"'),\n",
      " (3,\n",
      "  '0.447*\"cook\" + 0.447*\"ramsay\" + 0.447*\"love\" + 0.447*\"gordon\" + 0.447*\"see\" '\n",
      "  '+ 0.000*\"introducing\" + 0.000*\"technlogy\" + 0.000*\"new\" + 0.000*\"google\" + '\n",
      "  '-0.000*\"concert\"'),\n",
      " (4,\n",
      "  '0.500*\"technlogy\" + 0.500*\"new\" + 0.500*\"google\" + 0.500*\"introducing\" + '\n",
      "  '-0.000*\"gordon\" + -0.000*\"cook\" + -0.000*\"love\" + -0.000*\"see\" + '\n",
      "  '-0.000*\"ramsay\" + -0.000*\"singing\"'),\n",
      " (5,\n",
      "  '-0.766*\"concert\" + -0.413*\"wa\" + -0.353*\"singing\" + 0.142*\"technology\" + '\n",
      "  '0.142*\"robot\" + 0.142*\"present\" + 0.142*\"example\" + 0.142*\"today\" + '\n",
      "  '-0.130*\"great\" + -0.000*\"ramsay\"'),\n",
      " (6,\n",
      "  '-0.705*\"singing\" + 0.554*\"wa\" + 0.269*\"great\" + -0.151*\"concert\" + '\n",
      "  '-0.142*\"example\" + -0.142*\"technology\" + -0.142*\"robot\" + -0.142*\"present\" '\n",
      "  '+ -0.142*\"today\" + -0.000*\"new\"')]\n"
     ]
    }
   ],
   "source": [
    "pprint(lsi_model.print_topics())\n"
   ]
  },
  {
   "cell_type": "code",
   "execution_count": 72,
   "metadata": {},
   "outputs": [],
   "source": [
    "doc_lsa = lsi_model[mycorpus]"
   ]
  },
  {
   "cell_type": "code",
   "execution_count": 73,
   "metadata": {},
   "outputs": [
    {
     "name": "stdout",
     "output_type": "stream",
     "text": [
      "[(0,\n",
      "  '0.127*\"concert\" + 0.070*\"pollution\" + 0.070*\"launch\" + 0.070*\"global\" + '\n",
      "  '0.070*\"stop\" + 0.070*\"warming\" + 0.070*\"campaign\" + 0.070*\"wa\" + '\n",
      "  '0.070*\"great\" + 0.070*\"singing\"'),\n",
      " (1,\n",
      "  '0.116*\"new\" + 0.116*\"introducing\" + 0.116*\"google\" + 0.116*\"technlogy\" + '\n",
      "  '0.023*\"singing\" + 0.023*\"concert\" + 0.023*\"great\" + 0.023*\"pollution\" + '\n",
      "  '0.023*\"wa\" + 0.023*\"day\"'),\n",
      " (2,\n",
      "  '0.120*\"great\" + 0.120*\"day\" + 0.067*\"today\" + 0.067*\"technology\" + '\n",
      "  '0.067*\"present\" + 0.067*\"robot\" + 0.067*\"example\" + 0.067*\"amount\" + '\n",
      "  '0.067*\"increasing\" + 0.067*\"pollution\"'),\n",
      " (3,\n",
      "  '0.106*\"love\" + 0.106*\"ramsay\" + 0.106*\"gordon\" + 0.106*\"cook\" + 0.106*\"see\" '\n",
      "  '+ 0.021*\"technlogy\" + 0.021*\"google\" + 0.021*\"introducing\" + 0.021*\"new\" + '\n",
      "  '0.021*\"singing\"')]\n"
     ]
    }
   ],
   "source": [
    "pprint(lda_model.print_topics())\n",
    "doc_lda = lda_model[mycorpus]"
   ]
  },
  {
   "cell_type": "code",
   "execution_count": 83,
   "metadata": {},
   "outputs": [
    {
     "name": "stdout",
     "output_type": "stream",
     "text": [
      "\n",
      "Coherence Score LSI:  0.49139799970503095\n"
     ]
    }
   ],
   "source": [
    "coherence_model_lsi = CoherenceModel(model=lsi_model, texts=text, dictionary=id2word, coherence='c_v')\n",
    "coherence_lsi = coherence_model_lsi.get_coherence()\n",
    "\n",
    "print('\\nCoherence Score LSI: ', coherence_lsa)"
   ]
  },
  {
   "cell_type": "code",
   "execution_count": 82,
   "metadata": {},
   "outputs": [
    {
     "name": "stdout",
     "output_type": "stream",
     "text": [
      "\n",
      "Coherence Score LDA:  0.5685180008191147\n"
     ]
    }
   ],
   "source": [
    "from gensim.models import CoherenceModel\n",
    "coherence_model_lda = CoherenceModel(model=lda_model, texts=text, dictionary=id2word, coherence='c_v')\n",
    "coherence_lda = coherence_model_lda.get_coherence()\n",
    "\n",
    "print('\\nCoherence Score LDA: ', coherence_lda)"
   ]
  },
  {
   "cell_type": "code",
   "execution_count": 79,
   "metadata": {},
   "outputs": [],
   "source": [
    "import pyLDAvis\n",
    "import pyLDAvis.gensim  # don't skip this\n",
    "import matplotlib.pyplot as plt\n",
    "%matplotlib inline"
   ]
  },
  {
   "cell_type": "code",
   "execution_count": 80,
   "metadata": {},
   "outputs": [
    {
     "data": {
      "text/html": [
       "\n",
       "<link rel=\"stylesheet\" type=\"text/css\" href=\"https://cdn.rawgit.com/bmabey/pyLDAvis/files/ldavis.v1.0.0.css\">\n",
       "\n",
       "\n",
       "<div id=\"ldavis_el1509225839652705681285504096\"></div>\n",
       "<script type=\"text/javascript\">\n",
       "\n",
       "var ldavis_el1509225839652705681285504096_data = {\"mdsDat\": {\"x\": [-0.1108270727737267, -0.012683815254876218, 0.0773382558627259, 0.046172632165877116], \"y\": [-0.05148585776365042, 0.11533060870888627, -0.04156228614505373, -0.022282464800182138], \"topics\": [1, 2, 3, 4], \"cluster\": [1, 1, 1, 1], \"Freq\": [37.348323822021484, 33.92330551147461, 15.937590599060059, 12.790783882141113]}, \"tinfo\": {\"Category\": [\"Default\", \"Default\", \"Default\", \"Default\", \"Default\", \"Default\", \"Default\", \"Default\", \"Default\", \"Default\", \"Default\", \"Default\", \"Default\", \"Default\", \"Default\", \"Default\", \"Default\", \"Default\", \"Default\", \"Default\", \"Default\", \"Default\", \"Default\", \"Default\", \"Default\", \"Default\", \"Default\", \"Topic1\", \"Topic1\", \"Topic1\", \"Topic1\", \"Topic1\", \"Topic1\", \"Topic1\", \"Topic1\", \"Topic1\", \"Topic1\", \"Topic1\", \"Topic1\", \"Topic1\", \"Topic1\", \"Topic1\", \"Topic1\", \"Topic1\", \"Topic1\", \"Topic1\", \"Topic1\", \"Topic1\", \"Topic1\", \"Topic1\", \"Topic1\", \"Topic1\", \"Topic1\", \"Topic1\", \"Topic2\", \"Topic2\", \"Topic2\", \"Topic2\", \"Topic2\", \"Topic2\", \"Topic2\", \"Topic2\", \"Topic2\", \"Topic2\", \"Topic2\", \"Topic2\", \"Topic2\", \"Topic2\", \"Topic2\", \"Topic2\", \"Topic2\", \"Topic2\", \"Topic2\", \"Topic2\", \"Topic2\", \"Topic2\", \"Topic2\", \"Topic2\", \"Topic2\", \"Topic2\", \"Topic2\", \"Topic3\", \"Topic3\", \"Topic3\", \"Topic3\", \"Topic3\", \"Topic3\", \"Topic3\", \"Topic3\", \"Topic3\", \"Topic3\", \"Topic3\", \"Topic3\", \"Topic3\", \"Topic3\", \"Topic3\", \"Topic3\", \"Topic3\", \"Topic3\", \"Topic3\", \"Topic3\", \"Topic3\", \"Topic3\", \"Topic3\", \"Topic3\", \"Topic3\", \"Topic3\", \"Topic3\", \"Topic4\", \"Topic4\", \"Topic4\", \"Topic4\", \"Topic4\", \"Topic4\", \"Topic4\", \"Topic4\", \"Topic4\", \"Topic4\", \"Topic4\", \"Topic4\", \"Topic4\", \"Topic4\", \"Topic4\", \"Topic4\", \"Topic4\", \"Topic4\", \"Topic4\", \"Topic4\", \"Topic4\", \"Topic4\", \"Topic4\", \"Topic4\", \"Topic4\", \"Topic4\", \"Topic4\"], \"Freq\": [0.0, 0.0, 0.0, 0.0, 0.0, 0.0, 0.0, 0.0, 0.0, 1.0, 1.0, 1.0, 1.0, 1.0, 1.0, 1.0, 1.0, 1.0, 1.0, 1.0, 1.0, 1.0, 1.0, 1.0, 1.0, 2.0, 1.0, 1.4340962171554565, 0.7967399954795837, 0.7967380881309509, 0.7967380881309509, 0.7967352867126465, 0.7967332005500793, 0.7967005968093872, 0.7966952919960022, 1.4342862367630005, 0.796373188495636, 0.15940342843532562, 0.1593879759311676, 0.15938633680343628, 0.15938304364681244, 0.1593867391347885, 0.15938393771648407, 0.1593836545944214, 0.15938137471675873, 0.15938054025173187, 0.15942488610744476, 0.159394770860672, 0.1593797206878662, 0.15937820076942444, 0.15937601029872894, 0.15937623381614685, 0.15937229990959167, 0.1594480574131012, 1.375851035118103, 0.7644369602203369, 0.7644323706626892, 0.7644248604774475, 0.7644219398498535, 0.7644166946411133, 0.7643627524375916, 0.7642731070518494, 0.7647842764854431, 0.7643160820007324, 0.15294386446475983, 0.15293294191360474, 0.15292979776859283, 0.15292656421661377, 0.15292955935001373, 0.15292644500732422, 0.15292347967624664, 0.15292075276374817, 0.1529172956943512, 0.15293005108833313, 0.15292969346046448, 0.15291759371757507, 0.15291732549667358, 0.15291719138622284, 0.15291598439216614, 0.15291449427604675, 0.15294316411018372, 0.5424283742904663, 0.5424239635467529, 0.542422354221344, 0.5424180030822754, 0.5424136519432068, 0.10869939625263214, 0.10867096483707428, 0.10864757001399994, 0.10861478745937347, 0.10854631662368774, 0.10852403193712234, 0.10851271450519562, 0.10851035267114639, 0.10850851237773895, 0.10850828140974045, 0.10850805789232254, 0.10851535201072693, 0.10851235687732697, 0.10850701481103897, 0.10850614309310913, 0.10850521177053452, 0.1085042729973793, 0.10850369185209274, 0.10853911191225052, 0.10853113234043121, 0.10851941257715225, 0.1085282489657402, 0.4758325219154358, 0.4758008122444153, 0.4757744371891022, 0.4757440984249115, 0.09521116316318512, 0.09520966559648514, 0.09520979970693588, 0.09520795196294785, 0.0952063798904419, 0.09524154663085938, 0.0952233150601387, 0.09521076828241348, 0.09520826488733292, 0.09520766884088516, 0.0952049195766449, 0.09520461410284042, 0.09521381556987762, 0.09520820528268814, 0.09520496428012848, 0.09520384669303894, 0.09520363807678223, 0.09520338475704193, 0.09520210325717926, 0.0952414721250534, 0.09522391855716705, 0.0952175185084343, 0.09523014724254608], \"Term\": [\"new\", \"introducing\", \"google\", \"technlogy\", \"love\", \"ramsay\", \"gordon\", \"cook\", \"see\", \"concert\", \"day\", \"launch\", \"global\", \"warming\", \"stop\", \"campaign\", \"wa\", \"singing\", \"technology\", \"robot\", \"present\", \"today\", \"example\", \"increasing\", \"amount\", \"great\", \"pollution\", \"day\", \"today\", \"technology\", \"present\", \"robot\", \"example\", \"amount\", \"increasing\", \"great\", \"pollution\", \"technlogy\", \"introducing\", \"new\", \"google\", \"see\", \"ramsay\", \"love\", \"cook\", \"gordon\", \"singing\", \"wa\", \"campaign\", \"stop\", \"warming\", \"global\", \"launch\", \"concert\", \"concert\", \"launch\", \"global\", \"stop\", \"warming\", \"campaign\", \"wa\", \"singing\", \"pollution\", \"great\", \"google\", \"technlogy\", \"introducing\", \"new\", \"see\", \"cook\", \"gordon\", \"ramsay\", \"love\", \"increasing\", \"amount\", \"example\", \"today\", \"present\", \"robot\", \"technology\", \"day\", \"love\", \"ramsay\", \"gordon\", \"cook\", \"see\", \"technlogy\", \"google\", \"introducing\", \"new\", \"singing\", \"wa\", \"warming\", \"campaign\", \"stop\", \"global\", \"launch\", \"amount\", \"increasing\", \"example\", \"technology\", \"robot\", \"today\", \"present\", \"concert\", \"pollution\", \"day\", \"great\", \"new\", \"introducing\", \"google\", \"technlogy\", \"cook\", \"gordon\", \"see\", \"ramsay\", \"love\", \"singing\", \"wa\", \"campaign\", \"stop\", \"warming\", \"global\", \"launch\", \"increasing\", \"amount\", \"robot\", \"present\", \"example\", \"technology\", \"today\", \"concert\", \"pollution\", \"day\", \"great\"], \"Total\": [0.0, 0.0, 0.0, 0.0, 0.0, 0.0, 0.0, 0.0, 0.0, 1.0, 1.0, 1.0, 1.0, 1.0, 1.0, 1.0, 1.0, 1.0, 1.0, 1.0, 1.0, 1.0, 1.0, 1.0, 1.0, 2.0, 1.0, 1.790776252746582, 1.1533637046813965, 1.1533620357513428, 1.1533628702163696, 1.153361439704895, 1.153361439704895, 1.1533538103103638, 1.1533515453338623, 2.402360439300537, 1.764912486076355, 0.8967798948287964, 0.896766185760498, 0.8967602252960205, 0.8967722654342651, 0.9499397277832031, 0.94993656873703, 0.9499356746673584, 0.9499369859695435, 0.949936032295227, 1.1274858713150024, 1.1275049448013306, 1.127517580986023, 1.1275198459625244, 1.1275184154510498, 1.1275217533111572, 1.1275219917297363, 1.7390795946121216, 1.7390795946121216, 1.1275219917297363, 1.1275217533111572, 1.1275198459625244, 1.1275184154510498, 1.127517580986023, 1.1275049448013306, 1.1274858713150024, 1.764912486076355, 2.402360439300537, 0.8967722654342651, 0.8967798948287964, 0.896766185760498, 0.8967602252960205, 0.9499397277832031, 0.9499369859695435, 0.949936032295227, 0.94993656873703, 0.9499356746673584, 1.1533515453338623, 1.1533538103103638, 1.153361439704895, 1.1533637046813965, 1.1533628702163696, 1.153361439704895, 1.1533620357513428, 1.790776252746582, 0.9499356746673584, 0.94993656873703, 0.949936032295227, 0.9499369859695435, 0.9499397277832031, 0.8967798948287964, 0.8967722654342651, 0.896766185760498, 0.8967602252960205, 1.1274858713150024, 1.1275049448013306, 1.1275184154510498, 1.127517580986023, 1.1275198459625244, 1.1275217533111572, 1.1275219917297363, 1.1533538103103638, 1.1533515453338623, 1.153361439704895, 1.1533620357513428, 1.153361439704895, 1.1533637046813965, 1.1533628702163696, 1.7390795946121216, 1.764912486076355, 1.790776252746582, 2.402360439300537, 0.8967602252960205, 0.896766185760498, 0.8967722654342651, 0.8967798948287964, 0.9499369859695435, 0.949936032295227, 0.9499397277832031, 0.94993656873703, 0.9499356746673584, 1.1274858713150024, 1.1275049448013306, 1.127517580986023, 1.1275198459625244, 1.1275184154510498, 1.1275217533111572, 1.1275219917297363, 1.1533515453338623, 1.1533538103103638, 1.153361439704895, 1.1533628702163696, 1.153361439704895, 1.1533620357513428, 1.1533637046813965, 1.7390795946121216, 1.764912486076355, 1.790776252746582, 2.402360439300537], \"loglift\": [27.0, 26.0, 25.0, 24.0, 23.0, 22.0, 21.0, 20.0, 19.0, 18.0, 17.0, 16.0, 15.0, 14.0, 13.0, 12.0, 11.0, 10.0, 9.0, 8.0, 7.0, 6.0, 5.0, 4.0, 3.0, 2.0, 1.0, 0.7627999782562256, 0.6150000095367432, 0.6150000095367432, 0.6150000095367432, 0.6150000095367432, 0.6150000095367432, 0.6148999929428101, 0.6148999929428101, 0.4690999984741211, 0.1890999972820282, -0.7425000071525574, -0.7426000237464905, -0.7426000237464905, -0.7426000237464905, -0.8001999855041504, -0.8001999855041504, -0.8001999855041504, -0.8001999855041504, -0.8001999855041504, -0.9713000059127808, -0.9714999794960022, -0.9715999960899353, -0.9715999960899353, -0.9715999960899353, -0.9715999960899353, -0.9717000126838684, -1.4045000076293945, 0.8468000292778015, 0.6923999786376953, 0.6923999786376953, 0.6923999786376953, 0.6923999786376953, 0.6923999786376953, 0.692300021648407, 0.6922000050544739, 0.24480000138282776, -0.06419999897480011, -0.6876999735832214, -0.6876999735832214, -0.6876999735832214, -0.6877999901771545, -0.7454000115394592, -0.7454000115394592, -0.7454000115394592, -0.7454000115394592, -0.7454000115394592, -0.9394000172615051, -0.9394000172615051, -0.9394999742507935, -0.9394999742507935, -0.9394999742507935, -0.9394999742507935, -0.9394999742507935, -1.3792999982833862, 1.2762000560760498, 1.2761000394821167, 1.2761000394821167, 1.2761000394821167, 1.2761000394821167, -0.2736999988555908, -0.27399998903274536, -0.2741999924182892, -0.2745000123977661, -0.5041000247001648, -0.5042999982833862, -0.5044000148773193, -0.5044000148773193, -0.5044999718666077, -0.5044999718666077, -0.5044999718666077, -0.5270000100135803, -0.5271000266075134, -0.5271000266075134, -0.5271000266075134, -0.5271000266075134, -0.5271999835968018, -0.5271999835968018, -0.9375, -0.9523000121116638, -0.9670000076293945, -1.260699987411499, 1.422700047492981, 1.4226000308990479, 1.4226000308990479, 1.4225000143051147, -0.24390000104904175, -0.24390000104904175, -0.24390000104904175, -0.24390000104904175, -0.24390000104904175, -0.414900004863739, -0.41510000824928284, -0.41519999504089355, -0.41530001163482666, -0.41530001163482666, -0.41530001163482666, -0.41530001163482666, -0.43790000677108765, -0.43790000677108765, -0.43799999356269836, -0.43799999356269836, -0.43799999356269836, -0.43799999356269836, -0.43799999356269836, -0.8482999801635742, -0.8632000088691711, -0.8777999877929688, -1.1714999675750732], \"logprob\": [27.0, 26.0, 25.0, 24.0, 23.0, 22.0, 21.0, 20.0, 19.0, 18.0, 17.0, 16.0, 15.0, 14.0, 13.0, 12.0, 11.0, 10.0, 9.0, 8.0, 7.0, 6.0, 5.0, 4.0, 3.0, 2.0, 1.0, -2.120300054550171, -2.7081000804901123, -2.7081000804901123, -2.7081000804901123, -2.7081000804901123, -2.7081000804901123, -2.7081000804901123, -2.7081000804901123, -2.1201999187469482, -2.7084999084472656, -4.317200183868408, -4.317299842834473, -4.317299842834473, -4.317299842834473, -4.317299842834473, -4.317299842834473, -4.317299842834473, -4.317299842834473, -4.317299842834473, -4.316999912261963, -4.317200183868408, -4.317299842834473, -4.317299842834473, -4.317299842834473, -4.317299842834473, -4.317399978637695, -4.31689977645874, -2.0655999183654785, -2.6533000469207764, -2.6533000469207764, -2.6533000469207764, -2.6533000469207764, -2.6533000469207764, -2.65339994430542, -2.6535000801086426, -2.6528000831604004, -2.65339994430542, -4.262400150299072, -4.262400150299072, -4.262400150299072, -4.262499809265137, -4.262400150299072, -4.262499809265137, -4.262499809265137, -4.262499809265137, -4.262499809265137, -4.262400150299072, -4.262400150299072, -4.262499809265137, -4.262499809265137, -4.262499809265137, -4.262499809265137, -4.262499809265137, -4.262400150299072, -2.2409000396728516, -2.240999937057495, -2.240999937057495, -2.240999937057495, -2.240999937057495, -3.848400115966797, -3.8487000465393066, -3.848900079727173, -3.8492000102996826, -3.8498001098632812, -3.8499999046325684, -3.850100040435791, -3.8501999378204346, -3.8501999378204346, -3.8501999378204346, -3.8501999378204346, -3.850100040435791, -3.850100040435791, -3.8501999378204346, -3.8501999378204346, -3.8501999378204346, -3.8501999378204346, -3.8501999378204346, -3.849900007247925, -3.8499999046325684, -3.850100040435791, -3.8499999046325684, -2.1519999504089355, -2.1519999504089355, -2.152100086212158, -2.1521999835968018, -3.7609000205993652, -3.760999917984009, -3.760999917984009, -3.760999917984009, -3.760999917984009, -3.7606000900268555, -3.7607998847961426, -3.760999917984009, -3.760999917984009, -3.760999917984009, -3.760999917984009, -3.760999917984009, -3.7609000205993652, -3.760999917984009, -3.760999917984009, -3.760999917984009, -3.760999917984009, -3.760999917984009, -3.760999917984009, -3.7606000900268555, -3.7607998847961426, -3.7609000205993652, -3.760699987411499]}, \"token.table\": {\"Topic\": [1, 2, 2, 3, 1, 1, 2, 3, 1, 2, 1, 2, 3, 1, 2, 1, 3, 1, 3, 2, 2, 1, 1, 2, 2], \"Freq\": [0.8670366406440735, 0.8869041204452515, 0.5750167965888977, 1.0527013540267944, 0.5584170818328857, 0.867030918598175, 0.8869008421897888, 1.0527024269104004, 0.41625726222991943, 0.41625726222991943, 0.8670383095741272, 0.8869006633758545, 1.0527029037475586, 0.5666003227233887, 0.5666003227233887, 0.8670298457145691, 1.0527018308639526, 0.867030918598175, 1.0526983737945557, 0.8869290947914124, 0.8869023323059082, 0.8670304417610168, 0.8670291900634766, 0.886914074420929, 0.8869034647941589], \"Term\": [\"amount\", \"campaign\", \"concert\", \"cook\", \"day\", \"example\", \"global\", \"gordon\", \"great\", \"great\", \"increasing\", \"launch\", \"love\", \"pollution\", \"pollution\", \"present\", \"ramsay\", \"robot\", \"see\", \"singing\", \"stop\", \"technology\", \"today\", \"wa\", \"warming\"]}, \"R\": 27, \"lambda.step\": 0.01, \"plot.opts\": {\"xlab\": \"PC1\", \"ylab\": \"PC2\"}, \"topic.order\": [3, 1, 4, 2]};\n",
       "\n",
       "function LDAvis_load_lib(url, callback){\n",
       "  var s = document.createElement('script');\n",
       "  s.src = url;\n",
       "  s.async = true;\n",
       "  s.onreadystatechange = s.onload = callback;\n",
       "  s.onerror = function(){console.warn(\"failed to load library \" + url);};\n",
       "  document.getElementsByTagName(\"head\")[0].appendChild(s);\n",
       "}\n",
       "\n",
       "if(typeof(LDAvis) !== \"undefined\"){\n",
       "   // already loaded: just create the visualization\n",
       "   !function(LDAvis){\n",
       "       new LDAvis(\"#\" + \"ldavis_el1509225839652705681285504096\", ldavis_el1509225839652705681285504096_data);\n",
       "   }(LDAvis);\n",
       "}else if(typeof define === \"function\" && define.amd){\n",
       "   // require.js is available: use it to load d3/LDAvis\n",
       "   require.config({paths: {d3: \"https://cdnjs.cloudflare.com/ajax/libs/d3/3.5.5/d3.min\"}});\n",
       "   require([\"d3\"], function(d3){\n",
       "      window.d3 = d3;\n",
       "      LDAvis_load_lib(\"https://cdn.rawgit.com/bmabey/pyLDAvis/files/ldavis.v1.0.0.js\", function(){\n",
       "        new LDAvis(\"#\" + \"ldavis_el1509225839652705681285504096\", ldavis_el1509225839652705681285504096_data);\n",
       "      });\n",
       "    });\n",
       "}else{\n",
       "    // require.js not available: dynamically load d3 & LDAvis\n",
       "    LDAvis_load_lib(\"https://cdnjs.cloudflare.com/ajax/libs/d3/3.5.5/d3.min.js\", function(){\n",
       "         LDAvis_load_lib(\"https://cdn.rawgit.com/bmabey/pyLDAvis/files/ldavis.v1.0.0.js\", function(){\n",
       "                 new LDAvis(\"#\" + \"ldavis_el1509225839652705681285504096\", ldavis_el1509225839652705681285504096_data);\n",
       "            })\n",
       "         });\n",
       "}\n",
       "</script>"
      ],
      "text/plain": [
       "PreparedData(topic_coordinates=              x         y  topics  cluster       Freq\n",
       "topic                                                \n",
       "2     -0.110827 -0.051486       1        1  37.348324\n",
       "0     -0.012684  0.115331       2        1  33.923306\n",
       "3      0.077338 -0.041562       3        1  15.937591\n",
       "1      0.046173 -0.022282       4        1  12.790784, topic_info=   Category      Freq         Term     Total  loglift  logprob\n",
       "14  Default  0.000000          new  0.000000  27.0000  27.0000\n",
       "13  Default  0.000000  introducing  0.000000  26.0000  26.0000\n",
       "12  Default  0.000000       google  0.000000  25.0000  25.0000\n",
       "15  Default  0.000000    technlogy  0.000000  24.0000  24.0000\n",
       "9   Default  0.000000         love  0.000000  23.0000  23.0000\n",
       "..      ...       ...          ...       ...      ...      ...\n",
       "20   Topic4  0.095202        today  1.153364  -0.4380  -3.7610\n",
       "4    Topic4  0.095241      concert  1.739080  -0.8483  -3.7606\n",
       "3    Topic4  0.095224    pollution  1.764912  -0.8632  -3.7608\n",
       "1    Topic4  0.095218          day  1.790776  -0.8778  -3.7609\n",
       "5    Topic4  0.095230        great  2.402360  -1.1715  -3.7607\n",
       "\n",
       "[135 rows x 6 columns], token_table=      Topic      Freq        Term\n",
       "term                             \n",
       "0         1  0.867037      amount\n",
       "22        2  0.886904    campaign\n",
       "4         2  0.575017     concert\n",
       "7         3  1.052701        cook\n",
       "1         1  0.558417         day\n",
       "16        1  0.867031     example\n",
       "23        2  0.886901      global\n",
       "8         3  1.052702      gordon\n",
       "5         1  0.416257       great\n",
       "5         2  0.416257       great\n",
       "2         1  0.867038  increasing\n",
       "24        2  0.886901      launch\n",
       "9         3  1.052703        love\n",
       "3         1  0.566600   pollution\n",
       "3         2  0.566600   pollution\n",
       "17        1  0.867030     present\n",
       "10        3  1.052702      ramsay\n",
       "18        1  0.867031       robot\n",
       "11        3  1.052698         see\n",
       "21        2  0.886929     singing\n",
       "25        2  0.886902        stop\n",
       "19        1  0.867030  technology\n",
       "20        1  0.867029       today\n",
       "6         2  0.886914          wa\n",
       "26        2  0.886903     warming, R=27, lambda_step=0.01, plot_opts={'xlab': 'PC1', 'ylab': 'PC2'}, topic_order=[3, 1, 4, 2])"
      ]
     },
     "execution_count": 80,
     "metadata": {},
     "output_type": "execute_result"
    }
   ],
   "source": [
    "# LDA model \n",
    "pyLDAvis.enable_notebook()\n",
    "vis = pyLDAvis.gensim.prepare(lda_model, mycorpus, id2word)\n",
    "vis"
   ]
  },
  {
   "cell_type": "code",
   "execution_count": 81,
   "metadata": {},
   "outputs": [],
   "source": [
    "def compute_coherence_values(dictionary, corpus, texts, limit, start=2, step=3):\n",
    "    \"\"\"\n",
    "    Compute c_v coherence for various number of topics\n",
    "\n",
    "    Parameters:\n",
    "    ----------\n",
    "    dictionary : Gensim dictionary\n",
    "    corpus : Gensim corpus\n",
    "    texts : List of input texts\n",
    "    limit : Max num of topics\n",
    "\n",
    "    Returns:\n",
    "    -------\n",
    "    model_list : List of LDA topic models\n",
    "    coherence_values : Coherence values corresponding to the LDA model with respective number of topics\n",
    "    \"\"\"\n",
    "    coherence_values = []\n",
    "    model_list = []\n",
    "    for num_topics in range(start, limit, step):\n",
    "        model = gensim.models.ldamodel.LdaModel(corpus=mycorpus, num_topics=num_topics, id2word=id2word)\n",
    "        model_list.append(model)\n",
    "        coherencemodel = CoherenceModel(model=model, texts=texts, dictionary=dictionary, coherence='c_v')\n",
    "        coherence_values.append(coherencemodel.get_coherence())\n",
    "\n",
    "    return model_list, coherence_values"
   ]
  },
  {
   "cell_type": "code",
   "execution_count": 86,
   "metadata": {},
   "outputs": [],
   "source": [
    "model_list, coherence_values = compute_coherence_values(dictionary=id2word, corpus=mycorpus, texts=text, start=2, limit=40, step=6)"
   ]
  },
  {
   "cell_type": "code",
   "execution_count": 87,
   "metadata": {},
   "outputs": [
    {
     "data": {
      "image/png": "[encoded data removed]",
      "text/plain": [
       "<Figure size 432x288 with 1 Axes>"
      ]
     },
     "metadata": {
      "needs_background": "light"
     },
     "output_type": "display_data"
    }
   ],
   "source": [
    "limit=40; start=2; step=6;\n",
    "x = range(start, limit, step)\n",
    "plt.plot(x, coherence_values)\n",
    "plt.xlabel(\"Num Topics\")\n",
    "plt.ylabel(\"Coherence score\")\n",
    "plt.legend((\"coherence_values\"), loc='best')\n",
    "plt.show()\n"
   ]
  },
  {
   "cell_type": "code",
   "execution_count": 88,
   "metadata": {},
   "outputs": [
    {
     "name": "stdout",
     "output_type": "stream",
     "text": [
      "Num Topics = 2  has Coherence Value of 0.5522\n",
      "Num Topics = 8  has Coherence Value of 0.5961\n",
      "Num Topics = 14  has Coherence Value of 0.6023\n",
      "Num Topics = 20  has Coherence Value of 0.5664\n",
      "Num Topics = 26  has Coherence Value of 0.5688\n",
      "Num Topics = 32  has Coherence Value of 0.5691\n",
      "Num Topics = 38  has Coherence Value of 0.5693\n"
     ]
    }
   ],
   "source": [
    "for m, cv in zip(x, coherence_values):\n",
    "    print(\"Num Topics =\", m, \" has Coherence Value of\", round(cv, 4))\n"
   ]
  },
  {
   "cell_type": "code",
   "execution_count": null,
   "metadata": {},
   "outputs": [],
   "source": []
  }
 ],
 "metadata": {
  "kernelspec": {
   "display_name": "Python 3",
   "language": "python",
   "name": "python3"
  },
  "language_info": {
   "codemirror_mode": {
    "name": "ipython",
    "version": 3
   },
   "file_extension": ".py",
   "mimetype": "text/x-python",
   "name": "python",
   "nbconvert_exporter": "python",
   "pygments_lexer": "ipython3",
   "version": "3.7.3"
  }
 },
 "nbformat": 4,
 "nbformat_minor": 2
}
