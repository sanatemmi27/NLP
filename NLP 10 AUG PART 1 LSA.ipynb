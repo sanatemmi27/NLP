{
 "cells": [
  {
   "cell_type": "markdown",
   "metadata": {},
   "source": [
    "# DATA"
   ]
  },
  {
   "cell_type": "code",
   "execution_count": 1,
   "metadata": {},
   "outputs": [],
   "source": [
    "import pandas as pd\n",
    "import numpy as np\n",
    "import os\n",
    "os.chdir(\"G:/SEM 3 DATA SCIENCE/NLP\")"
   ]
  },
  {
   "cell_type": "code",
   "execution_count": 2,
   "metadata": {},
   "outputs": [
    {
     "name": "stderr",
     "output_type": "stream",
     "text": [
      "C:\\Users\\Devyani\\Anaconda3\\lib\\site-packages\\IPython\\core\\interactiveshell.py:3020: DtypeWarning: Columns (5,6,11,16) have mixed types. Specify dtype option on import or set low_memory=False.\n",
      "  interactivity=interactivity, compiler=compiler, result=result)\n"
     ]
    },
    {
     "data": {
      "text/html": [
       "<div>\n",
       "<style scoped>\n",
       "    .dataframe tbody tr th:only-of-type {\n",
       "        vertical-align: middle;\n",
       "    }\n",
       "\n",
       "    .dataframe tbody tr th {\n",
       "        vertical-align: top;\n",
       "    }\n",
       "\n",
       "    .dataframe thead th {\n",
       "        text-align: right;\n",
       "    }\n",
       "</style>\n",
       "<table border=\"1\" class=\"dataframe\">\n",
       "  <thead>\n",
       "    <tr style=\"text-align: right;\">\n",
       "      <th></th>\n",
       "      <th>Date received</th>\n",
       "      <th>Product</th>\n",
       "      <th>Sub-product</th>\n",
       "      <th>Issue</th>\n",
       "      <th>Sub-issue</th>\n",
       "      <th>Consumer complaint narrative</th>\n",
       "      <th>Company public response</th>\n",
       "      <th>Company</th>\n",
       "      <th>State</th>\n",
       "      <th>ZIP code</th>\n",
       "      <th>Tags</th>\n",
       "      <th>Consumer consent provided?</th>\n",
       "      <th>Submitted via</th>\n",
       "      <th>Date sent to company</th>\n",
       "      <th>Company response to consumer</th>\n",
       "      <th>Timely response?</th>\n",
       "      <th>Consumer disputed?</th>\n",
       "      <th>Complaint ID</th>\n",
       "    </tr>\n",
       "  </thead>\n",
       "  <tbody>\n",
       "    <tr>\n",
       "      <th>0</th>\n",
       "      <td>07/17/2019</td>\n",
       "      <td>Credit reporting, credit repair services, or o...</td>\n",
       "      <td>Credit reporting</td>\n",
       "      <td>Incorrect information on your report</td>\n",
       "      <td>Account status incorrect</td>\n",
       "      <td>NaN</td>\n",
       "      <td>NaN</td>\n",
       "      <td>ALLY FINANCIAL INC.</td>\n",
       "      <td>TX</td>\n",
       "      <td>75035</td>\n",
       "      <td>NaN</td>\n",
       "      <td>NaN</td>\n",
       "      <td>Web</td>\n",
       "      <td>07/17/2019</td>\n",
       "      <td>In progress</td>\n",
       "      <td>Yes</td>\n",
       "      <td>NaN</td>\n",
       "      <td>3309495</td>\n",
       "    </tr>\n",
       "    <tr>\n",
       "      <th>1</th>\n",
       "      <td>07/17/2019</td>\n",
       "      <td>Credit card or prepaid card</td>\n",
       "      <td>General-purpose prepaid card</td>\n",
       "      <td>Trouble using the card</td>\n",
       "      <td>Problem using the card to withdraw money from ...</td>\n",
       "      <td>NaN</td>\n",
       "      <td>NaN</td>\n",
       "      <td>SQUARE INC</td>\n",
       "      <td>KS</td>\n",
       "      <td>674XX</td>\n",
       "      <td>NaN</td>\n",
       "      <td>NaN</td>\n",
       "      <td>Web</td>\n",
       "      <td>07/17/2019</td>\n",
       "      <td>In progress</td>\n",
       "      <td>Yes</td>\n",
       "      <td>NaN</td>\n",
       "      <td>3310031</td>\n",
       "    </tr>\n",
       "    <tr>\n",
       "      <th>2</th>\n",
       "      <td>07/17/2019</td>\n",
       "      <td>Debt collection</td>\n",
       "      <td>Other debt</td>\n",
       "      <td>Took or threatened to take negative or legal a...</td>\n",
       "      <td>Threatened or suggested your credit would be d...</td>\n",
       "      <td>NaN</td>\n",
       "      <td>NaN</td>\n",
       "      <td>Diversified Consultants, Inc.</td>\n",
       "      <td>FL</td>\n",
       "      <td>NaN</td>\n",
       "      <td>NaN</td>\n",
       "      <td>NaN</td>\n",
       "      <td>Web</td>\n",
       "      <td>07/17/2019</td>\n",
       "      <td>In progress</td>\n",
       "      <td>Yes</td>\n",
       "      <td>NaN</td>\n",
       "      <td>3309687</td>\n",
       "    </tr>\n",
       "    <tr>\n",
       "      <th>3</th>\n",
       "      <td>07/17/2019</td>\n",
       "      <td>Mortgage</td>\n",
       "      <td>VA mortgage</td>\n",
       "      <td>Trouble during payment process</td>\n",
       "      <td>NaN</td>\n",
       "      <td>NaN</td>\n",
       "      <td>NaN</td>\n",
       "      <td>FLAGSTAR BANK, FSB</td>\n",
       "      <td>VA</td>\n",
       "      <td>22554</td>\n",
       "      <td>Servicemember</td>\n",
       "      <td>NaN</td>\n",
       "      <td>Web</td>\n",
       "      <td>07/17/2019</td>\n",
       "      <td>In progress</td>\n",
       "      <td>Yes</td>\n",
       "      <td>NaN</td>\n",
       "      <td>3308925</td>\n",
       "    </tr>\n",
       "    <tr>\n",
       "      <th>4</th>\n",
       "      <td>07/17/2019</td>\n",
       "      <td>Debt collection</td>\n",
       "      <td>Other debt</td>\n",
       "      <td>Attempts to collect debt not owed</td>\n",
       "      <td>Debt is not yours</td>\n",
       "      <td>NaN</td>\n",
       "      <td>Company believes it acted appropriately as aut...</td>\n",
       "      <td>BYL Collection Services</td>\n",
       "      <td>TN</td>\n",
       "      <td>370XX</td>\n",
       "      <td>Servicemember</td>\n",
       "      <td>NaN</td>\n",
       "      <td>Web</td>\n",
       "      <td>07/17/2019</td>\n",
       "      <td>Closed with explanation</td>\n",
       "      <td>Yes</td>\n",
       "      <td>NaN</td>\n",
       "      <td>3308914</td>\n",
       "    </tr>\n",
       "  </tbody>\n",
       "</table>\n",
       "</div>"
      ],
      "text/plain": [
       "  Date received                                            Product  \\\n",
       "0    07/17/2019  Credit reporting, credit repair services, or o...   \n",
       "1    07/17/2019                        Credit card or prepaid card   \n",
       "2    07/17/2019                                    Debt collection   \n",
       "3    07/17/2019                                           Mortgage   \n",
       "4    07/17/2019                                    Debt collection   \n",
       "\n",
       "                    Sub-product  \\\n",
       "0              Credit reporting   \n",
       "1  General-purpose prepaid card   \n",
       "2                    Other debt   \n",
       "3                   VA mortgage   \n",
       "4                    Other debt   \n",
       "\n",
       "                                               Issue  \\\n",
       "0               Incorrect information on your report   \n",
       "1                             Trouble using the card   \n",
       "2  Took or threatened to take negative or legal a...   \n",
       "3                     Trouble during payment process   \n",
       "4                  Attempts to collect debt not owed   \n",
       "\n",
       "                                           Sub-issue  \\\n",
       "0                           Account status incorrect   \n",
       "1  Problem using the card to withdraw money from ...   \n",
       "2  Threatened or suggested your credit would be d...   \n",
       "3                                                NaN   \n",
       "4                                  Debt is not yours   \n",
       "\n",
       "  Consumer complaint narrative  \\\n",
       "0                          NaN   \n",
       "1                          NaN   \n",
       "2                          NaN   \n",
       "3                          NaN   \n",
       "4                          NaN   \n",
       "\n",
       "                             Company public response  \\\n",
       "0                                                NaN   \n",
       "1                                                NaN   \n",
       "2                                                NaN   \n",
       "3                                                NaN   \n",
       "4  Company believes it acted appropriately as aut...   \n",
       "\n",
       "                         Company State ZIP code           Tags  \\\n",
       "0            ALLY FINANCIAL INC.    TX    75035            NaN   \n",
       "1                     SQUARE INC    KS    674XX            NaN   \n",
       "2  Diversified Consultants, Inc.    FL      NaN            NaN   \n",
       "3             FLAGSTAR BANK, FSB    VA    22554  Servicemember   \n",
       "4        BYL Collection Services    TN    370XX  Servicemember   \n",
       "\n",
       "  Consumer consent provided? Submitted via Date sent to company  \\\n",
       "0                        NaN           Web           07/17/2019   \n",
       "1                        NaN           Web           07/17/2019   \n",
       "2                        NaN           Web           07/17/2019   \n",
       "3                        NaN           Web           07/17/2019   \n",
       "4                        NaN           Web           07/17/2019   \n",
       "\n",
       "  Company response to consumer Timely response? Consumer disputed?  \\\n",
       "0                  In progress              Yes                NaN   \n",
       "1                  In progress              Yes                NaN   \n",
       "2                  In progress              Yes                NaN   \n",
       "3                  In progress              Yes                NaN   \n",
       "4      Closed with explanation              Yes                NaN   \n",
       "\n",
       "   Complaint ID  \n",
       "0       3309495  \n",
       "1       3310031  \n",
       "2       3309687  \n",
       "3       3308925  \n",
       "4       3308914  "
      ]
     },
     "execution_count": 2,
     "metadata": {},
     "output_type": "execute_result"
    }
   ],
   "source": [
    "df = pd.read_csv(\"Consumer_Complaints (1).csv\")\n",
    "df.head()"
   ]
  },
  {
   "cell_type": "code",
   "execution_count": 35,
   "metadata": {},
   "outputs": [],
   "source": [
    "df1 = df[[\"Consumer complaint narrative\"]]"
   ]
  },
  {
   "cell_type": "markdown",
   "metadata": {},
   "source": [
    "# Preprocessing"
   ]
  },
  {
   "cell_type": "markdown",
   "metadata": {},
   "source": [
    "Removing Null Values"
   ]
  },
  {
   "cell_type": "code",
   "execution_count": 36,
   "metadata": {},
   "outputs": [
    {
     "data": {
      "text/plain": [
       "Consumer complaint narrative    938347\n",
       "dtype: int64"
      ]
     },
     "execution_count": 36,
     "metadata": {},
     "output_type": "execute_result"
    }
   ],
   "source": [
    "df1.isnull().sum()"
   ]
  },
  {
   "cell_type": "code",
   "execution_count": 37,
   "metadata": {},
   "outputs": [
    {
     "data": {
      "text/plain": [
       "Consumer complaint narrative    0\n",
       "dtype: int64"
      ]
     },
     "execution_count": 37,
     "metadata": {},
     "output_type": "execute_result"
    }
   ],
   "source": [
    "df1 = df1.dropna()\n",
    "df1.isnull().sum()"
   ]
  },
  {
   "cell_type": "markdown",
   "metadata": {},
   "source": [
    "Cleaning the classes"
   ]
  },
  {
   "cell_type": "markdown",
   "metadata": {},
   "source": [
    "Selecting First 100 Rows"
   ]
  },
  {
   "cell_type": "code",
   "execution_count": 38,
   "metadata": {},
   "outputs": [
    {
     "data": {
      "text/plain": [
       "(100, 1)"
      ]
     },
     "execution_count": 38,
     "metadata": {},
     "output_type": "execute_result"
    }
   ],
   "source": [
    "df1 = df1.iloc[:100] \n",
    "df1.shape"
   ]
  },
  {
   "cell_type": "code",
   "execution_count": 39,
   "metadata": {},
   "outputs": [
    {
     "data": {
      "text/plain": [
       "[\"!!!!!! This is not a Duplicate!!!! I have contacted XXXX XXXX and Experian about a fraudulent collection account being reported on my credit file. XXXX XXXX about a fraudulent debt that was placed on my credit report. Someone attempted to rent an apartment in my name and the fees associated with them submitting an application in my name have been attached to my credit file. I have contacted XXXX XXXX and told them directly the account they were reporting was fraud and they have been verbally abusive to me, and refused to remove the account from my credit file even though they know the collection is as a result of identity fraud. I have contacted XXXX XXXX in Experian 's Consumer Relations Department 7 times in total and left voice mail messages for him and he has never returned any of my very detailed messages. I was told by Experian to contact XXXX XXXX when I noticed information on my credit file that was fraudulent. I have done as I was asked to do, but in all of the 7 detailed messages I left for XXXX XXXX over the course of 2 weeks he has not responded to any of them and has not blocked the fraudulent collection account that XXXX has placed against my credit. I have provided XXXX XXXX and XXXX XXXX a copy of my very recent police report regarding the fraud that was committed against me and they both have refused to abide by the FCRA Section 605 B, and are defaming my character and intentionally inflicting emotional distress by reporting fraudulent information that they have both been told does not belong to me. I am attaching my police report to this complaint. XXXX XXXX XXXX XXXX XXXX XXXX XXXX XXXX XX/XX/2019 {$160.00} {$160.00} XXXX XXXX XXXX XXXX XXXX, CA XXXX ( XXXX ) XXXX\",\n",
       " '{$16000.00}. This is not my debt.',\n",
       " 'When they call they dont answer the call and they call all day long. I havent sign any contact with this company I never had any comunicacin with agency! I never sign any contract or made any commitment with Maury Cobb & Associates! As a consumer by the law on the credit company if I did not sign any contact with this collect this need to be removed from my XXXX report!',\n",
       " \"I provided account information which showed debt was paid. To credit Karma. \\nAnd it still is showing as 2 doragetory statements. Hospital bill {$500.00}. And {$300.00}. I sent authorization numbers and account paid numbers. \\n\\nAnd it's still on my credit report.\",\n",
       " 'There are 2 charges on my credit report from a collection agency \" Trident Asset Management \" They claim i own 2 payments to XXXX. 1 from XX/XX/2015 the amount of {$34.00} the second from XX/XX/2015 with amount of {$140.00} I never had a XXXX account on my name. I disputed both claims and both were denied. I called the agency to find out the number is a fax. I read the reviews and they all experiencing the same problem i\\'m having',\n",
       " 'XXXX XXXX XXXX XXXX had posted 3 collection accounts on all 3 of the credit reporting companies - XXXX XXXX, XXXX & Equifax. one for {$30.00}, one for {$100.00} and one for {$70.00}. These accounts were paid to the collection agency and I have in my possession a letter from the XXXX XXXX XXXX dated XX/XX/2019 that all 3 of these have been paid and satisfied. XXXX XXXX acct # XXXX. I have requested to all 3 credit agencies by letter and by multiple phone calls to have these removed from my credit file.\\n\\nTo date of this complaint, XXXX XXXX & XXXX have deleted these from my credit file. Equifax is REFUSING to remove them and inform me that they will remain for 7 years even after being satisfied. I spoke to XXXX XXXX XXXX and they informed me that they electronically submitted the information on XX/XX/2019, that the accounts have been satisfied and can be removed. I have spoke to several people at equifax and none of them informed me until today that these can not be removed which is innacurate as the other 2 reporting agencies have done it. they also refused to give me a supervisor to speak to. These agencies have way to much power over our lives. \\n\\nPLEASE HELP ME!',\n",
       " \"XXXX of the month every month since XX/XX/2019. So I've recieved a overdraft of {$29.00} in XX/XX/2019. XX/XX/2019. XX/XX/2019. XX/XX/2019. XX/XX/2019. I have sent nu.erous letters and called the company numerous times for them to stop trying to debit my account as it is causing over draft fees. They do not have my authorization for automatic withdrawal.\",\n",
       " 'XX/XX/2018 I filed a dispute through credit karma. I can not file another dispute because the site thinks the dispute is not final. \\nTried through XXXX via mail and phone with no results.',\n",
       " 'Today I recieved a letter for Kent hollins for a account XXXX. For a XXXX account. Kent hollins has been informed that account has been shut down for a good amount of time. Kent hollins has also been repeatedly informed that my sole income is social security XXXX for an XXXX XXXX XXXX. Kent hollins tried to circumvent the fact they can not garnish from social security by trying to obtain an account XXXX that A. Has been closed for months. B. For funds they know they legally can not garnish. There also has been some payments made towards the account',\n",
       " 'I have visited XXXX XXXX XXXX XXXX XXXX for an illness in 2016 and there was a bill of amount total {$3600.00}. At that time I was experiencing financial hardship and did not have any income from work and was in the middle of the marriage crisis and divorce. The low income government health insurance plan did not qualify me later until I had the divorce paperwork finalized. And I had been unstable with my living address and changed my cell phone number several times to avoid my ex-spouse harassment. I am not aware that I have an unpaid medical bill until now and the payment had been sent to CMRE FINANCIAL SERVICES located at XXXX XXXX XXXX XXXX XXXX XXXX in XXXX, CA XXXX. I had never received any collection letter or phone call from CMRE that I need to pay for this specific medical bill. The collection account had been opened since XX/XX/2016 for 2 years, 8 months. I hope that XXXX XXXX XXXX medical center can dispute my medical bill due to my financial crisis at that time.',\n",
       " 'AFTER REVIEWING MY CREDIT REPORT, I HAVE IDENTIFIED INACCURATE ACCOUNTS WHICH I WAS UNAWARE OF. THOSE ACCOUNTS DOES NOT BELONG TO ME AND I WOULD LIKE A RE-INVESTIGATION INTO THOSE DEROGATORY ACCOUNTS,',\n",
       " 'Commonwealth Financial, located at XXXX XXXX XXXX, XXXX XXXX, PA, XXXX ( XXXX ) XXXX, reported a debt in the amount of {$610.00} on XX/XX/XXXX.\\n\\nDate of first Delinquency was in XX/XX/XXXX. I became Medicare eligible in XX/XX/XXXX-and provided said proof.\\n\\nThis company RE-AGED the debt on XX/XX/XXXX-impacting my credit score.',\n",
       " 'AFTER REVIEWING MY CREDIT REPORT, I HAVE IDENTIFIED AN INACCURATE ACCOUNT THAT APPEARED ON MY CREDIT WHICH I WAS UNAWARE OF. THE DISPUTED ACCOUNTS DOES NOT BELONG TO ME AND I WOULD LIKE A RE-INVESTIGATION INTO THE ACCOUNT SO IT CAN BE REMOVED OFF MY REPORT.',\n",
       " \"Accurately I am ask the credit bureaus to report and correct the problem however they have not been able to number one send me a fresh reported the method of verification on how they investigated the accounts these accounts are reporting accuratelyBasicallyThe date of last activity in the amounts don't match my records need these accounts investigated or deleted from my credit report I am asking that you XXXX proof that these accounts were not investigated properly thank you.\",\n",
       " 'One main financial obtained a copy of my credit report without my permission on XX/XX/2018.',\n",
       " 'I received a call from this person claiming to be an investigator : XXXX XXXX XXXX, North Carolina Area This person ( a male ) stated that he was an investigator and wanted me to confirm my name, DOB and Social Security Number. I asked him what agency he was an investigator for. He stated for a collection agency. I told him I am not giving him my social security number and asked why he is calling me. He said that someone under my name and DOB rented a car in XXXX NC and that the car is missing. \\nI told him that I haven\\'t been to that part of NC in years. Approximately 10 years ago. And, the only cars I have ever rented were in Oregon and PA. \\nHe said I owed a debt of the car and asked to confirm my personal information yet again. I refused. I told him that he needed to send me a certified letter that I would have to sign for in order to confirm what company he worked for and why he was requesting my personal information. \\n\\nI assumed at this point that he was a scammer or that someone stole my identity. He called again and I did not pick up. He did not leave a voice mail. I blocked the number. \\n\\nI then started receiving calls a couple weeks later from the following numbers. This has been occurring almost everyday. Sometimes I pick up, most times I let it go to voicemail and they do not leave a message. \\n\\nXXXX XXXX XXXX XXXX XXXX XXXX XXXX XXXX XXXX When I pick up on the phone call I am told that they are  from XXXX XXXX XXXX XXXX and they want my personal information. Social Security number and name. I refuse to confirm my personal information and ask why they are calling me. They state that it is a debt collection. I tell them that I do not have any debt that needs collected. I do not owe anyone anything that is in a debt collection state. I own everything out rite and pay my bills on time. \\n\\nI ask for the number of a manager in the United States so that I can confirm that they are a legitimate company. They speak XXXX English and state they are from XXXX. They offer to transfer me to the United States. I ask them where their company is located. They say different cities in the United States. Not naming any particular city or state. This is now making me feel like they are scammers and just wanting my personal information. \\n\\nI\\'ve went through this multiple time since they call frequently. Sometimes I let them transfer me to another person.. who also speaks XXXX English with an XXXX accent. \\nNever do they give me a number to call myself or an address of their company. \\n\\nI looked the company up online and with the XXXX. They are a company registered with the XXXX. I saw multiple complaints filed by consumers with this company. \\n\\nMe being someone that is not in a state of having debt that needs collected I am no assuming they are scammers pretending to be from that company or that someone has stolen my identity. \\n\\nI call the company number listed online with the XXXX XXXX XXXX XXXX and never get through to a real person. Usually the line is busy. \\n\\nI looked the address up on XXXX XXXX and it is to a warehouse in XXXX. XXXX Minnesota under the name of XXXX XXXX XXXX. \\n\\nI called the XXXX. XXXX Minnesota Police Department where this company is located and spoke with an officer that stated there is no company there by that name. And he told me to block the number. I asked him if there was a government agency I could call and he said that it probably is a scammer and by me answering the number they will continue to call me. I told him that I have blocked the number and they keep calling me. He said to not pick up. I thanked him and then searched online through the government to find somewhere to file a complaint. \\n\\nI spoke with XXXX with the FTC Government agency that I can file the complaint through and he directed me to this site to file a complaint. \\n\\nI also checked my credit report on XXXX XXXX in which I am registered. I do not have any outstanding debt. I have a bankruptcy listed that was filed in 2010. That is correct, My ex husband and I filed it just prior to our divorce. I only have one credit card with a small balance in which I paid for my sons rehearsal dinner. I use it just incase I need to rent a car or have on hand in an emergency. \\n\\nI own my home and vehicles. I do not owe anything other than my monthly utility bills. \\nI have a great job and live a life without debt hanging over my head. \\n\\nI would like to \" NOT \\'\\' be contacted via phone calls or by any means from XXXX XXXX XXXX XXXX. I would like the government complaint agency to handle all communications regarding this matter with the company.',\n",
       " 'AFTER REVIEWING MY CREDIT REPORT, I HAVE IDENTIFIED INACCURATE ACCOUNTS WHICH I WAS UNAWARE OF. THOSE ACCOUNTS DOES NOT BELONG TO ME AND I WOULD LIKE A RE-INVESTIGATION INTO THOSE DEROGATORY ACCOUNTS,',\n",
       " 'XXXX has reported my score incorrectly, because they claim that I owe existing amounts to a debt collection agency for medical payments. Even though I have already send them a proof of medical insurance at the time. They also claim that Ive also yet paid my XXXX XXXX payment, but I have proof of payment and the payment being made on time. So this continues to effect my credit score without any help to resolve it.',\n",
       " 'Mr. Cooper purchased our home loan from our original mortgage company about two years ago. We have always paid online and have never had an issue up until XX/XX/XXXX. I always make two partial payments due to my paychecks. Again never an issue. On XX/XX/XXXX I made my first half of my mortgage payment. On the XXXX I made my second to witch they took two different amounts from my checking account. My wife and I have a XXXX XXXX old and a XXXX year old and we live paycheck to paycheck. Due to Mr. Cooper taking multiple amounts out of our account we were overdraft it took over a week and 6 calls to have the money reimbursed. By this time other bills and personal purchases were made that we had to make and another XXXX $ in overdrafts were charged to my checking. Mr. Cooper should be responsible for these. If the second amount they took was never taken then my bills and other purchases would of been without my bank fees. To top this on XX/XX/XXXX they proceeded to make multiple bogus deposits and corrections on my Mr. Cooper account.I have called daily after XX/XX/XXXX and beginning of XX/XX/XXXX to figure out what they are doing. Somehow through this mess of them taking multiple transactions and then finally reimbursing me for what shouldnt of been taken Im told Im late for XX/XX/XXXXsecond payment? Since then Ive tried to get explanation on some un-applied funds I have in my account that they can not give me an answer about. So maybe 30 days go by of trying to get a answer that nobody wants to answer and I get a foreclosure letter. Apparently Im 30 days late on XXXX $ and I get a foreclosure notice? Ive been trying to resolve this but to know help, if you email customer service you just get a default reply email from them that nobody ever follows up on, just get the beat around from customer service on the phone and every call last 35-40mins that takes away from my kids and work to get absolutely no answer period.m. Daily calls of I need to make a payment and now getting more aggressive in there tone of voice, e-mail payment remainders daily. So I figured I cant loose my home over this so I agree to pay the XXXX $ that Im apparently behind. I Make a payment agreement witch I never received any paperwork on yet, to spread the XXXX $ over 3 months on top of my normal monthly mortgage payment. OK! Whatever it takes to keep my home. Still receiving calls on how I need to make a payment and emails. Yesterday XX/XX/XXXX I received a call stating I have 14days until the For-closure process starts, I said how are you starting the process if I have an agreement for the payments and very rudely the lady said its just what I have to tell you. I have until XX/XX/XXXX to make my first installment payment and Im getting calls about foreclosure starting in 14days? 60 days have passed since beginning of XXXX and already a foreclosure process? I have been 100 % positively working to resolve this matter and even agree to pay the XXXX . Dont forget the overdraft fees I got for their wrong doing and the XXXX $ and XXXX $ of unapplied funds they cant explain to me where they are. There payment activity logs are very shady and are obviously made up, especially on XX/XX/XXXX. Almost like they purposely messed up my account.This is extremely bad business practices, threatening foreclosure, customer service beating around the bush, wont answer my questions, cant talk with the same person ever, no supervisor on shift to help. Default response emails that lead nowhere. This should be against the law how they run this business. Im fully onboard trying to resolve and Mr. Cooper just wants to push our family into foreclosure. My wife and I have lost countless hours of sleep filled with anxiety not knowing the future of our home that we worked so hard for so our children can be in a great neighborhood and schools.',\n",
       " 'Synergetic Communications , Inc. Say that they are trying to collect on an account from XXXX. The last time I have had an account with XXXX  was almost 40 years ago.',\n",
       " 'This people are rude below is the paperwork of my loan they didnt give me credit for my gap insurance Everything circle on my paperwork are the amount of both loans the Original and the refinance amounts',\n",
       " '( a ) Block. Except as otherwise provided in this section, a consumer reporting agency shall block the reporting of any information in the file of a consumer that the consumer identifies as information that resulted from an alleged identity theft, not later than 4 business days after the date of receipt by such agency of ( 1 ) appropriate proof of the identity of the consumer ; ( 2 ) a copy of an identity theft report ; ( 3 ) the identification of such information by the consumer ; and ( 4 ) a statement by the consumer that the information is not information relating to any transaction by the consumer. ( b ) Notification. A consumer reporting agency shall promptly notify the furnisher of information identified by the consumer under subsection ( a ) of this section ( 1 ) that the information may be a result of identity theft ; ( 2 ) that an identity theft report has been filed ; ( 3 ) that a block has been requested under this section ; and ( 4 ) of the effective dates of the block. ( c ) Authority to decline or rescind. ( 1 ) In general. A consumer reporting agency may decline to block, or may rescind any block, of information relating to a consumer under this section, if the consumer reporting agency reasonably determines that ( A ) the information was blocked in error or a block was requested by the consumer in error ; ( B ) the information was blocked, or a block was requested by the consumer, on the basis of a material misrepresentation of fact by the consumer relevant to the request to block ; or ( C ) the consumer obtained possession of goods, services, or money as a result of the blocked transaction or transactions. ( 2 ) Notification to consumer. If a block of information is declined or rescinded under this subsection, the affected consumer shall be notified promptly, in the same manner as consumers are notified of the reinsertion of information under section 1681i ( a ) ( 5 ) ( B ) of this title. ( 3 ) Significance of block. For purposes of this subsection, if a consumer reporting agency rescinds a block, the presence of information in the file of a consumer prior to the blocking of such information is not evidence of whether the consumer knew or should have known that the consumer obtained possession of any goods, services, or money as a result of the block. ( d ) Exception for resellers. ( 1 ) No reseller file. This section shall not apply to a consumer reporting agency, if the consumer reporting agency ( A ) is a reseller ; ( B ) is not, at the time of the request of the consumer under subsection ( a ) of this section, otherwise furnishing or reselling a consumer report concerning the information identified by the consumer ; and ( C ) informs the consumer, by any means, that the consumer may report the identity theft to the Bureau to obtain consumer information regarding identity theft. ( 2 ) Reseller with file. The sole obligation of the consumer reporting agency under this section, with regard to any request of a consumer under this section, shall be to block the consumer report maintained by the consumer reporting agency from any subsequent use, if ( A ) the consumer, in accordance with the provisions of subsection ( a ) of this section, identifies, to a consumer reporting agency, information in the file of the consumer that resulted from identity theft ; and ( B ) the consumer reporting agency is a reseller of the identified information. ( 3 ) Notice. In carrying out its obligation under paragraph ( 2 ), the reseller shall promptly provide a notice to the consumer of the decision to block the file. Such notice shall contain the name, address, and telephone number of each consumer reporting agency from which the consumer information was obtained for resale. ( e ) Exception for verification companies. The provisions of this section do not apply to a check services company, acting as such, which issues authorizations for the purpose of approving or processing negotiable instruments, electronic fund transfers, or similar methods of payments, except that, beginning 4 business days after receipt of information described in paragraphs ( 1 ) through ( 3 ) of subsection ( a ) of this section, a check services company shall not report to a national consumer reporting agency described in section 1681a ( p ) of this title, any information identified in the subject identity theft report as resulting from identity theft. ( f ) Access to blocked information by law enforcement agencies. No provision of this section shall be construed as requiring a consumer reporting agency to prevent a Federal, State, or local law enforcement agency from accessing blocked information in a consumer file to which the agency could otherwise obtain access under this subchapter',\n",
       " 'The following accounts are fraudulent XXXX {$12000.00} XXXX XXXX XXXX {$440.00} XXXX XXXX XXXX {$180.00} XXXX XXXX XXXX XXXX XXXX {$440.00} XXXX   {$180.00} XXXX/XXXX  {$830.00} XXXX {$560.00} XXXX XXXX XXXX {$1700.00} XXXX XXXX {$570.00} XXXX XXXX {$200.00} XXXX XXXX {$960.00}',\n",
       " '( a ) Block. Except as otherwise provided in this section, a consumer reporting agency shall block the reporting of any information in the file of a consumer that the consumer identifies as information that resulted from an alleged identity theft, not later than 4 business days after the date of receipt by such agency of ( 1 ) appropriate proof of the identity of the consumer ; ( 2 ) a copy of an identity theft report ; ( 3 ) the identification of such information by the consumer ; and ( 4 ) a statement by the consumer that the information is not information relating to any transaction by the consumer. ( b ) Notification. A consumer reporting agency shall promptly notify the furnisher of information identified by the consumer under subsection ( a ) of this section ( 1 ) that the information may be a result of identity theft ; ( 2 ) that an identity theft report has been filed ; ( 3 ) that a block has been requested under this section ; and ( 4 ) of the effective dates of the block. ( c ) Authority to decline or rescind. ( 1 ) In general. A consumer reporting agency may decline to block, or may rescind any block, of information relating to a consumer under this section, if the consumer reporting agency reasonably determines that ( A ) the information was blocked in error or a block was requested by the consumer in error ; ( B ) the information was blocked, or a block was requested by the consumer, on the basis of a material misrepresentation of fact by the consumer relevant to the request to block ; or ( C ) the consumer obtained possession of goods, services, or money as a result of the blocked transaction or transactions. ( 2 ) Notification to consumer. If a block of information is declined or rescinded under this subsection, the affected consumer shall be notified promptly, in the same manner as consumers are notified of the reinsertion of information under section 1681i ( a ) ( 5 ) ( B ) of this title. ( 3 ) Significance of block. For purposes of this subsection, if a consumer reporting agency rescinds a block, the presence of information in the file of a consumer prior to the blocking of such information is not evidence of whether the consumer knew or should have known that the consumer obtained possession of any goods, services, or money as a result of the block. ( d ) Exception for resellers. ( 1 ) No reseller file. This section shall not apply to a consumer reporting agency, if the consumer reporting agency ( A ) is a reseller ; ( B ) is not, at the time of the request of the consumer under subsection ( a ) of this section, otherwise furnishing or reselling a consumer report concerning the information identified by the consumer ; and ( C ) informs the consumer, by any means, that the consumer may report the identity theft to the Bureau to obtain consumer information regarding identity theft. ( 2 ) Reseller with file. The sole obligation of the consumer reporting agency under this section, with regard to any request of a consumer under this section, shall be to block the consumer report maintained by the consumer reporting agency from any subsequent use, if ( A ) the consumer, in accordance with the provisions of subsection ( a ) of this section, identifies, to a consumer reporting agency, information in the file of the consumer that resulted from identity theft ; and ( B ) the consumer reporting agency is a reseller of the identified information. ( 3 ) Notice. In carrying out its obligation under paragraph ( 2 ), the reseller shall promptly provide a notice to the consumer of the decision to block the file. Such notice shall contain the name, address, and telephone number of each consumer reporting agency from which the consumer information was obtained for resale. ( e ) Exception for verification companies. The provisions of this section do not apply to a check services company, acting as such, which issues authorizations for the purpose of approving or processing negotiable instruments, electronic fund transfers, or similar methods of payments, except that, beginning 4 business days after receipt of information described in paragraphs ( 1 ) through ( 3 ) of subsection ( a ) of this section, a check services company shall not report to a national consumer reporting agency described in section 1681a ( p ) of this title, any information identified in the subject identity theft report as resulting from identity theft. ( f ) Access to blocked information by law enforcement agencies. No provision of this section shall be construed as requiring a consumer reporting agency to prevent a Federal, State, or local law enforcement agency from accessing blocked information in a consumer file to which the agency could otherwise obtain access under this subchapter.',\n",
       " '( a ) XXXX. Except as otherwise provided in this section, a consumer reporting agency shall block the reporting of any information in the file of a consumer that the consumer identifies as information that resulted from an alleged identity theft, not later than XXXX business days after the date of receipt by such agency of ( XXXX ) appropriate proof of the identity of the consumer ; XXXX XXXX XXXX a copy of an identity theft report ; ( XXXX ) the identification of such information by the consumer ; and XXXX XXXX XXXX a statement by the consumer that the information is not information relating to any transaction by the consumer. XXXX b ) Notification. A consumer reporting agency shall promptly notify the furnisher of information identified by the consumer under subsection XXXX a ) of this section ( XXXX ) that the information XXXX be a result of identity theft ; ( XXXX ) that an identity theft report has been filed ; ( XXXX ) that a block has been requested under this section ; and ( XXXX ) of the effective dates of the block. XXXX c XXXX XXXX to decline or rescind. ( XXXX ) In general. A consumer reporting agency XXXX decline to block, or XXXX rescind any block, of information relating to a consumer under this section, if the consumer reporting agency reasonably determines that ( A ) the information was blocked in error or a block was requested by the consumer in error ; ( B ) the information was blocked, or a block was requested by the consumer, on the basis of a material misrepresentation of fact by the consumer relevant to the request to block ; or ( C ) the consumer obtained possession of goods, services, or money as a result of the blocked transaction or transactions. ( XXXX ) Notification to consumer. If a block of information is declined or rescinded under this subsection, the affected consumer shall be notified promptly, in the same manner as consumers are notified of the reinsertion of information under section XXXX ( a ) ( XXXX ) ( B ) of this title. ( XXXX ) Significance of block. For purposes of this subsection, if a consumer reporting agency rescinds a block, the presence of information in the file of a consumer prior to the blocking of such information is not evidence of whether the consumer knew or should have known that the consumer obtained possession of any goods, services, or money as a result of the block. ( d ) Exception for resellers. ( XXXX ) No reseller file. This section shall not apply to a consumer reporting agency, if the consumer reporting agency ( A ) is a reseller ; ( B ) is not, at the time of the request of the consumer under subsection ( a ) of this section, otherwise furnishing or reselling a consumer report concerning the information identified by the consumer ; and ( C ) informs the consumer, by any means, that the consumer XXXX report the identity theft to the XXXX to obtain consumer information regarding identity theft. ( XXXX ) Reseller with file. The sole obligation of the consumer reporting agency under this section, with regard to any request of a consumer under this section, shall be to block the consumer report maintained by the consumer reporting agency from any subsequent use, if XXXX XXXX XXXX the consumer, in accordance with the provisions of subsection ( a ) of this section, identifies, to a consumer reporting agency, information in the file of the consumer that resulted from identity theft ; and XXXX XXXX XXXX the consumer reporting agency is a reseller of the identified information. ( XXXX ) Notice. In carrying out its obligation under paragraph ( XXXX ), the reseller shall promptly provide a notice to the consumer of the decision to block the file. Such notice shall contain the name, address, and telephone number of each consumer reporting agency from which the consumer information was obtained for resale. XXXX XXXX XXXX XXXX for verification companies. The provisions of this section do not apply to a check services company, acting as such, which issues authorizations for the purpose of approving or processing negotiable instruments, electronic fund transfers, or similar methods of payments, except that, beginning XXXX business days after receipt of information described in paragraphs ( XXXX ) through ( XXXX ) of subsection ( a ) of this section, a check services company shall not report to a national consumer reporting agency described in section XXXX ( p ) of this title, any information identified in the subject identity theft report as resulting from identity theft. ( f ) Access to blocked information by law enforcement agencies. No provision of this section shall be construed as requiring a consumer reporting agency to prevent a XXXX, XXXX, or local law enforcement agency from accessing blocked information in a consumer file to which the agency could otherwise obtain access under this subchapter',\n",
       " '( a ) Block. Except as otherwise provided in this section, a consumer reporting agency shall block the reporting of any information in the file of a consumer that the consumer identifies as information that resulted from an alleged identity theft, not later than 4 business days after the date of receipt by such agency of ( 1 ) appropriate proof of the identity of the consumer ; ( 2 ) a copy of an identity theft report ; ( 3 ) the identification of such information by the consumer ; and ( 4 ) a statement by the consumer that the information is not information relating to any transaction by the consumer.\\n\\n( b ) Notification. A consumer reporting agency shall promptly notify the furnisher of information identified by the consumer under subsection ( a ) of this section ( 1 ) that the information may be a result of identity theft ; ( 2 ) that an identity theft report has been filed ; ( 3 ) that a block has been re\\n\\nquested under this section ; and ( 4 ) of the effective dates of the block. ( c ) Authority to decline or rescind.\\n\\n( 1 ) In general. A consumer reporting agency may decline to block, or may rescind any block, of information relating to a consumer under this section, if the consumer reporting agency reasonably determines that ( A ) the information was blocked in error or a block was requested by the consumer in error ; ( B ) the information was blocked, or a block was requested by the consumer, on the basis of a material misrepresentation of fact by the consumer relevant to the request to block ; or ( C ) the consumer obtained possession of goods, services, or money as a result of the blocked transaction or transactions.\\n\\n( 2 ) Notification to consumer. If a block of information is declined or rescinded under this subsection, the affected consumer shall be notified promptly, in the same manner as consumers are notified of the reinsertion of information under section 1681i ( a ) ( 5 ) ( B ) of this title.\\n\\n( 3 ) Significance of block. For purposes of this subsection, if a consumer reporting agency rescinds a block, the presence of information in the file of a consumer prior to the blocking of such information is not evidence of whether the consumer knew or should have known that the consumer obtained possession of any goods, services, or money as a result of the block.\\n\\n( d ) Exception for resellers.\\n\\n( 1 ) No reseller file. This section shall not apply to a consumer reporting agency, if the consumer reporting agency ( A ) is a reseller ; ( B ) is not, at the time of the request of the consumer under subsection ( a ) of this section, otherwise furnishing or reselling a consumer report concerning the information identified by the consumer ; and ( C ) informs the consumer, by any means, that the consumer may report the identity theft to the Bureau to obtain consumer information regarding identity theft.\\n\\n( 2 ) Reseller with file. The sole obligation of the consumer reporting agency under this section, with regard to any request of a consumer under this section, shall be to block the consumer report maintained by the consumer reporting agency from any subsequent use, if ( A ) the consumer, in accordance with the provisions of subsection ( a ) of this section, identifies, to a consumer reporting agency, information in the file of the consumer that resulted from identity theft ; and ( B ) the consumer reporting agency is a reseller of the identified information.\\n\\n( 3 ) Notice. In carrying out its obligation under paragraph ( 2 ), the reseller shall promptly provide a notice to the consumer of the decision to block the file. Such notice shall contain the name, address, and telephone number of each consumer reporting agency from which the consumer information was obtained for resale.\\n\\n( e ) Exception for verification companies. The provisions of this section do not apply to a check services company, acting as such, which issues authorizations for the purpose of approving or processing negotiable instruments, electronic fund transfers, or similar methods of payments, except that, beginning 4 business days after receipt of information described in paragraphs ( 1 ) through ( 3 ) of subsection ( a ) of this section, a check services company shall not report to a national consumer reporting agency described in section 1681a ( p ) of this title, any information identified in the subject identity theft report as resulting from identity theft. \\n( f ) Access to blocked information by law enforcement agencies. No provision of this section shall be construed as requiring a consumer reporting agency to prevent a Federal, State, or local law enforcement agency from accessing blocked information in a consumer file to which the agency could otherwise obtain access under this subchapter.',\n",
       " '( a ) Block. Except as otherwise provided in this section, a consumer reporting agency shall block the reporting of any information in the file of a consumer that the consumer identifies as information that resulted from an alleged identity theft, not later than 4 business days after the date of receipt by such agency of ( 1 ) appropriate proof of the identity of the consumer ; ( 2 ) a copy of an identity theft report ; ( 3 ) the identification of such information by the consumer ; and ( 4 ) a statement by the consumer that the information is not information relating to any transaction by the consumer. ( b ) Notification. A consumer reporting agency shall promptly notify the furnisher of information identified by the consumer under subsection ( a ) of this section ( 1 ) that the information may be a result of identity theft ; ( 2 ) that an identity theft report has been filed ; ( 3 ) that a block has been requested under this section ; and ( 4 ) of the effective dates of the block. ( c ) Authority to decline or rescind. ( 1 ) In general. A consumer reporting agency may decline to block, or may rescind any block, of information relating to a consumer under this section, if the consumer reporting agency reasonably determines that ( A ) the information was blocked in error or a block was requested by the consumer in error ; ( B ) the information was blocked, or a block was requested by the consumer, on the basis of a material misrepresentation of fact by the consumer relevant to the request to block ; or ( C ) the consumer obtained possession of goods, services, or money as a result of the blocked transaction or transactions. ( 2 ) Notification to consumer. If a block of information is declined or rescinded under this subsection, the affected consumer shall be notified promptly, in the same manner as consumers are notified of the reinsertion of information under section 1681i ( a ) ( 5 ) ( B ) of this title. ( 3 ) Significance of block. For purposes of this subsection, if a consumer reporting agency rescinds a block, the presence of information in the file of a consumer prior to the blocking of such information is not evidence of whether the consumer knew or should have known that the consumer obtained possession of any goods, services, or money as a result of the block. ( d ) Exception for resellers. ( 1 ) No reseller file. This section shall not apply to a consumer reporting agency, if the consumer reporting agency ( A ) is a reseller ; ( B ) is not, at the time of the request of the consumer under subsection ( a ) of this section, otherwise furnishing or reselling a consumer report concerning the information identified by the consumer ; and ( C ) informs the consumer, by any means, that the consumer may report the identity theft to the Bureau to obtain consumer information regarding identity theft. ( 2 ) Reseller with file. The sole obligation of the consumer reporting agency under this section, with regard to any request of a consumer under this section, shall be to block the consumer report maintained by the consumer reporting agency from any subsequent use, if ( A ) the consumer, in accordance with the provisions of subsection ( a ) of this section, identifies, to a consumer reporting agency, information in the file of the consumer that resulted from identity theft ; and ( B ) the consumer reporting agency is a reseller of the identified information. ( 3 ) Notice. In carrying out its obligation under paragraph ( 2 ), the reseller shall promptly provide a notice to the consumer of the decision to block the file. Such notice shall contain the name, address, and telephone number of each consumer reporting agency from which the consumer information was obtained for resale. ( e ) Exception for verification companies. The provisions of this section do not apply to a check services company, acting as such, which issues authorizations for the purpose of approving or processing negotiable instruments, electronic fund transfers, or similar methods of payments, except that, beginning 4 business days after receipt of information described in paragraphs ( 1 ) through ( 3 ) of subsection ( a ) of this section, a check services company shall not report to a national consumer reporting agency described in section 1681a ( p ) of this title, any information identified in the subject identity theft report as resulting from identity theft. ( f ) Access to blocked information by law enforcement agencies. No provision of this section shall be construed as requiring a consumer reporting agency to prevent a Federal, State, or local law enforcement agency from accessing blocked information in a consumer file to which the agency could otherwise obtain access under this subchapter.',\n",
       " \"I have no recollection of this account and if it's a medical bill I've been on XXXX since 2014 and all my medical bills are paid and when I tried to contact them they were very rude and demanded payment and wouldn't give me any details\",\n",
       " 'My Identity has been compromised and misused for the benefit insurance mobile and auto fraud applications. As a result of these acts I have suffered significant blows to my credit reports that need to be investigated and corrected immediately.',\n",
       " 'Oracle Financial Group in XXXX, NY made a credit card charge despite my express instructions not to make the charge. In addition the amount was higher than what had originally be agreed upon. \\n\\nI was called a \" XXXX \\'\\' by one of their employees.',\n",
       " 'I XXXX XXXX notice that XXXX and XXXX  continue to report a fraudulent collection to my account. This is my third time going through this process and next time im taking full legal action. ( XXXX XXXX XXXX/XXXX  XXXX {$560.00} ) continues to report to XXXX and Experian ... Ive never in my life opened up an account with XXXX! This is continuing to affect my credit and has put me behind in purchasing the home that my family and I choose. If this account continues to report and not removed within the next 4 business days. I will be taking full legal action against XXXX and EXPERIAN. \\n\\n( XXXX XXXX XXXX/XXXX XXXX {$560.00} ) XXXX AND XXXX Continue to report this fraudulent Collections Account ( XXXX XXXX XXXX/XXXX XXXX {$560.00} The Fair Credit Reporting Act ( FCRA ) is the federal law that governs the national credit reporting agencies ( CRAs ) : XXXX, XXXX XXXX and Experian. It also governs creditors, collection agencies and other businesses that furnish information ( furnishers ) to the CRAs. The FCRA provides victims of identity theft with numerous rights. Consumers can bring legal claims against the CRAs and furnishers if they fail to comply with the FCRA. \\nThe most important right is the blocking of information on a credit report that resulted from identity theft. A CRA must block the reporting of any fraudulent information within four business days of receiving a dispute from a consumer that contains : Identification of the fraudulent information ; A copy of an identity theft report ( an identity theft report is an official, valid report filed by the consumer with a federal, state or local law enforcement agency including the post office ) ; A statement by the consumer that the information is not related to any transaction by the consumer ; and Appropriate proof of identity. \\nThe CRA must notify the furnisher of the information that it has blocked the information as fraudulent. The CRA will also notify the two other national CRAs that it has blocked the information. The consumer should receive a letter from the CRA stating that the information has been blocked. \\nIf the consumer sends the CRA the required materials and the CRA does not block the disputed information within four days, the consumer can bring a legal claim against the CRA.',\n",
       " 'I went onto XXXX XXXX and saw that there was a hard inquiry on my credit, one I did not agree to. It was done by \" XXXX XXXXXXXX XXXX \\'\\' in XXXX CA. I did not agree to this and have not contacted them, many co paints about this company were found online when I tried to look up what it is. It states that they inquired on XX/XX/2017 but I haven\\'t applied for any kind of credit in at least 3 years.',\n",
       " 'After sending information to verify myself with my disputes, I sent a follow-up dispute ( XX/XX/2019 ) by means of a XXXX XXXX XXXX, Experian has failed to respond. They have violated the FCRA in that it has been more than 30-days. Please see items below ACCOUNTS XXXX XXXX XXXX XXXX XXXX not mine',\n",
       " \"I am writing to request the removal of unauthorized credit inquiries on XX/XX/19 by XXXX  and XXXX. There is no reason these should have been made and they were made without my knowledge. Prior to this day I was working with a Mortgage Company applying for a construction loan, however, on the same day exactly ( XX/XX/19 ) my lender told me it wasn't going to work out and that I should look for another lender due to internal issues with her company. I attached a copy of her email. Why then, would my credit need to be pulled two times if I'm not even applying for anything anymore? I am upset. The same thing happened to my husband and I would like him to be included on this report. His credit is affected by these unauthorized credit inquiries as well.\",\n",
       " '( a ) Block. Except as otherwise provided in this section, a consumer reporting agency shall block the reporting of any information in the file of a consumer that the consumer identifies as information that resulted from an alleged identity theft, not later than 4 business days after the date of receipt by such agency of ( 1 ) appropriate proof of the identity of the consumer ; ( 2 ) a copy of an identity theft report ; ( 3 ) the identification of such information by the consumer ; and ( 4 ) a statement by the consumer that the information is not information relating to any transaction by the consumer. ( b ) Notification. A consumer reporting agency shall promptly notify the furnisher of information identified by the consumer under subsection ( a ) of this section ( 1 ) that the information may be a result of identity theft ; ( 2 ) that an identity theft report has been filed ; ( 3 ) that a block has been requested under this section ; and ( 4 ) of the effective dates of the block. ( c ) Authority to decline or rescind. ( 1 ) In general. A consumer reporting agency may decline to block, or may rescind any block, of information relating to a consumer under this section, if the consumer reporting agency reasonably determines that ( A ) the information was blocked in error or a block was requested by the consumer in error ; ( B ) the information was blocked, or a block was requested by the consumer, on the basis of a material misrepresentation of fact by the consumer relevant to the request to block ; or ( C ) the consumer obtained possession of goods, services, or money as a result of the blocked transaction or transactions. ( 2 ) Notification to consumer. If a block of information is declined or rescinded under this subsection, the affected consumer shall be notified promptly, in the same manner as consumers are notified of the reinsertion of information under section 1681i ( a ) ( 5 ) ( B ) of this title. ( 3 ) Significance of block. For purposes of this subsection, if a consumer reporting agency rescinds a block, the presence of information in the file of a consumer prior to the blocking of such information is not evidence of whether the consumer knew or should have known that the consumer obtained possession of any goods, services, or money as a result of the block. ( d ) Exception for resellers. ( 1 ) No reseller file. This section shall not apply to a consumer reporting agency, if the consumer reporting agency ( A ) is a reseller ; ( B ) is not, at the time of the request of the consumer under subsection ( a ) of this section, otherwise furnishing or reselling a consumer report concerning the information identified by the consumer ; and ( C ) informs the consumer, by any means, that the consumer may report the identity theft to the Bureau to obtain consumer information regarding identity theft. ( 2 ) Reseller with file. The sole obligation of the consumer reporting agency under this section, with regard to any request of a consumer under this section, shall be to block the consumer report maintained by the consumer reporting agency from any subsequent use, if ( A ) the consumer, in accordance with the provisions of subsection ( a ) of this section, identifies, to a consumer reporting agency, information in the file of the consumer that resulted from identity theft ; and ( B ) the consumer reporting agency is a reseller of the identified information. ( 3 ) Notice. In carrying out its obligation under paragraph ( 2 ), the reseller shall promptly provide a notice to the consumer of the decision to block the file. Such notice shall contain the name, address, and telephone number of each consumer reporting agency from which the consumer information was obtained for resale. ( e ) Exception for verification companies. The provisions of this section do not apply to a check services company, acting as such, which issues authorizations for the purpose of approving or processing negotiable instruments, electronic fund transfers, or similar methods of payments, except that, beginning 4 business days after receipt of information described in paragraphs ( 1 ) through ( 3 ) of subsection ( a ) of this section, a check services company shall not report to a national consumer reporting agency described in section 1681a ( p ) of this title, any information identified in the subject identity theft report as resulting from identity theft. ( f ) Access to blocked information by law enforcement agencies. No provision of this section shall be construed as requiring a consumer reporting agency to prevent a Federal, State, or local law enforcement agency from accessing blocked information in a consumer file to which the agency could otherwise obtain access under this subchapter.',\n",
       " 'These fraudulent accounts are reporting on my credit report. \\n\\nXXXX XXXX {$5600.00} XXXX XXXX XXXX XXXX XXXX',\n",
       " 'To whom this may concern : This complaint is due to the unauthorized inquires on my Transunion report. I have a fraud alert on my account which should have not allowed these companies to allow credit applications without verification. The unauthorized inquiries listed are XXXX XXXX XX/XX/XXXX, XXXX XXXX XX/XX/XXXX, XXXX/XXXX XX/XX/XXXX, XXXX XXXX CA XX/XX/XXXX, XX/XX/XXXX/XXXX XX/XX/XXXX. It would be greatly appreciated if these inquiries be removed from my Transunion report as soon as possible. Also, the account XXXX/XXXX needs to be removed that was never properly verified with physical proof of debt validation or contract after disputing on more than one occasion. This XXXX/XXXX  account shows that it was sold/paid in full to XXXX XXXX which means that I do not owe this debt to this company that is listed on my report nor would Transunion be able to properly verify something that they no longer own. Also, the collection account XXXX XXXX was not properly verified either with physical proof of debt validation just updated as \" Verified as Accurate \\'\\'.',\n",
       " 'I have never heard of this debt collector never sign any contract with them or have any business with company they did send any signature about this dedt I do not owe this debt to them. date was XX/XX/2019 XXXX so they say and have no proof of the debt.',\n",
       " 'XXXX XXXX XXXX XXXX sent me a letter stating that I owed a medical bill that I knew nothing about. I submitted a certified mail request for VALIDATION made pursuant to 15 USC 1692g Sec. 809 ( b ) of the FDCPA. XXXX XXXX failed to validate the debt. They just sent me a two page photocopied bill that looked like they made up that had my name on it with the amount that they accused me of owing. So, I sent a second certified mail letter to XXXX XXXX XXXX XXXX, again, requesting that they prove that I am the one that is contractually obligated to this debt and that they have the right to legally collect on such debt. XXXX XXXX failed to do so, but, moved forward and reported this fraudulent debt to the three major credit bureaus, thus effecting my credit report.',\n",
       " 'I XXXX XXXX AND I HAVE BEEN COMPLAINNING ABOUT SPEEDY CASH BECAUSE ITS THE WRONG PRICE AND I NEED THEM TO REMOVE IMMEDIATELY AND THIS IS NOT THE RIGHT PRICE',\n",
       " 'Im a victim of Transunion inquiry issues. I have call to get these inquiries remove but Transunion customers service would not help me.The inquiries I will like to be remove is : XXXX XXXX XXXX XXXX, XXXX XXXX XXXX XXXX XXXX XXXX, XXXX XXXX XXXX XXXX, XXXX, XXXX/XXXX, XXXX XXXX XXXX XXXX, XXXX XXXX XXXX, XXXX XXXX XXXX/XXXX, XXXX XXXX XXXX, XXXX XXXX XXXX, XXXX/XXXX XXXX, XXXX XXXX XXXX, XXXX, XXXX XXXX XXXX, XXXX/XXXX, XXXX/XXXX XXXX, XXXX/XXXX, XXXX/XXXX XXXX, XXXX XXXX XXXX, XXXX/XXXX XXXX, XXXX XXXX XXXX.',\n",
       " \"This is not my account and I have not contract with them and going after my for no reason I went to court and they didn't even show up to defend the petition so I do owe this dedt\",\n",
       " 'I applied for credit from Axcess Financial and they made inquiry without reason. I dont have credit with them, It is not fair.',\n",
       " 'These fraudulent accounts are reporting on my credit report. \\n\\nXXXX XXXX XXXX XXXX XXXX XXXX',\n",
       " 'I have never received any written notification about this debt. This should not be on my credit report because I have not have not had a chance to validate the debt. This item needs to be removed from all three credit bureaus.',\n",
       " 'They were properly notified that I was XXXX and on ssi for several years and placed my loan in default anyway.',\n",
       " \"Me and my husband filed for Chapter XXXX Bankruptcy in XXXX. It was discharged on XXXX XXXX, XXXX. The creditor XXXX XXXX was included in the bankruptcy and was discharged with the other creditors. We sold our home and were closing on XXXX XXXX, XXXX. XXXX XXXX XXXX is handling our closing. On XXXX XXXX, XXXX, XXXX XXXX was provided a final XXXX settlement statement from XXXX XXXX XXXX XXXX that was given to us. To our disbelief this statement has a second mortgage listed for {$6000.00} from Quantum 3 Group, LLC. We were confused. We don't have a second mortgage and since we have a VA guaranteed loan, we can not have a second mortgage on our property. I searched for Quantum 3 Group, LLC and contacted them about this fraudulent 2nd mortgage. I spoke with XXXX a customer service representative at Quantum. She informed me that they represented XXXX XXXX. I told her the debt that we had with XXXX XXXX was discharged in the Chapter XXXX. She stated that they had no record of this. She provided me with a claims email address and I emailed a copy of the listed creditors in the bankruptcy and the discharge order from the court, to show that XXXX finance was listed. I called back to make sure they received the email and spoke with XXXX another representative. She stated that XXXX XXXX had a judgement of exemption from the bankruptcy discharge and this was a valid way for them to collect the debt. I asked her to provide me with a copy of this since I have a copy of the bankruptcy closure of estate order. It shows that no creditor was given an exemption to the bankruptcy discharge to collect on an exempt debt. I asked if she would provide me with a copy of this exemption order they had for Quantum 3 Group, LLC to collect this debt. She stated they didn't have to provide me a copy of this ordre. I informed her that I would file a complaint with the CFPB. She told me to go ahead, that was fine. The actions of Quantum 3 Group, LLC on behave of XXXX XXXX, is a clear abuse and infringement of my consumer rights and protections provided to me and my husband under the US Bankruptcy code. It is also holding up the sell of our home. This is a blatant strong arm tactic by big corporations to collect a debt and they are breaking the law.\",\n",
       " 'I have retained legal counsel and will be filing XXXX. Please cease and desist and do not credit report.',\n",
       " 'I received the first collection statement dated XX/XX/XXXX, from Century Credit & Collections , LLC. The statement was addressed to myself and also listed my XXXX minor children. First amount requested was {$1400.00}. Total amount listed was {$1900.00} \" due \\'\\' by XX/XX/XXXX. There was no breakdown of charges for either amount. \\n\\nI sent a response letter asking for a breakdown of charges and to advise of the XXXX minor children as they should not be listed. I received a voicemail from XXXX XXXX requesting payment and asking if what I had stated in my response letter was true. \\n\\nThe next letter from Century Credit & Collections , LLC dated XX/XX/XXXX listed a new amount due of {$1900.00}, \" due \\'\\' XX/XX/XXXX An additional letter dated XX/XX/XXXX stated that I had been given sufficient time to pay my debt and that I have ignored their attempts to collect the debt. The new amount due was {$1900.00}. \\n\\nThis agency has been adding to the balance due approximately every XXXX weeks, with no breakdown of charges.',\n",
       " 'XXXX XXXX XXXX claims issued a debt to me in the amount of {$1000.00} for unpaid taxes and fees for XXXX for the XXXX XXXX XXXX XXXX and the Township of XXXX XXXX. I was not a resident in XXXX and thus, I do not qualify for taxation in XXXX. This is an invalid debt which they claim I owe. I moved to the area in mid XXXX. \\n\\nI believe they are attempting to collect more than they are due. There should be a penalty for these false positive attempts ( and unverified ) and they could trick many consumers.',\n",
       " 'I have an account on my credit from XXXX # XXXX in the amount of {$970.00} This account do not belong to me. I would like the company to provide documentation including a signed contract with my signature validating that this account belongs to me. If they are unable to provide documentation I want this removed from my credit immediately.',\n",
       " 'My identity was compromised while I was oversees serving in the U.S. Military between XXXX - XXXX. During this time XXXX XXXX XXXX and XXXX  XXXX XXXX   XXXX put several unauthorized hard inquires on my credit report. I have included the dates below. I have never authorized XXXX XXXX or XXXX XXXX to run a hard inquiry on my credit report. I demand these hard inquiries be removed from my credit report immediately. \\n\\n1. XX/XX/XXXX 2.XX/XX/XXXX 3. XX/XX/XXXX 4. XX/XX/XXXX 5. XX/XX/XXXX 6. XX/XX/XXXX',\n",
       " \"got extremely rude and talked down upon me as if I was beneath him. When I started to defend myself he hung up the phone. so discriminated agent. as I respect and talk to her nicely she doesn't have to be rude. I had emergency matter took my attention then the school send the debt to ability recovery to collect that money. iam so disapointed and depressed i have to go to my doctor to priscribe some medication because i been hurt.\",\n",
       " 'I am filing this complaint in response to your letter or phone call dated XXXX # XXXX, XXXX XXXX XXXX. I do not believe that I owe this debt or what you say I owe. \\nPursuant to the Fair Debt Collection Practices Act, Section 809 ( b ), Validating Debts : If the consumer notifies the debt collector in writing within the thirty-day period described in subsection ( a ) that the debt, or any portion thereof, is disputed, or that the consumer requests the name and address of the original creditor, the debt collector shall cease collection of the debt, or any disputed portion thereof, until the debt collector obtains verification of the debt or any copy of a judgment, or the name and address of the original creditor, and a copy of such verification or judgment, or name and address of the original creditor, is mailed to the consumer by the debt collector. ( emphasis added ) I respectfully request that you provide me with the following : 1. the amount of the debt ; 2. the name of the creditor to whom the debt is owed ; 3. verification or copy of any judgment ( if applicable ) ; 4. proof that you are licensed to collect debts in Maine ; 5. proof of the last payment made on the account. \\nI am asserting my rights under the federal and state Fair Debt Collection Practices Acts and the Fair Credit Reporting Act, including these rights : Because I have disputed this debt in writing within 30 days of receipt of your initial notice, you must obtain verification of the debt or a copy of the judgment against me and mail these items to me at your expense. \\nYou can not add interest or fees except those allowed by the original contract or state law. \\nAny attempt to collect this debt without validating it violates the FDCPA. \\nAlso be advised that I am keeping accurate records of all correspondence from you and your company, including recording all phone calls, and I will not hesitate to report violations of the law to my State Attorney General, the Federal Trade Commission and the XXXX XXXX XXXX \\nI have disputed this debt. Therefore, until it is validated, your information concerning this debt is assumed to be inaccurate. Accordingly, if you have already reported this debt to any credit-reporting agency ( CRA ) or Credit Bureau ( CB ), then you must immediately inform them of my dispute with this debt. Reporting information that you know to be inaccurate or failing to report information correctly violates the Fair Credit Reporting Act 1681s-2.   Should you pursue a judgment without validating this debt, I will inform the judge and request that the case be dismissed based on your failure to comply with the FDCPA. \\nFinally, if you do not own this debt, I demand that you immediately send a copy of this dispute letter to the original creditor so they are also aware that I dispute the debt.',\n",
       " 'I have an account on my credit from XXXX # XXXX in the amount of {$1400.00} This account do not belong to me. I would like the company to provide documentation including a signed contract with my signature validating that this account belongs to me. If they are unable to provide documentation I want this removed from my credit immediately.',\n",
       " 'Keep sending multiple letters of amount owed to the collector but i dont have a contract signed with them',\n",
       " \"XX/XX/2019 revoked there authorizations to Ach payments on my account. There Ach agreements are deceptive. They don't want to cancel your Ach, so they make it almost impossible to cancel. Telling you there has to be an alternative payment method before they can cancel. That's not true. By law you don't have to give this to them to cancel Ach. By law An Ach agreement is invalid if there's no way to cancel it.\",\n",
       " 'Repeated calls, call my landline number, I say hello, there is no one there, I call back and I have to put the phone number in. I have spoken to a person after this, they are looking for someone who is not me. I have asked repeatedly to take my phone number off their lists, yet they keep calling. Examples of dates as follows : XX/XX/19 XXXX XX/XX/19 XXXX XX/XX/19 XXXX XX/XX/19 XXXX The company name is Valentine and Cabartis ( SP? ).',\n",
       " \"Transunion 's Rental Verification department is reporting the negative items below. The items do no belong to me. I wasI the victim of Identity theft. Please see the F.T.C report attached. I am requesting the items be removed immediately. \\n\\nXXXX Apartments : XXXX Apartments : XXXX at XXXX XXXX :\",\n",
       " \"XX/XX/2019 I revoked there Ach authorizations. It is almost impossible to cancel Ach payments with them. They told me they couldn't cancel my Ach agreement without an alternative payment method. Which is not true. By law You do not have to provide an alternative payment method to cancel your Ach. They dont want you to cancel it so they try to make you think you can't cancel it. By law an Ach agreement has to have a way to cancel it, or it's invalid.\",\n",
       " 'On XX/XX/XXXX I opened a best buy joint account, together with XXXX XXXX XXXX, the number is XXXX XXXX XXXX XXXX. After that on XX/XX/XXXX I opened a new account by myself and I asked to close the previous account, I did not need the other one because by the time I applied for the Best buy credit card now I have a previous record. The ONLY reason I applied together it was because when I applied for first card on XX/XX/XXXX I needed i cosigner to get the card authorized.\\n\\nSo, since the time I got my own card on XX/XX/XXXX I never used the first card ( The join card ) NEVER USED AGAIN. I told Best Buy to exclude me from that and they said Okay. We will but we need XXXX XXXX XXXX call us. So, I told her close the account. BUT, SHE NEVER DID.\\n\\nYears passed and some weeks ago on XX/XX/XXXX, I bought a laptop and the time to pay the seller asked me : You have two accounts  in which one you one to charge this item? I said two accounts? He said yes, you need to call best buy.\\n\\nAfter that I have sent three messages trough their website ( secure messaging ) asking to cancel the first account, the one I tough did not exist and they have never have answered. Just I am sorry, we apologize for .... Call us. ALWAYS same situation no answer.\\n\\nWhat is worst XXXX XXXX XXXX knows about this situation and she have been buying and using this account. I received an statement on XX/XX/XXXX with a balance of {$1200.00} USD using my email address.\\n\\nI asked some days ago and the bank is even reporting FALSE INFORMATION to my credit report. An address does not belongs to me.\\n\\nThat address correspond to XXXX XXXX XXXX and is as follows : XXXX XXXX XXXX XXXX   XXXX Texas XXXX Her Email address is : XXXX Her phone number is : ( XXXX ) XXXX XXXX XXXX The card number I am talking about to cancel my responsability is : XXXX XXXX XXXX XXXX Where Can I report this situation she is using my email address?\\n\\nSo, what I want is be exclude it from that account, I do not have to be responsible for something I am not buying and is an she is doing wrong things using my email address. Actually, I do not have any relationship with her since long time ago, as I know she is a very dishonest person doing many tricky things and always trying to take advantage of any person and any situation.\\n\\nBesides, as far as i know she has her own card. \\nSo, cancel the card and transfer the balance to her card.',\n",
       " 'I attempted to initiate a Credit Freeze with Equifax. My efforts to do so online did not work and they asked me to call. As part of their \" security \\'\\' questions the asked me for the monthly amount of my payment to my credit card. Since this is not a set amount and the minimum depends on factors like outstanding balance and whether or not I had recently made a payment, there is no rational answer to this. For me, it literally could be $ XXXX for my most recent statement or {$370.00} for the prior month. \\n\\nBecause I was not able to answer to their \" satisfaction \\'\\' they refused to initiate my freeze - despite the fact that I answered EVERY OTHER QUESTION correctly. If Equifax is going to use the vague item to identify individuals they need to be VERY clear as to which month they are referring and then permit individuals the time to find the statement and/or log into their account before berating the customer.',\n",
       " \"On XX/XX/2017, this debt for {$80.00} appeared on my credit report. I have no knowledge of this debt. I am requesting a signed confirmation with my signature that I opened this account. Under the Fair Credit Reporting Act, 15 U.S.C. 1681g I have the right to demand that you disclose to me all of the documents that you have recorded and retained in your file at the time of this request concerning the accounts that you are reporting on my credit report. Please don't respond to my request by saying that this account has been verified. Send me copies of the documents that you have in your files that were used to verify this account. If you do not have any documentation in your files to verify the accuracy of this disputed account then please delete them immediately as required under Section 611 ( a ) ( 5 ) ( A ) ( i ). By publishing these inaccurate and unverified items on my credit report and distributing them to 3rd parties you are damaging my reputation and credit worthiness. Under the FCRA 15 U.S.C. 1681i, all unverified accounts must be promptly deleted. Therefore, if you are unable to provide me with a copy of the verifiable proof that you have on file for the account listed within 15 days of receipt of this then you must remove the account from my credit report.\",\n",
       " 'I HAVE CONTACTED XXXX AND EQUIFAX THAT THERE WAS FRAUDULENT ITEMS ON MY REPORTS NUMEROUS NUMEROUS TIMES AND CIRCLED THOSE ITEMS ON SAID REPORTS SENT THEM MY POLICE REPORT SPELLING OUT SAID ITEMS WERE FRAUD AND I WAS A VICTIM OF IDENTITY THEFT, AND SENT THEM THE FCRA 605 B LAW STATING THAT THEY MUST REMOVE SAID ITEMS, THEY HAVE REFUSED TO FOLLOW THE LAW FCRA AND HAVE NIT REMOVED ITEMS AND IT HAS IMPACTED MY CREDIT AND GETTING LOANS, JOBS ECT. THEY ARE NOT FOLLOWING TE LAW AND I WANT THEM TO BE HELD ACCOUNTABLE AND I DEMAND THOSE ITEMS REMOVED IMMEDIATELY.',\n",
       " 'I was contacted by XXXX XXXX XXXX about a debt collection from charges allegedly originating on XX/XX/2018, when I was seen in an emergency room in XXXX XXXX. Their letter arrived one year after my visit and referenced an account with XXXX XXXX XXXX XXXX XXXX ( # XXXX ) for {$1100.00}. I never received even a single bill from this company. They are completely unreachable by phone, as I have made numerous attempts to acquire my original bill so I can pay the debt collectors if the money is indeed owed. XXXX provided me with no additional contact information. \\nOver the past year, I have paid numerous providers in relation to this medical event, without issue. I have excellent credit and have never once missed a bill payment in my life. I can not believe it is legal for a company to contact me out of the blue with zero proof of a bill and demand a large sum of money. If they had simply provided me with ANY information, I would feel better about paying this money. However, their total lack of information leads me to believe I do not actually owe and this is some kind of scam.',\n",
       " \"I sent a validation letter to Financial Data Systems ( FDS ) dated XX/XX/2019, requesting that the company validate reference no. XXXX which is currently being reported to the credit bureaus. In my letter, I also specifically requested evidence showing the company 's legal authority concerning this matter. More specifically, I requested a copy of the alleged contract or instrument bearing my signature. In addition, I specifically requested proof FDS is authorized to collect this debt and has the legal authority to do so. \\n\\nFDS responded to my first request for validation in a letter dated XX/XX/2019. Included with the letter was a copy of a statement from XXXX XXXX XXXX in which the description of the services were redacted. \\n\\nIn a letter dated XX/XX/2019, I again specifically requested that FDS provide me that the company is the legal owner of the debt, and that FDS has the legal authority to collect this debt, as well as a copy of the contract bearing my signature. \\n\\nFDS has not provided evidence that the company is the legal owner of this debt and that the company is authorized to collect the alleged debt as I have never had an account or contract with FDS. Therefore, I have no legal obligation to pay a debt that can not be validated with proper evidence. FDS is not in compliance with federal credit reporting laws and is reporting inaccurate information to the credit bureaus. I hereby request that FDS promptly remove any and all references from all three credit bureaus and cease and desist all communication with me concerning this debt.\",\n",
       " \"I sent letters several months ago to XXXX, XXXX and Transunion about inquiries I never ever sign for that's on my credit report. There has not been no response. I was told by an attorney the credit bureaus is not out to help you they are there to make money and make sure your score stays low. I am not sure how true that statement is but I have not received a response and the inquiries are still on my report. \\n\\nWhile checking my most recent credit report, I noticed credit inquiries that I did not authorize, made by the following companies : Inquiries : XXXX. XXXX XXXX XX/XX/XXXX XXXX. XXXX XXXX XXXX XXXX, XXXX XXXX. XXXX XXXX XXXX, XXXX XXXX XXXX XXXX XXXX XXXX, XXXX XXXX XXXX XXXX  XXXX XXXX, XXXX XXXX. XXXX XXXX XXXX XXXX, XXXX XXXX. Georgia XXXX XXXX XXXX XX/XX/XXXX, XX/XX/XXXX, XXXX XXXX, XXXX and XXXX XXXX, XXXX XXXX. XXXX Bank XX/XX/XXXX XXXX. XXXX XXXX XXXX XXXX, XXXX XXXX. XXXX XXXX NA XXXX XXXX, XXXX\",\n",
       " 'I have been a victim of identity theft',\n",
       " 'XXXX has been trying to collect debt that does not belong to me i have requested proper validation and which XXXX has refused to give me all they say its verify well i have a right to see what they call verify they have failed to provide me this information',\n",
       " 'In XXXX of XXXX we switched our wireless provider from XXXX to XXXX XXXX XXXX. In doing so we then returned the 3 devices and an ipad back to XXXX using their mailing coupons that they provided, and later came back and stated that we did not return them, and I needed to provide them with the tracking number. I stated to them that they are the ones that provided the mailing labels. A few months went by and since I and XXXX could not come to a reasonable final billing they turned my account over to a collection agency. I was contacted in XXXX regarding this debt at which time I stated that I did not owe for the phones and was NOT paying that amount but would make good on the final bill. Thus said, XXXX, XXXX XXXXt XXXX agreed to a settlement of {$1500.00}. Allowing me to make 4 payments of {$370.00}. My first payment was made on XX/XX/XXXX, 2nd payment was made on XX/XX/XXXX and XXXX payment was made on XX/XX/XXXX, However, my 4th and final payment was not processed by XXXX due to XXXX recalled the debt, to which I did not find out until XXXX of XXXX. I called XXXX to inquire about this and they kept saying I had a final billing of {$1800.00}. I explained that I had made my payments as promised to the collection agency in which XXXX says, they no longer have the debt. I hung up disgusted as after many, probably 25 plus phone calls to XXXX to try and settle this matter, which were all ditched efforts, I gave up. I was contacted 2 weeks ago from a new Collection agency that XXXX has hired Source Management, to which they are now claiming that I owe XXXX {$1000.00}. I stated, \" I do not owe that amount I have already tried to rectify this with XXXX and that obviously XXXX has not given them the correct records, and tthhat I would contact XXXX. I was called again today by Source after me trying for the last week to speak to someone at XXXX that speaks in English or at least someone I could understand and GOT NO WHERE ... .I explained or tried to explain to Source Management that I do not owe that much and I had a settlement with a previous collection agency and XXXX recalled the debt before the last payment was processed. The representative from the collection agency XXXX was extremely rude and did NOT have her facts together at all. I then demanded to speak to a manager. Once I spoke to the manager, still not getting anywhere I disconnected the phone, called XXXX   again, and stated my whole case again, for some strange reason I was disconnected and then attempted to call back 4 different times and put on long holds only to be told I had to call this new collection agency to settle the {$1000.00}. If anything at all I only owe the last payment of {$370.00} that was never processed by XXXX prior to XXXX recalling the collection attempts in order to try and resell the debt to collect more money. this matter has already been turned over to CFPB when XXXX had it due to XXXX would not remover the remark. At that point when CFPB contacted XXXX and the remark was removed from my credit report along with a letter from XXXX that the account had been settled in full. I tried to explain this to Source, but to no avail, uneducated employees that do nothing but call people and speak to them using scare tactics and deceptive debt practices to which is against the law is all you get from these folks. The debt was cleared by XXXX.',\n",
       " \"I sent letters several months ago to Equifax, XXXX and XXXX   about inquiries I never ever sign for that's on my credit report. There has not been no response. I was told by an attorney the credit bureaus is not out to help you they are there to make money and make sure your score stays low. I am not sure how true that statement is but I have not received a response and the inquiries are still on my report. \\n\\nWhile checking my most recent credit report, I noticed credit inquiries that I did not authorize, made by the following companies : Inquiries : 1. XXXX XXXX XX/XX/XXXX 2. XXXX XXXX XXXX XXXX, XXXX 3. XXXX XXXX XXXX, XXXX 4. XXXX XXXX XXXX XXXX, XXXX 5. XXXX XXXX XXXX XXXX, XXXX 6. XXXX XXXX XXXX XXXX, XXXX 7. XXXX  XXXX XXXX XXXX XX/XX/XXXX, XX/XX/XXXX, XXXX XXXX, XXXX and XXXX XXXX, XXXX 8. XXXXXXXX XXXX XX/XX/XXXX 9. XXXX XXXX XXXX XXXX, XXXX 10. XXXX XXXX XXXX XXXX XXXX, XXXX\",\n",
       " 'I have been a victim of identity theft',\n",
       " \"A guy name XXXX XXXX from Oracle 's financial debt collection told me I had to pay XXXX or the court will garnish my wages I block his number because I know I dont owe the XXXX XXXX XXXX no money then the next day a woman name XXXX XXXX said she was his boss and that she from finalization and she need the money or the court will see me I dont know how these scammers got my information my address my phone number my email I dont know how I am very upset I'm gon na to the cops!!!!!!\",\n",
       " 'I have XXXX serious Georgia serious commercial disqualifications on my motor vehicle report and I dont have CDL and never have had a CDL.',\n",
       " 'Every day, I receive a call from XXXX, in which I do not pick up and this person leaves a message. It is a male, not a recorded voice and he sounds like he\\'s talking in a call center ( i.e. background noise ). He has an American accent and voice is a deep tone. The voicemail is identical each day, never addresses any names, just says : \" We have an important message from capital management services. This is a call from a debt collector. Please call XXXX. \\'\\' I have no debt, so know this to be a false call.',\n",
       " 'On XX/XX/18 I certified mailed a Validation of Debt Letter to XXXX in relation to a debt collection I received. XXXX failed to respond with the information as is required by the FCRA. They then put several accounts on my credit report. \\n\\nThese actions are illegal according to the FCRA and I am demanding that all items be removed from my credit report as well as a check to be written to me in the amount of {$1000.00}, as is required by the FCRA for this illegal offense.',\n",
       " 'Re : XXXX XXXX XXXX XXXX {$730.00} is charging me this amount that I am not aware of. This item is being reported on my credit report as a collection item by FST FINANCIAL RESOURCES XXXX XXXX XXXX XXXX  XXXX XXXX XXXX, MA XXXX ( XXXX ) XXXX',\n",
       " 'I filed a complaint with identity theft.gov yet the fraudulent takeover of my account was never resolved, leaving a negative mark on my credit report.',\n",
       " '1.Original Creditor - XXXX XXXXXXXX XXXX XXXXXXXX 2.Collection Agency - XXXX XXXX XXXX 3.Now Owned By - Tate & Kirlin Associates , Inc Two Different Amounts {$1200.00} - {$1200.00} Claiming Amount Owned Date Disputed XXXX - XXXX - XXXX Disputed Charges And Asked For VOD Validation Of Debt *** NOT Validation*** Resolution :XX/XX/2018 Per XXXX  : I Quote Account Information Disputed By Consumer ( Meets Requirements The Fair Credit Act ) Inaccurate, Unverified Accounts Per FCRA Sec. XXXX Using XXXX XXXXXXXX XXXX is an automated does not even begin to Constitute a reasonable Investigation.',\n",
       " 'Nicholas Financial refused to report my account correctly to the credit reporting agency here is the proof I have never been late and although account is paid in full to them they see it as non important to correct account see attached reporting',\n",
       " 'On XX/XX/19 I sent a letter asking them VALIDATE AND VERIFY this debt that I \" owe \\'\\' and all I received back is COPIES of some contract from \" XXXX XXXX \\'\\' with NO SIGNATURE or ANY AGREEMENT whatsoever and something pertaining to APARTMENT XXXX not XXXX my real apartment number.. \\n\\nThis debt is INVALID and not VERIFIED NOR VERIFIED whatsoever.',\n",
       " 'Americollect Inc. \\nXXXX XXXX XXXX XXXX, WI XXXX Account Number : XXXX {$440.00} Account Number : XXXX {$55.00} Americollect Inc. Agent : This is notice to you that I am going to file suit against you for damages for repeated violations of the Federal Debt Collection Practices Act U.S.C. Title 15 1692 et seq.\\n\\nI received a credit alert from XXXX, XXXX, and XXXX that your company has flagged my accounts for collection. Exactly 2 ( two ) days from the date ; your Compliance Analyst apologized to my husband ( XXXX ) about this fraudulent account. Americollect Inc. has now fraudulently flagged my report. I do not now nor have I ever agreed to this contract! Proper documentation from Americollect Inc. was never provided for me to allow you to validate this alleged debt.\\n\\nAmercollect Inc. has been proven to be a fraudulent 3rd party collection agency that violates its alleged clients patients H.I.P.P.A rights. ( see attachments ) *Provided proof of apology.\\n\\nAny further contact in this alleged collection matter will be seen as an act of paper terrorism and mail fraud. You are not the HOLDER IN DUE COURSE and you have no standing in a U.S. Court.\\n\\nYou have 10 days from the date of this letter to remove this fraudulent account from my credit report and restore my scores or I will sue your company for a monetary amount in triple damages.\\n\\nI urge you to take this extremely seriously as I have documented my case with witnesses and without error!\\n\\nAll further contact from you will be FULLY DOCUMENTED and added to the already existing evidence and made available as evidence in the Court action against you. \\n\\nAmericollect has NOT responded and the accounts remain on my credit files.',\n",
       " \"During my services in the XXXX my identity was compromised. I have worked hard to get this resolved. However, today I discovered that Experian has a Rental History department and it is negative reporting false accounts with XXXX and XXXX XXXX. I have never rented or done any buisness wit h either entities. I demand that this and all other negative items be removed from my Experian renal history department. When i contacted Experian 's rental history department they stated that it was separate from the credit department. I have emailed the FTC Affidavit to Experian ' rental history department. I was denied a rental property for this.\",\n",
       " \"student loan amount of {$700.00} was taken out from my bank account but doesn't show on navient account because navient account shows that i only made a payment of {$240.00}. They couldn't figure out where the money went, including the manager. I had to waste 30mins of holding and figuring out with them over the phone.\",\n",
       " \"Wakefield Associates continues to contact me after I have given them my attorney number to verify that this debt they are trying to collect is still pending and the amount isn't correct as well. Pending lawsuit for auto accident.\",\n",
       " 'Withdrew my loan after it was in underwriting, it was done after I told The mortgage broker that I needed an answer or I was going to contact another lender',\n",
       " 'I paid AMERICAN consumer credit for their services to assist with getting rid of a time share contract and clear up my credit associated with time share, this was not completed, I have tried contacting company multiple times and they do not answer the phone and voicemail has been full for the last couple of months. Company guaranteed their services or money back after 2 years and I have been unsuccessful with attempting to get reimbursed as company never completed their services',\n",
       " 'I have been a victim of identity theft.',\n",
       " 'I have been a victim of identity theft',\n",
       " 'The creditor listed in this collection account never belonged to me. This has to be an error. I gave no consent for this original creditor to use my information',\n",
       " 'On XX/XX/2019, I was charged {$230.00}. I informed the company of this fraudulent charge on XX/XX/2019. They issued me a conditional credit until they could finish their investigation. On XX/XX/2019, they closed their investigation in favor of the merchant and reversed the conditional credit. I am continuing to dispute this. \\n\\nOriginally, I did not submit any information in support of my dispute, just because the transaction was never made by me. My credit card activity with the same bank also shows that I was in California the entire time. I assumed they could access this and easily assume that I could not have made the charge. \\n\\nThe information the merchant provided was an IP address in Texas that shows the purchased item was ordered to someone I have never heard of. Although the address may match, I have no idea who the person is. I also do not have authorized users to my credit card other than myself.',\n",
       " 'I am the co-signer of some private student loans that my daughter had defaulted on back in XXXX. In XXXX I was notified by a collection agency that they would start proceedings to take my house if I did not start paying on the loans. My daughter was in the process of legal proceedings at the time which were going to result in state prison time so I set up a repayment plan with the collection company immediately. Since XXXX of XXXX either myself and then later my daughter have consistently made monthly payments to this collection agency for the amount agreed upon. At the time the collection agency took over the loan we owed them approximately {$24000.00}. Over the last 11 1/2 years we have paid them approximately {$35000.00}. The collection agency states we still owe them approximately {$13000.00}. We have never received documentation from the collection agency what the monthly interest rate and collection fees would be. This past XXXX they sent correspondence for two of the six accounts on what amount has gone onto principle towards the balance for those two accounts. We have received nothing about the other four accounts. For the two accounts they did send documentation for the following amounts were given -- opening balance on account XXXX, current balance on account XXXX and amount paid since XXXX on account XXXX. The other account had an opening balance of XXXX, current balance due of XXXX and amount paid since XXXX XXXX. If the other four accounts have similar scenarios how are we to ever get these accounts paid? At what point does it become extortion for these collection agencies to continue to pile on such exorbitant fees and interest year after year. When we make contact with the collection company they tell use we can send them a \" pay off amount \\'\\' that is a huge lump sum, but without that there is nothing else they can do for us. By not providing us with the proper documentation of what their interest rate and collection fees would be are they in violation of our rights? Why have they not provided us with regular documentation of the accounts and why did they send us only information on two of the six accounts? Why is there not some type of amortization table provided by them since the beginning when we set up payments so we would know when the debt would be completely paid?',\n",
       " \"I gave no authorization for my credit report to be pulled. For our mortgage approval the request specifically said to pull only my husband 's report. The auto inquiries pulled over the last couple weeks was supposed to be limited to one bank, not the multiple inquiries that I see on my report\",\n",
       " 'I send a request to have the fraud alert removed from all 3 credit bureau but XXXX   removed the fraud alert and then send a request to have a fraud alert added to Transunion & XXXX  by eletronic notice I did not ask them to do so I have enclosed a letter from XXXX  where there admitting that they did this',\n",
       " 'I am currently 29 days overdue on my auto loan. The lender, XXXX XXXX, has my proper address and phone number. They call daily about the debt but I have been unable to catch up. They send letters to my address. I have responded to phone calls. I have not changed address or phone numbers since I first took on the debt. \\n\\nToday, XX/XX/2019, they contact my brother and left a message that I had to contact XXXX XXXX. They are not supposed to contact relatives when they have good contact information for me which I am reachable at. \\n\\nThis same problem happened approximately 1 year ago and I contacted XXXX XXXX and asked them to remove my family members from their records. I explained that my contact information has not changed and I am reachable and receiving their calls. They agreed. Today they contacted my family again in an attempt to harass me. My contact information has been the same since I took the loan.',\n",
       " 'I have received several calls from this number : XXXX. Caller says the message is from a debt collector and gives this number to call back : XXXX. I have not talked to the caller and only know the message because a voice mail was left. I am not aware of any outstanding debt and I have not received any written communication from any company about money owed them. I think the call is a scam and hope you can handle it.',\n",
       " \"XX/XX/2018 i contacted THIS THIRD PARTY COMPANY XXXX XXXX XXXX XXXX XXXX XXXX XXXX XXXX XXXX XXXX XXXX XXXX, FL XXXX THE ORIGINAL CREDITOR IS Original Creditor Name XXXX XXXX XXXX ADVISED THEM ONCE ITS SOLD ITS WRITING OFF THEY ARE TRYING TO COLLECT ON A OLD CLOSED ACCOUNT ONCE IT WAS SOLD THIS IS A NEW CONTRACT THAT I NEVER SAW NOR CONSENTED TOO BUT HAS BEEN DONE ILLEGALLY ars in reference to two accounts being reported as bad debt..i first asked them to furnish me with the original application showing my signature..Rep said she didn't have to SHOW that i told her according to fdcpa A debt has to be proven BY SIGNED CONTRACT BEING PRODUCED she said their is no such thing ... 2nd i asked when did i come to agreement with XXXX  to have access to my XXXX records AND ALSO I TOLD HER THIS COMPANY HAS VIOLATED MY HIPPA RIGHTS GAINED ILLEGAL ACCESS TO MY PERSONAL MEDICAL RECORDS I ADVISED THEY NEED TO REMOVE THESE 2 ACCOUNTS FROM ALL THREE OF MY CREDIT BUREUAS SHE STATED IT WILL STAY ON MY CREDIT AND DAMAGE IT..i advised her i need proof of such occurrence..she placed me on hold..a supervisor got on the line stating if debt was not paid they could garnish my wages even sue me i asked for this in writing they disconnected the call.. I called back another representative came on the line and immediately said we refuse to talk to you and disconnected\",\n",
       " \"XXXX XXXX at extension XXXX called my work the phone was answered by another associate who reported he was rude and asked why she was afraid to tell him her name. The associate repeatedly told him that he was not allowed to call my employer he pressed the issue until my manager got involved. I am not 100 percent sure if this is about a credit card I have been harassed for 15 years for a debt I don't know of. I have been in good standing with my bills for 15 years and I have had numerous calls from numerous sources none of which can tell me who the original owner of the debt is.\",\n",
       " 'I gave XXXX two check with her both cashed and merchant received the money from my bank account yet Certegy check services states check were still unpaid. I have attach copy of paid transaction from my bank showing checks were paid to merchant.',\n",
       " 'I contacted the Consumer Financial Credit Protection Bureau on three accounts that are not due by me I submitted documents and Meridian Financial answered the complaint and removed from my credit now the same account are in my XXXX   credit report and were never removed. Attached is the proof on a previous file.']"
      ]
     },
     "execution_count": 39,
     "metadata": {},
     "output_type": "execute_result"
    }
   ],
   "source": [
    "corpus = df1[\"Consumer complaint narrative\"].tolist()\n",
    "corpus"
   ]
  },
  {
   "cell_type": "markdown",
   "metadata": {},
   "source": [
    "Tokenizing, Lemmatizing and Removing Stopwords and Punctuations"
   ]
  },
  {
   "cell_type": "code",
   "execution_count": 40,
   "metadata": {},
   "outputs": [],
   "source": [
    "# from nltk.corpus import stopwords\n",
    "# from string import punctuation\n",
    "# stuff_to_be_removed = list(stopwords.words(\"english\"))+list(punctuation)"
   ]
  },
  {
   "cell_type": "code",
   "execution_count": 41,
   "metadata": {},
   "outputs": [
    {
     "name": "stderr",
     "output_type": "stream",
     "text": [
      "[nltk_data] Downloading package words to\n",
      "[nltk_data]     C:\\Users\\Devyani\\AppData\\Roaming\\nltk_data...\n",
      "[nltk_data]   Package words is already up-to-date!\n"
     ]
    }
   ],
   "source": [
    "from nltk.tokenize import word_tokenize\n",
    "from nltk.stem import WordNetLemmatizer \n",
    "lemmatizer = WordNetLemmatizer()\n",
    "import nltk\n",
    "nltk.download('words')\n",
    "words = set(nltk.corpus.words.words())"
   ]
  },
  {
   "cell_type": "code",
   "execution_count": 42,
   "metadata": {},
   "outputs": [],
   "source": [
    "final_corpus= []\n",
    "for i in range(len(corpus)):\n",
    "    text = word_tokenize(corpus[i].lower())\n",
    "    sent = \" \".join(text)\n",
    "    sent = \" \".join(w for w in nltk.wordpunct_tokenize(sent) \\\n",
    "         if w.lower() in words or not w.isalpha())\n",
    "    \n",
    "    final_corpus.append(sent)"
   ]
  },
  {
   "cell_type": "code",
   "execution_count": 43,
   "metadata": {},
   "outputs": [],
   "source": [
    "new_df = pd.DataFrame(final_corpus)"
   ]
  },
  {
   "cell_type": "code",
   "execution_count": 44,
   "metadata": {},
   "outputs": [],
   "source": [
    "new_df.columns = [\"Complaint\"]"
   ]
  },
  {
   "cell_type": "code",
   "execution_count": 45,
   "metadata": {},
   "outputs": [
    {
     "data": {
      "text/html": [
       "<div>\n",
       "<style scoped>\n",
       "    .dataframe tbody tr th:only-of-type {\n",
       "        vertical-align: middle;\n",
       "    }\n",
       "\n",
       "    .dataframe tbody tr th {\n",
       "        vertical-align: top;\n",
       "    }\n",
       "\n",
       "    .dataframe thead th {\n",
       "        text-align: right;\n",
       "    }\n",
       "</style>\n",
       "<table border=\"1\" class=\"dataframe\">\n",
       "  <thead>\n",
       "    <tr style=\"text-align: right;\">\n",
       "      <th></th>\n",
       "      <th>Complaint</th>\n",
       "    </tr>\n",
       "  </thead>\n",
       "  <tbody>\n",
       "    <tr>\n",
       "      <th>0</th>\n",
       "      <td>! ! ! ! ! ! this is not a duplicate ! ! ! ! i ...</td>\n",
       "    </tr>\n",
       "    <tr>\n",
       "      <th>1</th>\n",
       "      <td>{ $ 16000 . 00 } . this is not my debt .</td>\n",
       "    </tr>\n",
       "    <tr>\n",
       "      <th>2</th>\n",
       "      <td>when they call they dont answer the call and t...</td>\n",
       "    </tr>\n",
       "    <tr>\n",
       "      <th>3</th>\n",
       "      <td>i provided account information which debt was ...</td>\n",
       "    </tr>\n",
       "    <tr>\n",
       "      <th>4</th>\n",
       "      <td>there are 2 on my credit report from a collect...</td>\n",
       "    </tr>\n",
       "  </tbody>\n",
       "</table>\n",
       "</div>"
      ],
      "text/plain": [
       "                                           Complaint\n",
       "0  ! ! ! ! ! ! this is not a duplicate ! ! ! ! i ...\n",
       "1           { $ 16000 . 00 } . this is not my debt .\n",
       "2  when they call they dont answer the call and t...\n",
       "3  i provided account information which debt was ...\n",
       "4  there are 2 on my credit report from a collect..."
      ]
     },
     "execution_count": 45,
     "metadata": {},
     "output_type": "execute_result"
    }
   ],
   "source": [
    "new_df.head()"
   ]
  },
  {
   "cell_type": "markdown",
   "metadata": {},
   "source": [
    "TF - IDF Value"
   ]
  },
  {
   "cell_type": "code",
   "execution_count": 46,
   "metadata": {},
   "outputs": [],
   "source": [
    "from sklearn.feature_extraction.text import TfidfVectorizer\n",
    "tfidf = TfidfVectorizer()"
   ]
  },
  {
   "cell_type": "code",
   "execution_count": 48,
   "metadata": {},
   "outputs": [],
   "source": [
    "vector= tfidf.fit_transform(new_df[\"Complaint\"])"
   ]
  },
  {
   "cell_type": "code",
   "execution_count": 49,
   "metadata": {},
   "outputs": [
    {
     "data": {
      "text/plain": [
       "<100x1190 sparse matrix of type '<class 'numpy.float64'>'\n",
       "\twith 5702 stored elements in Compressed Sparse Row format>"
      ]
     },
     "execution_count": 49,
     "metadata": {},
     "output_type": "execute_result"
    }
   ],
   "source": [
    "vector"
   ]
  },
  {
   "cell_type": "code",
   "execution_count": 32,
   "metadata": {},
   "outputs": [
    {
     "data": {
      "text/plain": [
       "array([[0.        , 0.        , 0.04762862, ..., 0.        , 0.        ,\n",
       "        0.        ],\n",
       "       [0.        , 0.        , 0.        , ..., 0.        , 0.        ,\n",
       "        0.        ],\n",
       "       [0.        , 0.        , 0.        , ..., 0.        , 0.        ,\n",
       "        0.        ],\n",
       "       ...,\n",
       "       [0.        , 0.        , 0.        , ..., 0.        , 0.        ,\n",
       "        0.        ],\n",
       "       [0.        , 0.        , 0.        , ..., 0.        , 0.        ,\n",
       "        0.        ],\n",
       "       [0.        , 0.        , 0.        , ..., 0.        , 0.        ,\n",
       "        0.        ]])"
      ]
     },
     "execution_count": 32,
     "metadata": {},
     "output_type": "execute_result"
    }
   ],
   "source": [
    "vector.toarray()"
   ]
  },
  {
   "cell_type": "code",
   "execution_count": 51,
   "metadata": {},
   "outputs": [],
   "source": [
    "X= vector.toarray()"
   ]
  },
  {
   "cell_type": "markdown",
   "metadata": {},
   "source": [
    "Data Train - Test Split"
   ]
  },
  {
   "cell_type": "code",
   "execution_count": 50,
   "metadata": {},
   "outputs": [],
   "source": [
    "from sklearn.decomposition import TruncatedSVD\n",
    "lsa = TruncatedSVD(n_components=3, n_iter=100)"
   ]
  },
  {
   "cell_type": "code",
   "execution_count": 52,
   "metadata": {},
   "outputs": [
    {
     "data": {
      "text/plain": [
       "TruncatedSVD(algorithm='randomized', n_components=3, n_iter=100,\n",
       "       random_state=None, tol=0.0)"
      ]
     },
     "execution_count": 52,
     "metadata": {},
     "output_type": "execute_result"
    }
   ],
   "source": [
    "lsa.fit(X)"
   ]
  },
  {
   "cell_type": "code",
   "execution_count": 56,
   "metadata": {},
   "outputs": [],
   "source": [
    "row1 = lsa.components_[0]"
   ]
  },
  {
   "cell_type": "code",
   "execution_count": 57,
   "metadata": {},
   "outputs": [
    {
     "data": {
      "text/plain": [
       "array([0.07749813, 0.00721741, 0.00685702, ..., 0.06940822, 0.02727772,\n",
       "       0.0031085 ])"
      ]
     },
     "execution_count": 57,
     "metadata": {},
     "output_type": "execute_result"
    }
   ],
   "source": [
    "row1"
   ]
  },
  {
   "cell_type": "code",
   "execution_count": 58,
   "metadata": {},
   "outputs": [
    {
     "data": {
      "text/plain": [
       "(3, 1190)"
      ]
     },
     "execution_count": 58,
     "metadata": {},
     "output_type": "execute_result"
    }
   ],
   "source": [
    "lsa.components_.shape"
   ]
  },
  {
   "cell_type": "code",
   "execution_count": null,
   "metadata": {},
   "outputs": [],
   "source": []
  }
 ],
 "metadata": {
  "kernelspec": {
   "display_name": "Python 3",
   "language": "python",
   "name": "python3"
  },
  "language_info": {
   "codemirror_mode": {
    "name": "ipython",
    "version": 3
   },
   "file_extension": ".py",
   "mimetype": "text/x-python",
   "name": "python",
   "nbconvert_exporter": "python",
   "pygments_lexer": "ipython3",
   "version": "3.7.1"
  }
 },
 "nbformat": 4,
 "nbformat_minor": 2
}
