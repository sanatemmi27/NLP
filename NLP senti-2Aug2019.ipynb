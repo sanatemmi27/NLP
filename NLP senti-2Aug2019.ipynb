{
 "cells": [
  {
   "cell_type": "code",
   "execution_count": 1,
   "metadata": {},
   "outputs": [],
   "source": [
    "import nltk as nlt"
   ]
  },
  {
   "cell_type": "code",
   "execution_count": 2,
   "metadata": {},
   "outputs": [],
   "source": [
    "import textblob as tb"
   ]
  },
  {
   "cell_type": "code",
   "execution_count": 24,
   "metadata": {},
   "outputs": [],
   "source": [
    "import pandas as pd\n",
    "import matplotlib.pyplot as plt\n",
    "import os\n",
    "os.chdir(\"C:\\\\Users\\\\sanat\\\\Downloads\")"
   ]
  },
  {
   "cell_type": "code",
   "execution_count": 25,
   "metadata": {},
   "outputs": [],
   "source": [
    "june = pd.read_csv(\"June_2018.csv\",encoding='iso-8859-1')"
   ]
  },
  {
   "cell_type": "code",
   "execution_count": 26,
   "metadata": {},
   "outputs": [
    {
     "data": {
      "text/html": [
       "<div>\n",
       "<style scoped>\n",
       "    .dataframe tbody tr th:only-of-type {\n",
       "        vertical-align: middle;\n",
       "    }\n",
       "\n",
       "    .dataframe tbody tr th {\n",
       "        vertical-align: top;\n",
       "    }\n",
       "\n",
       "    .dataframe thead th {\n",
       "        text-align: right;\n",
       "    }\n",
       "</style>\n",
       "<table border=\"1\" class=\"dataframe\">\n",
       "  <thead>\n",
       "    <tr style=\"text-align: right;\">\n",
       "      <th></th>\n",
       "      <th>messageID</th>\n",
       "      <th>Message Source</th>\n",
       "      <th>Profile Pic</th>\n",
       "      <th>Profile Link</th>\n",
       "      <th>From</th>\n",
       "      <th>Bio</th>\n",
       "      <th>Title</th>\n",
       "      <th>Message</th>\n",
       "      <th>Post Image</th>\n",
       "      <th>Post Name</th>\n",
       "      <th>...</th>\n",
       "      <th>To Email</th>\n",
       "      <th>To Team</th>\n",
       "      <th>From Basket</th>\n",
       "      <th>To Basket</th>\n",
       "      <th>Rule Name</th>\n",
       "      <th>Priority</th>\n",
       "      <th>Action</th>\n",
       "      <th>Ticket ID</th>\n",
       "      <th>Review</th>\n",
       "      <th>Sub Query</th>\n",
       "    </tr>\n",
       "  </thead>\n",
       "  <tbody>\n",
       "    <tr>\n",
       "      <th>0</th>\n",
       "      <td>fbc_1_201477243197783_2149770155035139_2151247...</td>\n",
       "      <td>Facebook Comment</td>\n",
       "      <td>https://graph.facebook.com/2118980871690266/pi...</td>\n",
       "      <td>http://facebook.com/2118980871690266</td>\n",
       "      <td>Manvi Raina</td>\n",
       "      <td></td>\n",
       "      <td></td>\n",
       "      <td>Price plz</td>\n",
       "      <td></td>\n",
       "      <td></td>\n",
       "      <td>...</td>\n",
       "      <td></td>\n",
       "      <td></td>\n",
       "      <td></td>\n",
       "      <td>ORM Team</td>\n",
       "      <td>Auto Assignment</td>\n",
       "      <td>TRIVIAL</td>\n",
       "      <td>Assigned</td>\n",
       "      <td>222421884114149220</td>\n",
       "      <td>NaN</td>\n",
       "      <td>NaN</td>\n",
       "    </tr>\n",
       "    <tr>\n",
       "      <th>1</th>\n",
       "      <td>fbc_1_201477243197783_2150605241618297_2151250...</td>\n",
       "      <td>Facebook Comment</td>\n",
       "      <td>https://graph.facebook.com/367228417124693/pic...</td>\n",
       "      <td>http://facebook.com/367228417124693</td>\n",
       "      <td>Vandana Duakataria</td>\n",
       "      <td></td>\n",
       "      <td></td>\n",
       "      <td>Pp</td>\n",
       "      <td></td>\n",
       "      <td></td>\n",
       "      <td>...</td>\n",
       "      <td></td>\n",
       "      <td></td>\n",
       "      <td></td>\n",
       "      <td>ORM Team</td>\n",
       "      <td>Auto Assignment</td>\n",
       "      <td>TRIVIAL</td>\n",
       "      <td>Assigned</td>\n",
       "      <td>222421884114142230</td>\n",
       "      <td>NaN</td>\n",
       "      <td>NaN</td>\n",
       "    </tr>\n",
       "    <tr>\n",
       "      <th>2</th>\n",
       "      <td>fbc_1_201477243197783_2148373755174779_2151252...</td>\n",
       "      <td>Facebook Comment</td>\n",
       "      <td>https://graph.facebook.com/258223454746720/pic...</td>\n",
       "      <td>http://facebook.com/258223454746720</td>\n",
       "      <td>Rajeev Rajeev</td>\n",
       "      <td></td>\n",
       "      <td></td>\n",
       "      <td>Nice</td>\n",
       "      <td></td>\n",
       "      <td></td>\n",
       "      <td>...</td>\n",
       "      <td></td>\n",
       "      <td></td>\n",
       "      <td></td>\n",
       "      <td>ORM Team</td>\n",
       "      <td>Auto Assignment</td>\n",
       "      <td>TRIVIAL</td>\n",
       "      <td>Assigned</td>\n",
       "      <td>222421884114151718</td>\n",
       "      <td>NaN</td>\n",
       "      <td>NaN</td>\n",
       "    </tr>\n",
       "    <tr>\n",
       "      <th>3</th>\n",
       "      <td>fbc_1_201477243197783_2149735608371927_2151259...</td>\n",
       "      <td>Facebook Comment</td>\n",
       "      <td>https://graph.facebook.com/2128204954122811/pi...</td>\n",
       "      <td>http://facebook.com/2128204954122811</td>\n",
       "      <td>Pooja Narula</td>\n",
       "      <td></td>\n",
       "      <td></td>\n",
       "      <td>Pp</td>\n",
       "      <td></td>\n",
       "      <td></td>\n",
       "      <td>...</td>\n",
       "      <td></td>\n",
       "      <td></td>\n",
       "      <td></td>\n",
       "      <td>ORM Team</td>\n",
       "      <td>Auto Assignment</td>\n",
       "      <td>TRIVIAL</td>\n",
       "      <td>Assigned</td>\n",
       "      <td>222421884114153208</td>\n",
       "      <td>NaN</td>\n",
       "      <td>NaN</td>\n",
       "    </tr>\n",
       "    <tr>\n",
       "      <th>4</th>\n",
       "      <td>fbc_1_201477243197783_2149754831703338_2151260...</td>\n",
       "      <td>Facebook Comment</td>\n",
       "      <td>https://graph.facebook.com/355753841609985/pic...</td>\n",
       "      <td>http://facebook.com/355753841609985</td>\n",
       "      <td>Richa Mishra</td>\n",
       "      <td></td>\n",
       "      <td></td>\n",
       "      <td>Pp</td>\n",
       "      <td></td>\n",
       "      <td></td>\n",
       "      <td>...</td>\n",
       "      <td></td>\n",
       "      <td></td>\n",
       "      <td></td>\n",
       "      <td>ORM Team</td>\n",
       "      <td>Auto Assignment</td>\n",
       "      <td>TRIVIAL</td>\n",
       "      <td>Assigned</td>\n",
       "      <td>222421884114153240</td>\n",
       "      <td>NaN</td>\n",
       "      <td>NaN</td>\n",
       "    </tr>\n",
       "  </tbody>\n",
       "</table>\n",
       "<p>5 rows × 39 columns</p>\n",
       "</div>"
      ],
      "text/plain": [
       "                                           messageID    Message Source  \\\n",
       "0  fbc_1_201477243197783_2149770155035139_2151247...  Facebook Comment   \n",
       "1  fbc_1_201477243197783_2150605241618297_2151250...  Facebook Comment   \n",
       "2  fbc_1_201477243197783_2148373755174779_2151252...  Facebook Comment   \n",
       "3  fbc_1_201477243197783_2149735608371927_2151259...  Facebook Comment   \n",
       "4  fbc_1_201477243197783_2149754831703338_2151260...  Facebook Comment   \n",
       "\n",
       "                                         Profile Pic  \\\n",
       "0  https://graph.facebook.com/2118980871690266/pi...   \n",
       "1  https://graph.facebook.com/367228417124693/pic...   \n",
       "2  https://graph.facebook.com/258223454746720/pic...   \n",
       "3  https://graph.facebook.com/2128204954122811/pi...   \n",
       "4  https://graph.facebook.com/355753841609985/pic...   \n",
       "\n",
       "                           Profile Link                From Bio Title  \\\n",
       "0  http://facebook.com/2118980871690266         Manvi Raina             \n",
       "1   http://facebook.com/367228417124693  Vandana Duakataria             \n",
       "2   http://facebook.com/258223454746720       Rajeev Rajeev             \n",
       "3  http://facebook.com/2128204954122811        Pooja Narula             \n",
       "4   http://facebook.com/355753841609985        Richa Mishra             \n",
       "\n",
       "     Message Post Image Post Name  ... To Email To Team From Basket To Basket  \\\n",
       "0  Price plz                       ...                               ORM Team   \n",
       "1         Pp                       ...                               ORM Team   \n",
       "2       Nice                       ...                               ORM Team   \n",
       "3         Pp                       ...                               ORM Team   \n",
       "4         Pp                       ...                               ORM Team   \n",
       "\n",
       "         Rule Name Priority    Action           Ticket ID Review Sub Query  \n",
       "0  Auto Assignment  TRIVIAL  Assigned  222421884114149220    NaN       NaN  \n",
       "1  Auto Assignment  TRIVIAL  Assigned  222421884114142230    NaN       NaN  \n",
       "2  Auto Assignment  TRIVIAL  Assigned  222421884114151718    NaN       NaN  \n",
       "3  Auto Assignment  TRIVIAL  Assigned  222421884114153208    NaN       NaN  \n",
       "4  Auto Assignment  TRIVIAL  Assigned  222421884114153240    NaN       NaN  \n",
       "\n",
       "[5 rows x 39 columns]"
      ]
     },
     "execution_count": 26,
     "metadata": {},
     "output_type": "execute_result"
    }
   ],
   "source": [
    "june.head()"
   ]
  },
  {
   "cell_type": "code",
   "execution_count": 27,
   "metadata": {},
   "outputs": [
    {
     "data": {
      "text/plain": [
       "Index(['messageID', 'Message Source', 'Profile Pic', 'Profile Link', 'From',\n",
       "       'Bio', 'Title', 'Message', 'Post Image', 'Post Name', 'Average Rating',\n",
       "       'No. of Raters', 'Total views', 'Post Caption', 'Country', 'State',\n",
       "       'City', 'Sentiment', 'Gender', 'Listed', 'Comment Count', 'Link',\n",
       "       'Source', 'Collected On', 'Topics', 'From Name', 'From Email',\n",
       "       'From Team', 'To Name', 'To Email', 'To Team', 'From Basket',\n",
       "       'To Basket', 'Rule Name', 'Priority', 'Action', 'Ticket ID', 'Review',\n",
       "       'Sub Query'],\n",
       "      dtype='object')"
      ]
     },
     "execution_count": 27,
     "metadata": {},
     "output_type": "execute_result"
    }
   ],
   "source": [
    "june.columns"
   ]
  },
  {
   "cell_type": "code",
   "execution_count": 28,
   "metadata": {},
   "outputs": [],
   "source": [
    "feb = pd.read_csv(\"Feb_2018.csv\",encoding='iso-8859-1')"
   ]
  },
  {
   "cell_type": "code",
   "execution_count": 29,
   "metadata": {},
   "outputs": [
    {
     "data": {
      "text/html": [
       "<div>\n",
       "<style scoped>\n",
       "    .dataframe tbody tr th:only-of-type {\n",
       "        vertical-align: middle;\n",
       "    }\n",
       "\n",
       "    .dataframe tbody tr th {\n",
       "        vertical-align: top;\n",
       "    }\n",
       "\n",
       "    .dataframe thead th {\n",
       "        text-align: right;\n",
       "    }\n",
       "</style>\n",
       "<table border=\"1\" class=\"dataframe\">\n",
       "  <thead>\n",
       "    <tr style=\"text-align: right;\">\n",
       "      <th></th>\n",
       "      <th>messageID</th>\n",
       "      <th>Message Source</th>\n",
       "      <th>Profile Pic</th>\n",
       "      <th>Profile Link</th>\n",
       "      <th>From</th>\n",
       "      <th>Bio</th>\n",
       "      <th>Title</th>\n",
       "      <th>Message</th>\n",
       "      <th>Post Image</th>\n",
       "      <th>Post Name</th>\n",
       "      <th>...</th>\n",
       "      <th>Case Frt</th>\n",
       "      <th>Case WH Frt</th>\n",
       "      <th>Conversation Frt</th>\n",
       "      <th>Conversation WH Frt</th>\n",
       "      <th>First Conversation Frt</th>\n",
       "      <th>First Conversation WH Frt</th>\n",
       "      <th>Holding Time</th>\n",
       "      <th>Holding Time WH</th>\n",
       "      <th>Currently Active</th>\n",
       "      <th>Updated On</th>\n",
       "    </tr>\n",
       "  </thead>\n",
       "  <tbody>\n",
       "    <tr>\n",
       "      <th>0</th>\n",
       "      <td>fbm_1_t_mid._dol_cAADtyHquTA5kZB7jB1eMtmOhsUin...</td>\n",
       "      <td>Facebook Inbox Message</td>\n",
       "      <td>https://scontent.xx.fbcdn.net/v/t1.0-1/p50x50/...</td>\n",
       "      <td>http://facebook.com/265276213961476</td>\n",
       "      <td>Prema Latha Kosuru</td>\n",
       "      <td></td>\n",
       "      <td></td>\n",
       "      <td>Dear Prema Latha, your order no. 103880674 has...</td>\n",
       "      <td></td>\n",
       "      <td></td>\n",
       "      <td>...</td>\n",
       "      <td>0.0</td>\n",
       "      <td>0.0</td>\n",
       "      <td>0.0</td>\n",
       "      <td>0.0</td>\n",
       "      <td>0.0</td>\n",
       "      <td>0.0</td>\n",
       "      <td>248792.0</td>\n",
       "      <td>248792.0</td>\n",
       "      <td>No</td>\n",
       "      <td>02-09-2017 14:14:29</td>\n",
       "    </tr>\n",
       "    <tr>\n",
       "      <th>1</th>\n",
       "      <td>fbm_1_t_mid._dol_cAADtyHquTA5kZB7jB1eMtmOhsUin...</td>\n",
       "      <td>Facebook Inbox Message</td>\n",
       "      <td>https://scontent.xx.fbcdn.net/v/t1.0-1/p50x50/...</td>\n",
       "      <td>http://facebook.com/265276213961476</td>\n",
       "      <td>Prema Latha Kosuru</td>\n",
       "      <td></td>\n",
       "      <td></td>\n",
       "      <td>Dear Prema Latha, your order no. 103880674 has...</td>\n",
       "      <td></td>\n",
       "      <td></td>\n",
       "      <td>...</td>\n",
       "      <td>248792.0</td>\n",
       "      <td>248792.0</td>\n",
       "      <td>249042.0</td>\n",
       "      <td>249042.0</td>\n",
       "      <td>249042.0</td>\n",
       "      <td>249042.0</td>\n",
       "      <td>1.0</td>\n",
       "      <td>1.0</td>\n",
       "      <td>No</td>\n",
       "      <td>02-09-2017 14:14:29</td>\n",
       "    </tr>\n",
       "    <tr>\n",
       "      <th>2</th>\n",
       "      <td>fbm_1_t_mid._dol_cAADtyHquTA5kZB7jB1eMtmOhsUin...</td>\n",
       "      <td>Facebook Inbox Message</td>\n",
       "      <td>https://scontent.xx.fbcdn.net/v/t1.0-1/p50x50/...</td>\n",
       "      <td>http://facebook.com/265276213961476</td>\n",
       "      <td>Prema Latha Kosuru</td>\n",
       "      <td></td>\n",
       "      <td></td>\n",
       "      <td>Dear Prema Latha, your order no. 103880674 has...</td>\n",
       "      <td></td>\n",
       "      <td></td>\n",
       "      <td>...</td>\n",
       "      <td>248792.0</td>\n",
       "      <td>248792.0</td>\n",
       "      <td>249042.0</td>\n",
       "      <td>249042.0</td>\n",
       "      <td>249042.0</td>\n",
       "      <td>249042.0</td>\n",
       "      <td>691.0</td>\n",
       "      <td>691.0</td>\n",
       "      <td>No</td>\n",
       "      <td>02-09-2017 14:26:01</td>\n",
       "    </tr>\n",
       "    <tr>\n",
       "      <th>3</th>\n",
       "      <td>fbm_1_t_mid._dol_cAADtyHquTA5kZB7jB1eMtmOhsUin...</td>\n",
       "      <td>Facebook Inbox Message</td>\n",
       "      <td>https://scontent.xx.fbcdn.net/v/t1.0-1/p50x50/...</td>\n",
       "      <td>http://facebook.com/265276213961476</td>\n",
       "      <td>Prema Latha Kosuru</td>\n",
       "      <td></td>\n",
       "      <td></td>\n",
       "      <td>There is no blouse in the sareey i am not sati...</td>\n",
       "      <td></td>\n",
       "      <td></td>\n",
       "      <td>...</td>\n",
       "      <td>248792.0</td>\n",
       "      <td>248792.0</td>\n",
       "      <td>249042.0</td>\n",
       "      <td>249042.0</td>\n",
       "      <td>249042.0</td>\n",
       "      <td>249042.0</td>\n",
       "      <td>13184.0</td>\n",
       "      <td>13184.0</td>\n",
       "      <td>No</td>\n",
       "      <td>02-09-2017 18:05:45</td>\n",
       "    </tr>\n",
       "    <tr>\n",
       "      <th>4</th>\n",
       "      <td>fbm_1_t_mid._dol_cAADtyHquTA5kZB7jB1eMtmOhsUin...</td>\n",
       "      <td>Facebook Inbox Message</td>\n",
       "      <td>https://scontent.xx.fbcdn.net/v/t1.0-1/p50x50/...</td>\n",
       "      <td>http://facebook.com/265276213961476</td>\n",
       "      <td>Prema Latha Kosuru</td>\n",
       "      <td></td>\n",
       "      <td></td>\n",
       "      <td>There is no blouse in the sareey i am not sati...</td>\n",
       "      <td></td>\n",
       "      <td></td>\n",
       "      <td>...</td>\n",
       "      <td>248792.0</td>\n",
       "      <td>248792.0</td>\n",
       "      <td>13406.0</td>\n",
       "      <td>13406.0</td>\n",
       "      <td>249042.0</td>\n",
       "      <td>249042.0</td>\n",
       "      <td>1.0</td>\n",
       "      <td>1.0</td>\n",
       "      <td>No</td>\n",
       "      <td>02-09-2017 18:05:45</td>\n",
       "    </tr>\n",
       "  </tbody>\n",
       "</table>\n",
       "<p>5 rows × 78 columns</p>\n",
       "</div>"
      ],
      "text/plain": [
       "                                           messageID          Message Source  \\\n",
       "0  fbm_1_t_mid._dol_cAADtyHquTA5kZB7jB1eMtmOhsUin...  Facebook Inbox Message   \n",
       "1  fbm_1_t_mid._dol_cAADtyHquTA5kZB7jB1eMtmOhsUin...  Facebook Inbox Message   \n",
       "2  fbm_1_t_mid._dol_cAADtyHquTA5kZB7jB1eMtmOhsUin...  Facebook Inbox Message   \n",
       "3  fbm_1_t_mid._dol_cAADtyHquTA5kZB7jB1eMtmOhsUin...  Facebook Inbox Message   \n",
       "4  fbm_1_t_mid._dol_cAADtyHquTA5kZB7jB1eMtmOhsUin...  Facebook Inbox Message   \n",
       "\n",
       "                                         Profile Pic  \\\n",
       "0  https://scontent.xx.fbcdn.net/v/t1.0-1/p50x50/...   \n",
       "1  https://scontent.xx.fbcdn.net/v/t1.0-1/p50x50/...   \n",
       "2  https://scontent.xx.fbcdn.net/v/t1.0-1/p50x50/...   \n",
       "3  https://scontent.xx.fbcdn.net/v/t1.0-1/p50x50/...   \n",
       "4  https://scontent.xx.fbcdn.net/v/t1.0-1/p50x50/...   \n",
       "\n",
       "                          Profile Link                From Bio Title  \\\n",
       "0  http://facebook.com/265276213961476  Prema Latha Kosuru             \n",
       "1  http://facebook.com/265276213961476  Prema Latha Kosuru             \n",
       "2  http://facebook.com/265276213961476  Prema Latha Kosuru             \n",
       "3  http://facebook.com/265276213961476  Prema Latha Kosuru             \n",
       "4  http://facebook.com/265276213961476  Prema Latha Kosuru             \n",
       "\n",
       "                                             Message Post Image Post Name  \\\n",
       "0  Dear Prema Latha, your order no. 103880674 has...                        \n",
       "1  Dear Prema Latha, your order no. 103880674 has...                        \n",
       "2  Dear Prema Latha, your order no. 103880674 has...                        \n",
       "3  There is no blouse in the sareey i am not sati...                        \n",
       "4  There is no blouse in the sareey i am not sati...                        \n",
       "\n",
       "   ...  Case Frt Case WH Frt Conversation Frt Conversation WH Frt  \\\n",
       "0  ...       0.0         0.0              0.0                 0.0   \n",
       "1  ...  248792.0    248792.0         249042.0            249042.0   \n",
       "2  ...  248792.0    248792.0         249042.0            249042.0   \n",
       "3  ...  248792.0    248792.0         249042.0            249042.0   \n",
       "4  ...  248792.0    248792.0          13406.0             13406.0   \n",
       "\n",
       "  First Conversation Frt First Conversation WH Frt Holding Time  \\\n",
       "0                    0.0                       0.0     248792.0   \n",
       "1               249042.0                  249042.0          1.0   \n",
       "2               249042.0                  249042.0        691.0   \n",
       "3               249042.0                  249042.0      13184.0   \n",
       "4               249042.0                  249042.0          1.0   \n",
       "\n",
       "  Holding Time WH Currently Active           Updated On  \n",
       "0        248792.0               No  02-09-2017 14:14:29  \n",
       "1             1.0               No  02-09-2017 14:14:29  \n",
       "2           691.0               No  02-09-2017 14:26:01  \n",
       "3         13184.0               No  02-09-2017 18:05:45  \n",
       "4             1.0               No  02-09-2017 18:05:45  \n",
       "\n",
       "[5 rows x 78 columns]"
      ]
     },
     "execution_count": 29,
     "metadata": {},
     "output_type": "execute_result"
    }
   ],
   "source": [
    "feb.head()"
   ]
  },
  {
   "cell_type": "code",
   "execution_count": 30,
   "metadata": {},
   "outputs": [
    {
     "data": {
      "text/plain": [
       "Index(['messageID', 'Message Source', 'Profile Pic', 'Profile Link', 'From',\n",
       "       'Bio', 'Title', 'Message', 'Post Image', 'Post Name', 'Average Rating',\n",
       "       'No. of Raters', 'Total views', 'Post Caption', 'Post Description',\n",
       "       'Country', 'State', 'City', 'Sentiment', 'Gender', 'Following',\n",
       "       'Followers', 'Favourites', 'Listed', 'Status Count', 'Comment Count',\n",
       "       'Tags', 'Link', 'Source', 'Created On (Posted On)', 'Collected On',\n",
       "       'Timestamp', 'Topics', 'From Name', 'From Email', 'From Team',\n",
       "       'To Name', 'To Email', 'To Team', 'From Basket', 'To Basket',\n",
       "       'Rule Name', 'Priority', 'Action', 'Work Message', 'Response Message',\n",
       "       'Assigned To Agent', 'Assigned To Workbasket', 'Action Start Date',\n",
       "       'Action Date', 'Ticket ID', 'Notes', 'Served On', 'Date', 'Time',\n",
       "       'Topics.1', 'Review', 'Sub Query', 'Message Ageing', 'Case Ageing',\n",
       "       'Action Start Iteration', 'Action Start Total',\n",
       "       'Action Start WH Iteration', 'Action Start WH Total',\n",
       "       'First Message Iteration', 'First Message Total',\n",
       "       'First Message WH Iteration', 'First Message WH Total', 'Case Frt',\n",
       "       'Case WH Frt', 'Conversation Frt', 'Conversation WH Frt',\n",
       "       'First Conversation Frt', 'First Conversation WH Frt', 'Holding Time',\n",
       "       'Holding Time WH', 'Currently Active', 'Updated On'],\n",
       "      dtype='object')"
      ]
     },
     "execution_count": 30,
     "metadata": {},
     "output_type": "execute_result"
    }
   ],
   "source": [
    "feb.columns"
   ]
  },
  {
   "cell_type": "code",
   "execution_count": 31,
   "metadata": {},
   "outputs": [],
   "source": [
    "may = pd.read_csv(\"May_2018.csv\",encoding='iso-8859-1')"
   ]
  },
  {
   "cell_type": "code",
   "execution_count": 32,
   "metadata": {},
   "outputs": [
    {
     "data": {
      "text/html": [
       "<div>\n",
       "<style scoped>\n",
       "    .dataframe tbody tr th:only-of-type {\n",
       "        vertical-align: middle;\n",
       "    }\n",
       "\n",
       "    .dataframe tbody tr th {\n",
       "        vertical-align: top;\n",
       "    }\n",
       "\n",
       "    .dataframe thead th {\n",
       "        text-align: right;\n",
       "    }\n",
       "</style>\n",
       "<table border=\"1\" class=\"dataframe\">\n",
       "  <thead>\n",
       "    <tr style=\"text-align: right;\">\n",
       "      <th></th>\n",
       "      <th>messageID</th>\n",
       "      <th>Message Source</th>\n",
       "      <th>Profile Pic</th>\n",
       "      <th>Profile Link</th>\n",
       "      <th>From</th>\n",
       "      <th>Bio</th>\n",
       "      <th>Title</th>\n",
       "      <th>Message</th>\n",
       "      <th>Post Image</th>\n",
       "      <th>Post Name</th>\n",
       "      <th>...</th>\n",
       "      <th>Case Frt</th>\n",
       "      <th>Case WH Frt</th>\n",
       "      <th>Conversation Frt</th>\n",
       "      <th>Conversation WH Frt</th>\n",
       "      <th>First Conversation Frt</th>\n",
       "      <th>First Conversation WH Frt</th>\n",
       "      <th>Holding Time</th>\n",
       "      <th>Holding Time WH</th>\n",
       "      <th>Currently Active</th>\n",
       "      <th>Updated On</th>\n",
       "    </tr>\n",
       "  </thead>\n",
       "  <tbody>\n",
       "    <tr>\n",
       "      <th>0</th>\n",
       "      <td>fbc_1_201477243197783_2135802536431901_2139333...</td>\n",
       "      <td>Facebook Comment</td>\n",
       "      <td>https://graph.facebook.com/174142006628152/pic...</td>\n",
       "      <td>http://facebook.com/174142006628152</td>\n",
       "      <td>Abhishek Ana Awasthi</td>\n",
       "      <td></td>\n",
       "      <td></td>\n",
       "      <td>AGar mangaya hua sman tuta ya kharab nikla to ...</td>\n",
       "      <td></td>\n",
       "      <td></td>\n",
       "      <td>...</td>\n",
       "      <td>0</td>\n",
       "      <td>0</td>\n",
       "      <td>0</td>\n",
       "      <td>0</td>\n",
       "      <td>0</td>\n",
       "      <td>0</td>\n",
       "      <td>279</td>\n",
       "      <td>279</td>\n",
       "      <td>No</td>\n",
       "      <td>21-05-2018 11:37:37</td>\n",
       "    </tr>\n",
       "    <tr>\n",
       "      <th>1</th>\n",
       "      <td>fbc_1_201477243197783_2135802536431901_2139333...</td>\n",
       "      <td>Facebook Comment</td>\n",
       "      <td>https://graph.facebook.com/174142006628152/pic...</td>\n",
       "      <td>http://facebook.com/174142006628152</td>\n",
       "      <td>Abhishek Ana Awasthi</td>\n",
       "      <td></td>\n",
       "      <td></td>\n",
       "      <td>AGar mangaya hua sman tuta ya kharab nikla to ...</td>\n",
       "      <td></td>\n",
       "      <td></td>\n",
       "      <td>...</td>\n",
       "      <td>0</td>\n",
       "      <td>0</td>\n",
       "      <td>0</td>\n",
       "      <td>0</td>\n",
       "      <td>0</td>\n",
       "      <td>0</td>\n",
       "      <td>71</td>\n",
       "      <td>71</td>\n",
       "      <td>No</td>\n",
       "      <td>21-05-2018 11:38:48</td>\n",
       "    </tr>\n",
       "    <tr>\n",
       "      <th>2</th>\n",
       "      <td>fbc_1_201477243197783_2135802536431901_2139333...</td>\n",
       "      <td>Facebook Comment</td>\n",
       "      <td>https://graph.facebook.com/174142006628152/pic...</td>\n",
       "      <td>http://facebook.com/174142006628152</td>\n",
       "      <td>Abhishek Ana Awasthi</td>\n",
       "      <td></td>\n",
       "      <td></td>\n",
       "      <td>AGar mangaya hua sman tuta ya kharab nikla to ...</td>\n",
       "      <td></td>\n",
       "      <td></td>\n",
       "      <td>...</td>\n",
       "      <td>1730282</td>\n",
       "      <td>1730282</td>\n",
       "      <td>424</td>\n",
       "      <td>424</td>\n",
       "      <td>1730316</td>\n",
       "      <td>1730316</td>\n",
       "      <td>1</td>\n",
       "      <td>1</td>\n",
       "      <td>No</td>\n",
       "      <td>21-05-2018 11:38:48</td>\n",
       "    </tr>\n",
       "    <tr>\n",
       "      <th>3</th>\n",
       "      <td>fbc_1_201477243197783_2135802536431901_2139333...</td>\n",
       "      <td>Facebook Comment</td>\n",
       "      <td>https://graph.facebook.com/174142006628152/pic...</td>\n",
       "      <td>http://facebook.com/174142006628152</td>\n",
       "      <td>Abhishek Ana Awasthi</td>\n",
       "      <td></td>\n",
       "      <td></td>\n",
       "      <td>AGar mangaya hua sman tuta ya kharab nikla to ...</td>\n",
       "      <td></td>\n",
       "      <td></td>\n",
       "      <td>...</td>\n",
       "      <td>1730282</td>\n",
       "      <td>1730282</td>\n",
       "      <td>424</td>\n",
       "      <td>424</td>\n",
       "      <td>1730316</td>\n",
       "      <td>1730316</td>\n",
       "      <td>0</td>\n",
       "      <td>0</td>\n",
       "      <td>Yes</td>\n",
       "      <td>21-05-2018 11:38:49</td>\n",
       "    </tr>\n",
       "    <tr>\n",
       "      <th>4</th>\n",
       "      <td>fbc_1_201477243197783_2144082715603883_2147320...</td>\n",
       "      <td>Facebook Comment</td>\n",
       "      <td>https://graph.facebook.com/1641033702681983/pi...</td>\n",
       "      <td>http://facebook.com/1641033702681983</td>\n",
       "      <td>Roli Srivastava</td>\n",
       "      <td></td>\n",
       "      <td></td>\n",
       "      <td>Pp</td>\n",
       "      <td></td>\n",
       "      <td></td>\n",
       "      <td>...</td>\n",
       "      <td>0</td>\n",
       "      <td>0</td>\n",
       "      <td>0</td>\n",
       "      <td>0</td>\n",
       "      <td>0</td>\n",
       "      <td>0</td>\n",
       "      <td>17</td>\n",
       "      <td>17</td>\n",
       "      <td>No</td>\n",
       "      <td>28-05-2018 16:29:52</td>\n",
       "    </tr>\n",
       "  </tbody>\n",
       "</table>\n",
       "<p>5 rows × 78 columns</p>\n",
       "</div>"
      ],
      "text/plain": [
       "                                           messageID    Message Source  \\\n",
       "0  fbc_1_201477243197783_2135802536431901_2139333...  Facebook Comment   \n",
       "1  fbc_1_201477243197783_2135802536431901_2139333...  Facebook Comment   \n",
       "2  fbc_1_201477243197783_2135802536431901_2139333...  Facebook Comment   \n",
       "3  fbc_1_201477243197783_2135802536431901_2139333...  Facebook Comment   \n",
       "4  fbc_1_201477243197783_2144082715603883_2147320...  Facebook Comment   \n",
       "\n",
       "                                         Profile Pic  \\\n",
       "0  https://graph.facebook.com/174142006628152/pic...   \n",
       "1  https://graph.facebook.com/174142006628152/pic...   \n",
       "2  https://graph.facebook.com/174142006628152/pic...   \n",
       "3  https://graph.facebook.com/174142006628152/pic...   \n",
       "4  https://graph.facebook.com/1641033702681983/pi...   \n",
       "\n",
       "                           Profile Link                  From Bio Title  \\\n",
       "0   http://facebook.com/174142006628152  Abhishek Ana Awasthi             \n",
       "1   http://facebook.com/174142006628152  Abhishek Ana Awasthi             \n",
       "2   http://facebook.com/174142006628152  Abhishek Ana Awasthi             \n",
       "3   http://facebook.com/174142006628152  Abhishek Ana Awasthi             \n",
       "4  http://facebook.com/1641033702681983       Roli Srivastava             \n",
       "\n",
       "                                             Message Post Image Post Name  \\\n",
       "0  AGar mangaya hua sman tuta ya kharab nikla to ...                        \n",
       "1  AGar mangaya hua sman tuta ya kharab nikla to ...                        \n",
       "2  AGar mangaya hua sman tuta ya kharab nikla to ...                        \n",
       "3  AGar mangaya hua sman tuta ya kharab nikla to ...                        \n",
       "4                                                 Pp                        \n",
       "\n",
       "   ... Case Frt Case WH Frt Conversation Frt Conversation WH Frt  \\\n",
       "0  ...        0           0                0                   0   \n",
       "1  ...        0           0                0                   0   \n",
       "2  ...  1730282     1730282              424                 424   \n",
       "3  ...  1730282     1730282              424                 424   \n",
       "4  ...        0           0                0                   0   \n",
       "\n",
       "  First Conversation Frt First Conversation WH Frt Holding Time  \\\n",
       "0                      0                         0          279   \n",
       "1                      0                         0           71   \n",
       "2                1730316                   1730316            1   \n",
       "3                1730316                   1730316            0   \n",
       "4                      0                         0           17   \n",
       "\n",
       "  Holding Time WH Currently Active           Updated On  \n",
       "0             279               No  21-05-2018 11:37:37  \n",
       "1              71               No  21-05-2018 11:38:48  \n",
       "2               1               No  21-05-2018 11:38:48  \n",
       "3               0              Yes  21-05-2018 11:38:49  \n",
       "4              17               No  28-05-2018 16:29:52  \n",
       "\n",
       "[5 rows x 78 columns]"
      ]
     },
     "execution_count": 32,
     "metadata": {},
     "output_type": "execute_result"
    }
   ],
   "source": [
    "may.head()"
   ]
  },
  {
   "cell_type": "code",
   "execution_count": 33,
   "metadata": {},
   "outputs": [
    {
     "data": {
      "text/plain": [
       "Index(['messageID', 'Message Source', 'Profile Pic', 'Profile Link', 'From',\n",
       "       'Bio', 'Title', 'Message', 'Post Image', 'Post Name', 'Average Rating',\n",
       "       'No. of Raters', 'Total views', 'Post Caption', 'Post Description',\n",
       "       'Country', 'State', 'City', 'Sentiment', 'Gender', 'Following',\n",
       "       'Followers', 'Favourites', 'Listed', 'Status Count', 'Comment Count',\n",
       "       'Tags', 'Link', 'Source', 'Created On (Posted On)', 'Collected On',\n",
       "       'Timestamp', 'Topics', 'From Name', 'From Email', 'From Team',\n",
       "       'To Name', 'To Email', 'To Team', 'From Basket', 'To Basket',\n",
       "       'Rule Name', 'Priority', 'Action', 'Work Message', 'Response Message',\n",
       "       'Assigned To Agent', 'Assigned To Workbasket', 'Action Start Date',\n",
       "       'Action Date', 'Ticket ID', 'Notes', 'Served On', 'Date', 'Time',\n",
       "       'Topics.1', 'Review', 'Sub Query', 'Message Ageing', 'Case Ageing',\n",
       "       'Action Start Iteration', 'Action Start Total',\n",
       "       'Action Start WH Iteration', 'Action Start WH Total',\n",
       "       'First Message Iteration', 'First Message Total',\n",
       "       'First Message WH Iteration', 'First Message WH Total', 'Case Frt',\n",
       "       'Case WH Frt', 'Conversation Frt', 'Conversation WH Frt',\n",
       "       'First Conversation Frt', 'First Conversation WH Frt', 'Holding Time',\n",
       "       'Holding Time WH', 'Currently Active', 'Updated On'],\n",
       "      dtype='object')"
      ]
     },
     "execution_count": 33,
     "metadata": {},
     "output_type": "execute_result"
    }
   ],
   "source": [
    "may.columns"
   ]
  },
  {
   "cell_type": "code",
   "execution_count": 34,
   "metadata": {},
   "outputs": [],
   "source": [
    "june2=june[['Message','Sentiment']]"
   ]
  },
  {
   "cell_type": "code",
   "execution_count": 35,
   "metadata": {},
   "outputs": [],
   "source": [
    "feb2=feb[['Message','Sentiment']]\n",
    "may2=may[['Message','Sentiment']]"
   ]
  },
  {
   "cell_type": "code",
   "execution_count": 36,
   "metadata": {},
   "outputs": [
    {
     "data": {
      "text/html": [
       "<div>\n",
       "<style scoped>\n",
       "    .dataframe tbody tr th:only-of-type {\n",
       "        vertical-align: middle;\n",
       "    }\n",
       "\n",
       "    .dataframe tbody tr th {\n",
       "        vertical-align: top;\n",
       "    }\n",
       "\n",
       "    .dataframe thead th {\n",
       "        text-align: right;\n",
       "    }\n",
       "</style>\n",
       "<table border=\"1\" class=\"dataframe\">\n",
       "  <thead>\n",
       "    <tr style=\"text-align: right;\">\n",
       "      <th></th>\n",
       "      <th>Message</th>\n",
       "      <th>Sentiment</th>\n",
       "    </tr>\n",
       "  </thead>\n",
       "  <tbody>\n",
       "    <tr>\n",
       "      <th>0</th>\n",
       "      <td>Price plz</td>\n",
       "      <td>Neutral</td>\n",
       "    </tr>\n",
       "    <tr>\n",
       "      <th>1</th>\n",
       "      <td>Pp</td>\n",
       "      <td>Neutral</td>\n",
       "    </tr>\n",
       "    <tr>\n",
       "      <th>2</th>\n",
       "      <td>Nice</td>\n",
       "      <td>Positive</td>\n",
       "    </tr>\n",
       "    <tr>\n",
       "      <th>3</th>\n",
       "      <td>Pp</td>\n",
       "      <td>Neutral</td>\n",
       "    </tr>\n",
       "    <tr>\n",
       "      <th>4</th>\n",
       "      <td>Pp</td>\n",
       "      <td>Neutral</td>\n",
       "    </tr>\n",
       "  </tbody>\n",
       "</table>\n",
       "</div>"
      ],
      "text/plain": [
       "     Message Sentiment\n",
       "0  Price plz   Neutral\n",
       "1         Pp   Neutral\n",
       "2       Nice  Positive\n",
       "3         Pp   Neutral\n",
       "4         Pp   Neutral"
      ]
     },
     "execution_count": 36,
     "metadata": {},
     "output_type": "execute_result"
    }
   ],
   "source": [
    "june2.head()"
   ]
  },
  {
   "cell_type": "code",
   "execution_count": 37,
   "metadata": {},
   "outputs": [
    {
     "name": "stderr",
     "output_type": "stream",
     "text": [
      "C:\\Users\\sanat\\Anaconda3\\lib\\site-packages\\ipykernel_launcher.py:1: SettingWithCopyWarning: \n",
      "A value is trying to be set on a copy of a slice from a DataFrame\n",
      "\n",
      "See the caveats in the documentation: http://pandas.pydata.org/pandas-docs/stable/user_guide/indexing.html#returning-a-view-versus-a-copy\n",
      "  \"\"\"Entry point for launching an IPython kernel.\n",
      "C:\\Users\\sanat\\Anaconda3\\lib\\site-packages\\ipykernel_launcher.py:2: SettingWithCopyWarning: \n",
      "A value is trying to be set on a copy of a slice from a DataFrame\n",
      "\n",
      "See the caveats in the documentation: http://pandas.pydata.org/pandas-docs/stable/user_guide/indexing.html#returning-a-view-versus-a-copy\n",
      "  \n",
      "C:\\Users\\sanat\\Anaconda3\\lib\\site-packages\\ipykernel_launcher.py:3: SettingWithCopyWarning: \n",
      "A value is trying to be set on a copy of a slice from a DataFrame\n",
      "\n",
      "See the caveats in the documentation: http://pandas.pydata.org/pandas-docs/stable/user_guide/indexing.html#returning-a-view-versus-a-copy\n",
      "  This is separate from the ipykernel package so we can avoid doing imports until\n"
     ]
    }
   ],
   "source": [
    "june2.drop_duplicates(subset=[\"Message\"],inplace=True)\n",
    "feb2.drop_duplicates(subset=[\"Message\"],inplace=True)\n",
    "may2.drop_duplicates(subset=[\"Message\"],inplace=True)"
   ]
  },
  {
   "cell_type": "code",
   "execution_count": 38,
   "metadata": {},
   "outputs": [],
   "source": [
    "june2=june2.dropna()\n",
    "may2=may2.dropna()\n",
    "feb2=feb2.dropna()"
   ]
  },
  {
   "cell_type": "code",
   "execution_count": 39,
   "metadata": {},
   "outputs": [],
   "source": [
    "from sklearn.preprocessing import LabelEncoder\n",
    "le = LabelEncoder()\n",
    "from string import punctuation\n",
    "from nltk.corpus import stopwords\n",
    "stuff_to_be_removed = list(stopwords.words(\"english\"))+list(punctuation)\n",
    "from nltk.tokenize import word_tokenize\n",
    "from nltk.stem import LancasterStemmer\n",
    "stemmer=LancasterStemmer()"
   ]
  },
  {
   "cell_type": "code",
   "execution_count": 40,
   "metadata": {},
   "outputs": [],
   "source": [
    "def clean(df):\n",
    "    df['Message']=df['Message'].str.lower()\n",
    "    df['Sentiment']=le.fit_transform(df['Sentiment'])  \n",
    "    \n",
    "    "
   ]
  },
  {
   "cell_type": "code",
   "execution_count": 41,
   "metadata": {},
   "outputs": [],
   "source": [
    "clean(may2)\n",
    "clean(june2)\n",
    "clean(feb2)"
   ]
  },
  {
   "cell_type": "code",
   "execution_count": 42,
   "metadata": {},
   "outputs": [],
   "source": [
    "def clean_text(df):\n",
    "    final_corpus=[]\n",
    "    corpus=df['Message'].tolist()\n",
    "    for x in range(len(corpus)):\n",
    "        text=word_tokenize(corpus[x].lower())\n",
    "        text = [stemmer.stem(y) for y in text if y not in stuff_to_be_removed]\n",
    "        ent = \" \".join(text)\n",
    "        final_corpus.append(ent)\n",
    "    df['cleaned_message']=final_corpus"
   ]
  },
  {
   "cell_type": "code",
   "execution_count": 43,
   "metadata": {},
   "outputs": [],
   "source": [
    "clean_text(feb2)\n",
    "clean_text(june2)\n",
    "clean_text(may2)"
   ]
  },
  {
   "cell_type": "code",
   "execution_count": 44,
   "metadata": {},
   "outputs": [],
   "source": [
    "feb2.drop_duplicates(subset=[\"cleaned_message\"],inplace=True)\n",
    "may2.drop_duplicates(subset=[\"cleaned_message\"],inplace=True)\n",
    "june2.drop_duplicates(subset=[\"cleaned_message\"],inplace=True)"
   ]
  },
  {
   "cell_type": "code",
   "execution_count": 46,
   "metadata": {},
   "outputs": [
    {
     "data": {
      "text/plain": [
       "(8617, 3)"
      ]
     },
     "execution_count": 46,
     "metadata": {},
     "output_type": "execute_result"
    }
   ],
   "source": [
    "june2.shape"
   ]
  },
  {
   "cell_type": "code",
   "execution_count": 47,
   "metadata": {},
   "outputs": [],
   "source": [
    "traindf=june2.append(feb2)"
   ]
  },
  {
   "cell_type": "code",
   "execution_count": 50,
   "metadata": {},
   "outputs": [
    {
     "data": {
      "text/plain": [
       "(5000, 3)"
      ]
     },
     "execution_count": 50,
     "metadata": {},
     "output_type": "execute_result"
    }
   ],
   "source": [
    "traindf.shape"
   ]
  },
  {
   "cell_type": "code",
   "execution_count": 51,
   "metadata": {},
   "outputs": [],
   "source": [
    "traindf = traindf[0:5000]"
   ]
  },
  {
   "cell_type": "code",
   "execution_count": null,
   "metadata": {},
   "outputs": [],
   "source": []
  },
  {
   "cell_type": "code",
   "execution_count": 52,
   "metadata": {},
   "outputs": [
    {
     "data": {
      "text/html": [
       "<div>\n",
       "<style scoped>\n",
       "    .dataframe tbody tr th:only-of-type {\n",
       "        vertical-align: middle;\n",
       "    }\n",
       "\n",
       "    .dataframe tbody tr th {\n",
       "        vertical-align: top;\n",
       "    }\n",
       "\n",
       "    .dataframe thead th {\n",
       "        text-align: right;\n",
       "    }\n",
       "</style>\n",
       "<table border=\"1\" class=\"dataframe\">\n",
       "  <thead>\n",
       "    <tr style=\"text-align: right;\">\n",
       "      <th></th>\n",
       "      <th>Message</th>\n",
       "      <th>Sentiment</th>\n",
       "      <th>cleaned_message</th>\n",
       "    </tr>\n",
       "  </thead>\n",
       "  <tbody>\n",
       "    <tr>\n",
       "      <th>0</th>\n",
       "      <td>price plz</td>\n",
       "      <td>1</td>\n",
       "      <td>pric plz</td>\n",
       "    </tr>\n",
       "    <tr>\n",
       "      <th>1</th>\n",
       "      <td>pp</td>\n",
       "      <td>1</td>\n",
       "      <td>pp</td>\n",
       "    </tr>\n",
       "    <tr>\n",
       "      <th>2</th>\n",
       "      <td>nice</td>\n",
       "      <td>2</td>\n",
       "      <td>nic</td>\n",
       "    </tr>\n",
       "    <tr>\n",
       "      <th>7</th>\n",
       "      <td>mast</td>\n",
       "      <td>2</td>\n",
       "      <td>mast</td>\n",
       "    </tr>\n",
       "    <tr>\n",
       "      <th>10</th>\n",
       "      <td>same product wit different price in craftvill</td>\n",
       "      <td>1</td>\n",
       "      <td>produc wit diff pric craftvil</td>\n",
       "    </tr>\n",
       "  </tbody>\n",
       "</table>\n",
       "</div>"
      ],
      "text/plain": [
       "                                          Message  Sentiment  \\\n",
       "0                                       price plz          1   \n",
       "1                                              pp          1   \n",
       "2                                            nice          2   \n",
       "7                                            mast          2   \n",
       "10  same product wit different price in craftvill          1   \n",
       "\n",
       "                  cleaned_message  \n",
       "0                        pric plz  \n",
       "1                              pp  \n",
       "2                             nic  \n",
       "7                            mast  \n",
       "10  produc wit diff pric craftvil  "
      ]
     },
     "execution_count": 52,
     "metadata": {},
     "output_type": "execute_result"
    }
   ],
   "source": [
    "traindf.head()"
   ]
  },
  {
   "cell_type": "code",
   "execution_count": 53,
   "metadata": {},
   "outputs": [],
   "source": [
    "testdf=may2"
   ]
  },
  {
   "cell_type": "code",
   "execution_count": 54,
   "metadata": {},
   "outputs": [],
   "source": [
    "from sklearn.feature_extraction.text import TfidfVectorizer"
   ]
  },
  {
   "cell_type": "code",
   "execution_count": 55,
   "metadata": {},
   "outputs": [],
   "source": [
    "tfidf = TfidfVectorizer()\n",
    "vector = tfidf.fit_transform(traindf[\"cleaned_message\"])\n",
    "X = vector.toarray()\n",
    "y = traindf[\"Sentiment\"]"
   ]
  },
  {
   "cell_type": "code",
   "execution_count": 58,
   "metadata": {},
   "outputs": [
    {
     "data": {
      "text/plain": [
       "(5000, 8512)"
      ]
     },
     "execution_count": 58,
     "metadata": {},
     "output_type": "execute_result"
    }
   ],
   "source": [
    "X.shape"
   ]
  },
  {
   "cell_type": "code",
   "execution_count": 56,
   "metadata": {},
   "outputs": [],
   "source": [
    "from sklearn.naive_bayes import GaussianNB\n",
    "ab=GaussianNB()"
   ]
  },
  {
   "cell_type": "code",
   "execution_count": 57,
   "metadata": {},
   "outputs": [
    {
     "data": {
      "text/plain": [
       "GaussianNB(priors=None, var_smoothing=1e-09)"
      ]
     },
     "execution_count": 57,
     "metadata": {},
     "output_type": "execute_result"
    }
   ],
   "source": [
    "ab.fit(X,y)"
   ]
  },
  {
   "cell_type": "code",
   "execution_count": 33,
   "metadata": {},
   "outputs": [],
   "source": [
    "from sklearn.ensemble import RandomForestClassifier"
   ]
  },
  {
   "cell_type": "code",
   "execution_count": 34,
   "metadata": {},
   "outputs": [],
   "source": [
    "rfc = RandomForestClassifier()"
   ]
  },
  {
   "cell_type": "code",
   "execution_count": 35,
   "metadata": {},
   "outputs": [
    {
     "name": "stderr",
     "output_type": "stream",
     "text": [
      "E:\\Ananconda3\\lib\\site-packages\\sklearn\\ensemble\\forest.py:246: FutureWarning: The default value of n_estimators will change from 10 in version 0.20 to 100 in 0.22.\n",
      "  \"10 in version 0.20 to 100 in 0.22.\", FutureWarning)\n"
     ]
    },
    {
     "data": {
      "text/plain": [
       "RandomForestClassifier(bootstrap=True, class_weight=None, criterion='gini',\n",
       "            max_depth=None, max_features='auto', max_leaf_nodes=None,\n",
       "            min_impurity_decrease=0.0, min_impurity_split=None,\n",
       "            min_samples_leaf=1, min_samples_split=2,\n",
       "            min_weight_fraction_leaf=0.0, n_estimators=10, n_jobs=None,\n",
       "            oob_score=False, random_state=None, verbose=0,\n",
       "            warm_start=False)"
      ]
     },
     "execution_count": 35,
     "metadata": {},
     "output_type": "execute_result"
    }
   ],
   "source": [
    "rfc.fit(X,y)"
   ]
  },
  {
   "cell_type": "code",
   "execution_count": 36,
   "metadata": {},
   "outputs": [],
   "source": [
    "ypred = rfc.predict(X)"
   ]
  },
  {
   "cell_type": "code",
   "execution_count": 37,
   "metadata": {},
   "outputs": [],
   "source": [
    "from sklearn.metrics import classification_report"
   ]
  },
  {
   "cell_type": "code",
   "execution_count": 38,
   "metadata": {},
   "outputs": [
    {
     "name": "stdout",
     "output_type": "stream",
     "text": [
      "              precision    recall  f1-score   support\n",
      "\n",
      "           0       0.99      0.96      0.98       323\n",
      "           1       0.99      0.99      0.99      3743\n",
      "           2       0.98      0.96      0.97       934\n",
      "\n",
      "   micro avg       0.99      0.99      0.99      5000\n",
      "   macro avg       0.99      0.97      0.98      5000\n",
      "weighted avg       0.99      0.99      0.99      5000\n",
      "\n"
     ]
    }
   ],
   "source": [
    "print(classification_report(y,ypred))"
   ]
  },
  {
   "cell_type": "code",
   "execution_count": 39,
   "metadata": {},
   "outputs": [],
   "source": [
    "from sklearn.metrics import accuracy_score"
   ]
  },
  {
   "cell_type": "code",
   "execution_count": 40,
   "metadata": {},
   "outputs": [
    {
     "data": {
      "text/plain": [
       "0.9862"
      ]
     },
     "execution_count": 40,
     "metadata": {},
     "output_type": "execute_result"
    }
   ],
   "source": [
    "accuracy_score(y,ypred)"
   ]
  },
  {
   "cell_type": "code",
   "execution_count": 41,
   "metadata": {},
   "outputs": [
    {
     "data": {
      "text/plain": [
       "1    3743\n",
       "2     934\n",
       "0     323\n",
       "Name: Sentiment, dtype: int64"
      ]
     },
     "execution_count": 41,
     "metadata": {},
     "output_type": "execute_result"
    }
   ],
   "source": [
    "traindf[\"Sentiment\"].value_counts()"
   ]
  },
  {
   "cell_type": "code",
   "execution_count": 42,
   "metadata": {},
   "outputs": [],
   "source": [
    "from sklearn.model_selection import train_test_split"
   ]
  },
  {
   "cell_type": "code",
   "execution_count": 43,
   "metadata": {},
   "outputs": [],
   "source": [
    "X_train, X_test, y_train, y_test = train_test_split(X, y, test_size=0.33, random_state=42)"
   ]
  },
  {
   "cell_type": "code",
   "execution_count": 44,
   "metadata": {},
   "outputs": [
    {
     "data": {
      "text/plain": [
       "RandomForestClassifier(bootstrap=True, class_weight=None, criterion='gini',\n",
       "            max_depth=None, max_features='auto', max_leaf_nodes=None,\n",
       "            min_impurity_decrease=0.0, min_impurity_split=None,\n",
       "            min_samples_leaf=1, min_samples_split=2,\n",
       "            min_weight_fraction_leaf=0.0, n_estimators=10, n_jobs=None,\n",
       "            oob_score=False, random_state=None, verbose=0,\n",
       "            warm_start=False)"
      ]
     },
     "execution_count": 44,
     "metadata": {},
     "output_type": "execute_result"
    }
   ],
   "source": [
    "rfc.fit(X_train,y_train)"
   ]
  },
  {
   "cell_type": "code",
   "execution_count": 45,
   "metadata": {},
   "outputs": [],
   "source": [
    "ypred = rfc.predict(X_test)"
   ]
  },
  {
   "cell_type": "code",
   "execution_count": 46,
   "metadata": {},
   "outputs": [
    {
     "data": {
      "text/plain": [
       "0.8672727272727273"
      ]
     },
     "execution_count": 46,
     "metadata": {},
     "output_type": "execute_result"
    }
   ],
   "source": [
    "accuracy_score(y_test,ypred)"
   ]
  },
  {
   "cell_type": "code",
   "execution_count": 47,
   "metadata": {},
   "outputs": [
    {
     "name": "stdout",
     "output_type": "stream",
     "text": [
      "              precision    recall  f1-score   support\n",
      "\n",
      "           0       0.78      0.26      0.39       117\n",
      "           1       0.88      0.96      0.92      1255\n",
      "           2       0.79      0.72      0.76       278\n",
      "\n",
      "   micro avg       0.87      0.87      0.87      1650\n",
      "   macro avg       0.82      0.65      0.69      1650\n",
      "weighted avg       0.86      0.87      0.85      1650\n",
      "\n"
     ]
    }
   ],
   "source": [
    "print(classification_report(y_test,ypred))"
   ]
  },
  {
   "cell_type": "code",
   "execution_count": 48,
   "metadata": {},
   "outputs": [
    {
     "data": {
      "text/plain": [
       "1    3743\n",
       "2     934\n",
       "0     323\n",
       "Name: Sentiment, dtype: int64"
      ]
     },
     "execution_count": 48,
     "metadata": {},
     "output_type": "execute_result"
    }
   ],
   "source": [
    "traindf[\"Sentiment\"].value_counts()"
   ]
  },
  {
   "cell_type": "code",
   "execution_count": 49,
   "metadata": {},
   "outputs": [
    {
     "data": {
      "text/plain": [
       "1    9961\n",
       "2    2173\n",
       "0     757\n",
       "Name: Sentiment, dtype: int64"
      ]
     },
     "execution_count": 49,
     "metadata": {},
     "output_type": "execute_result"
    }
   ],
   "source": [
    "may2['Sentiment'].value_counts()"
   ]
  },
  {
   "cell_type": "code",
   "execution_count": 50,
   "metadata": {},
   "outputs": [
    {
     "data": {
      "text/plain": [
       "Neutral     78560\n",
       "Positive    21692\n",
       "Negative     2906\n",
       "Name: Sentiment, dtype: int64"
      ]
     },
     "execution_count": 50,
     "metadata": {},
     "output_type": "execute_result"
    }
   ],
   "source": [
    "may['Sentiment'].value_counts()"
   ]
  },
  {
   "cell_type": "code",
   "execution_count": 51,
   "metadata": {},
   "outputs": [
    {
     "data": {
      "text/html": [
       "<div>\n",
       "<style scoped>\n",
       "    .dataframe tbody tr th:only-of-type {\n",
       "        vertical-align: middle;\n",
       "    }\n",
       "\n",
       "    .dataframe tbody tr th {\n",
       "        vertical-align: top;\n",
       "    }\n",
       "\n",
       "    .dataframe thead th {\n",
       "        text-align: right;\n",
       "    }\n",
       "</style>\n",
       "<table border=\"1\" class=\"dataframe\">\n",
       "  <thead>\n",
       "    <tr style=\"text-align: right;\">\n",
       "      <th></th>\n",
       "      <th>Message</th>\n",
       "      <th>Sentiment</th>\n",
       "      <th>cleaned_message</th>\n",
       "    </tr>\n",
       "  </thead>\n",
       "  <tbody>\n",
       "    <tr>\n",
       "      <th>0</th>\n",
       "      <td>agar mangaya hua sman tuta ya kharab nikla to ...</td>\n",
       "      <td>1</td>\n",
       "      <td>ag mangay hua sman tut ya kharab nikl kya hog</td>\n",
       "    </tr>\n",
       "    <tr>\n",
       "      <th>4</th>\n",
       "      <td>pp</td>\n",
       "      <td>1</td>\n",
       "      <td>pp</td>\n",
       "    </tr>\n",
       "    <tr>\n",
       "      <th>8</th>\n",
       "      <td>i am sorry to inform you that after 9days you ...</td>\n",
       "      <td>0</td>\n",
       "      <td>sorry inform 9days n't giv produc within 24 hr...</td>\n",
       "    </tr>\n",
       "    <tr>\n",
       "      <th>12</th>\n",
       "      <td>today is thursday again how. many days you want</td>\n",
       "      <td>1</td>\n",
       "      <td>today thursday many day want</td>\n",
       "    </tr>\n",
       "    <tr>\n",
       "      <th>16</th>\n",
       "      <td>???? ??? ???? ??? ? ??? ?? 104710797 ???? ??? ...</td>\n",
       "      <td>1</td>\n",
       "      <td>104710797</td>\n",
       "    </tr>\n",
       "  </tbody>\n",
       "</table>\n",
       "</div>"
      ],
      "text/plain": [
       "                                              Message  Sentiment  \\\n",
       "0   agar mangaya hua sman tuta ya kharab nikla to ...          1   \n",
       "4                                                  pp          1   \n",
       "8   i am sorry to inform you that after 9days you ...          0   \n",
       "12    today is thursday again how. many days you want          1   \n",
       "16  ???? ??? ???? ??? ? ??? ?? 104710797 ???? ??? ...          1   \n",
       "\n",
       "                                      cleaned_message  \n",
       "0       ag mangay hua sman tut ya kharab nikl kya hog  \n",
       "4                                                  pp  \n",
       "8   sorry inform 9days n't giv produc within 24 hr...  \n",
       "12                       today thursday many day want  \n",
       "16                                          104710797  "
      ]
     },
     "execution_count": 51,
     "metadata": {},
     "output_type": "execute_result"
    }
   ],
   "source": [
    "may2.head()"
   ]
  },
  {
   "cell_type": "code",
   "execution_count": 52,
   "metadata": {},
   "outputs": [],
   "source": [
    "p_words = may2[may2['Sentiment']==2]"
   ]
  },
  {
   "cell_type": "code",
   "execution_count": 53,
   "metadata": {},
   "outputs": [],
   "source": [
    "n_words = may2[may2['Sentiment']==0]"
   ]
  },
  {
   "cell_type": "code",
   "execution_count": 54,
   "metadata": {},
   "outputs": [],
   "source": [
    "neutral = may2[may2['Sentiment']==1]"
   ]
  },
  {
   "cell_type": "code",
   "execution_count": 55,
   "metadata": {},
   "outputs": [
    {
     "data": {
      "text/plain": [
       "(2173, 3)"
      ]
     },
     "execution_count": 55,
     "metadata": {},
     "output_type": "execute_result"
    }
   ],
   "source": [
    "p_words.shape"
   ]
  },
  {
   "cell_type": "code",
   "execution_count": 56,
   "metadata": {},
   "outputs": [
    {
     "data": {
      "text/plain": [
       "(757, 3)"
      ]
     },
     "execution_count": 56,
     "metadata": {},
     "output_type": "execute_result"
    }
   ],
   "source": [
    "n_words.shape"
   ]
  },
  {
   "cell_type": "code",
   "execution_count": 57,
   "metadata": {},
   "outputs": [
    {
     "data": {
      "text/plain": [
       "(9961, 3)"
      ]
     },
     "execution_count": 57,
     "metadata": {},
     "output_type": "execute_result"
    }
   ],
   "source": [
    "neutral.shape"
   ]
  },
  {
   "cell_type": "code",
   "execution_count": 58,
   "metadata": {},
   "outputs": [
    {
     "data": {
      "image/png": "[encoded data removed]",
      "text/plain": [
       "<Figure size 432x288 with 1 Axes>"
      ]
     },
     "metadata": {
      "needs_background": "light"
     },
     "output_type": "display_data"
    }
   ],
   "source": [
    "from collections import Counter\n",
    "plist=[]\n",
    "for x in p_words['cleaned_message']:\n",
    "    word = word_tokenize(x)\n",
    "    for i in word:\n",
    "        plist.append(i)\n",
    "counts=dict(Counter(plist))\n",
    "from wordcloud import WordCloud\n",
    "plt.title(\"Positive Words\")\n",
    "wordcloud = WordCloud(background_color='white',width=800, height=600).generate_from_frequencies(counts) \n",
    "plt.imshow(wordcloud)\n",
    "plt.axis(\"off\")\n",
    "plt.show()"
   ]
  },
  {
   "cell_type": "code",
   "execution_count": 59,
   "metadata": {},
   "outputs": [
    {
     "data": {
      "image/png": "[encoded data removed]",
      "text/plain": [
       "<Figure size 432x288 with 1 Axes>"
      ]
     },
     "metadata": {
      "needs_background": "light"
     },
     "output_type": "display_data"
    }
   ],
   "source": [
    "from collections import Counter\n",
    "nlist=[]\n",
    "stringp=[]\n",
    "for x in n_words['cleaned_message']:\n",
    "    word = word_tokenize(x)\n",
    "    for i in word:\n",
    "        nlist.append(i)\n",
    "counts1=dict(Counter(nlist))\n",
    "from wordcloud import WordCloud\n",
    "plt.title(\"Negative Words\")\n",
    "wordcloud = WordCloud(background_color='white',width=800, height=600).generate_from_frequencies(counts1) \n",
    "plt.imshow(wordcloud)\n",
    "plt.axis(\"off\")\n",
    "plt.show()\n"
   ]
  },
  {
   "cell_type": "code",
   "execution_count": 60,
   "metadata": {},
   "outputs": [
    {
     "data": {
      "image/png": "[encoded data removed]",
      "text/plain": [
       "<Figure size 432x288 with 1 Axes>"
      ]
     },
     "metadata": {
      "needs_background": "light"
     },
     "output_type": "display_data"
    }
   ],
   "source": [
    "from collections import Counter\n",
    "nelist=[]\n",
    "for x in neutral['cleaned_message']:\n",
    "    word = word_tokenize(x)\n",
    "    for i in word:\n",
    "        nelist.append(i)\n",
    "counts2=dict(Counter(nelist))\n",
    "from wordcloud import WordCloud\n",
    "plt.title(\"Neutral Words\")\n",
    "wordcloud = WordCloud(background_color='white',width=800, height=600).generate_from_frequencies(counts2) \n",
    "plt.imshow(wordcloud)\n",
    "plt.axis(\"off\")\n",
    "plt.show()"
   ]
  },
  {
   "cell_type": "code",
   "execution_count": 61,
   "metadata": {},
   "outputs": [],
   "source": [
    "import operator\n",
    "sorted_p = sorted(counts.items(), key=operator.itemgetter(1),reverse=True)\n",
    "pval = []\n",
    "for i in sorted_p:\n",
    "    pval.append(i[0])\n",
    "    if len(pval)==20:\n",
    "        break"
   ]
  },
  {
   "cell_type": "code",
   "execution_count": 62,
   "metadata": {},
   "outputs": [],
   "source": [
    "sorted_n = sorted(counts1.items(), key=operator.itemgetter(1),reverse=True)\n",
    "nval = []\n",
    "for i in sorted_n:\n",
    "    nval.append(i[0])\n",
    "    if len(nval)==20:\n",
    "        break"
   ]
  },
  {
   "cell_type": "code",
   "execution_count": 63,
   "metadata": {},
   "outputs": [],
   "source": [
    "sorted_ne = sorted(counts2.items(), key=operator.itemgetter(1),reverse=True)\n",
    "neval = []\n",
    "for i in sorted_ne:\n",
    "    neval.append(i[0])\n",
    "    if len(neval)==10:\n",
    "        break"
   ]
  },
  {
   "cell_type": "code",
   "execution_count": 64,
   "metadata": {},
   "outputs": [
    {
     "name": "stdout",
     "output_type": "stream",
     "text": [
      "*** Introductory Examples for the NLTK Book ***\n",
      "Loading text1, ..., text9 and sent1, ..., sent9\n",
      "Type the name of the text or sentence to view it.\n",
      "Type: 'texts()' or 'sents()' to list the materials.\n",
      "text1: Moby Dick by Herman Melville 1851\n",
      "text2: Sense and Sensibility by Jane Austen 1811\n",
      "text3: The Book of Genesis\n",
      "text4: Inaugural Address Corpus\n",
      "text5: Chat Corpus\n",
      "text6: Monty Python and the Holy Grail\n",
      "text7: Wall Street Journal\n",
      "text8: Personals Corpus\n",
      "text9: The Man Who Was Thursday by G . K . Chesterton 1908\n"
     ]
    }
   ],
   "source": [
    "from nltk.book import *"
   ]
  },
  {
   "cell_type": "code",
   "execution_count": 65,
   "metadata": {},
   "outputs": [
    {
     "data": {
      "image/png": "[encoded data removed]",
      "text/plain": [
       "<Figure size 432x288 with 1 Axes>"
      ]
     },
     "metadata": {
      "needs_background": "light"
     },
     "output_type": "display_data"
    }
   ],
   "source": [
    "ptext = nlt.Text(plist)  \n",
    "ptext.dispersion_plot(pval)"
   ]
  },
  {
   "cell_type": "code",
   "execution_count": 66,
   "metadata": {},
   "outputs": [
    {
     "data": {
      "image/png": "[encoded data removed]",
      "text/plain": [
       "<Figure size 432x288 with 1 Axes>"
      ]
     },
     "metadata": {
      "needs_background": "light"
     },
     "output_type": "display_data"
    }
   ],
   "source": [
    "ntext = nlt.Text(nlist)  \n",
    "ntext.dispersion_plot(nval)"
   ]
  },
  {
   "cell_type": "code",
   "execution_count": 67,
   "metadata": {},
   "outputs": [
    {
     "data": {
      "image/png": "[encoded data removed]",
      "text/plain": [
       "<Figure size 432x288 with 1 Axes>"
      ]
     },
     "metadata": {
      "needs_background": "light"
     },
     "output_type": "display_data"
    }
   ],
   "source": [
    "netext = nlt.Text(nelist)  \n",
    "netext.dispersion_plot(neval)"
   ]
  },
  {
   "cell_type": "code",
   "execution_count": 68,
   "metadata": {},
   "outputs": [
    {
     "data": {
      "text/plain": [
       "Index(['Message', 'Sentiment', 'cleaned_message'], dtype='object')"
      ]
     },
     "execution_count": 68,
     "metadata": {},
     "output_type": "execute_result"
    }
   ],
   "source": [
    "may2.columns"
   ]
  },
  {
   "cell_type": "code",
   "execution_count": 69,
   "metadata": {},
   "outputs": [],
   "source": [
    "from textblob import TextBlob\n",
    "sentiment=[]\n",
    "for i in may2['cleaned_message']:\n",
    "    text1=TextBlob(i)\n",
    "    pol = text1.sentiment\n",
    "    sentiment.append(pol)"
   ]
  },
  {
   "cell_type": "code",
   "execution_count": 70,
   "metadata": {},
   "outputs": [
    {
     "data": {
      "text/html": [
       "<div>\n",
       "<style scoped>\n",
       "    .dataframe tbody tr th:only-of-type {\n",
       "        vertical-align: middle;\n",
       "    }\n",
       "\n",
       "    .dataframe tbody tr th {\n",
       "        vertical-align: top;\n",
       "    }\n",
       "\n",
       "    .dataframe thead th {\n",
       "        text-align: right;\n",
       "    }\n",
       "</style>\n",
       "<table border=\"1\" class=\"dataframe\">\n",
       "  <thead>\n",
       "    <tr style=\"text-align: right;\">\n",
       "      <th></th>\n",
       "      <th>polarity</th>\n",
       "      <th>subjectivity</th>\n",
       "    </tr>\n",
       "  </thead>\n",
       "  <tbody>\n",
       "    <tr>\n",
       "      <th>0</th>\n",
       "      <td>0.0</td>\n",
       "      <td>0.0</td>\n",
       "    </tr>\n",
       "    <tr>\n",
       "      <th>1</th>\n",
       "      <td>0.0</td>\n",
       "      <td>0.0</td>\n",
       "    </tr>\n",
       "    <tr>\n",
       "      <th>2</th>\n",
       "      <td>-0.5</td>\n",
       "      <td>1.0</td>\n",
       "    </tr>\n",
       "    <tr>\n",
       "      <th>3</th>\n",
       "      <td>0.5</td>\n",
       "      <td>0.5</td>\n",
       "    </tr>\n",
       "    <tr>\n",
       "      <th>4</th>\n",
       "      <td>0.0</td>\n",
       "      <td>0.0</td>\n",
       "    </tr>\n",
       "  </tbody>\n",
       "</table>\n",
       "</div>"
      ],
      "text/plain": [
       "   polarity  subjectivity\n",
       "0       0.0           0.0\n",
       "1       0.0           0.0\n",
       "2      -0.5           1.0\n",
       "3       0.5           0.5\n",
       "4       0.0           0.0"
      ]
     },
     "execution_count": 70,
     "metadata": {},
     "output_type": "execute_result"
    }
   ],
   "source": [
    "sent_all = pd.DataFrame(sentiment)\n",
    "sent_all.head()"
   ]
  },
  {
   "cell_type": "code",
   "execution_count": 71,
   "metadata": {},
   "outputs": [],
   "source": [
    "may2 = pd.concat([may2,sent_all,may['Updated On']],1)"
   ]
  },
  {
   "cell_type": "code",
   "execution_count": 72,
   "metadata": {},
   "outputs": [
    {
     "data": {
      "text/plain": [
       "Index(['Message', 'Sentiment', 'cleaned_message', 'polarity', 'subjectivity',\n",
       "       'Updated On'],\n",
       "      dtype='object')"
      ]
     },
     "execution_count": 72,
     "metadata": {},
     "output_type": "execute_result"
    }
   ],
   "source": [
    "may2.columns"
   ]
  },
  {
   "cell_type": "code",
   "execution_count": 73,
   "metadata": {},
   "outputs": [],
   "source": [
    "pos = may2[may2[\"Sentiment\"]==2]\n",
    "neg = may2[may2[\"Sentiment\"]==0]\n",
    "neu = may2[may2[\"Sentiment\"]==1]"
   ]
  },
  {
   "cell_type": "code",
   "execution_count": 74,
   "metadata": {},
   "outputs": [],
   "source": [
    "import seaborn as sns\n"
   ]
  },
  {
   "cell_type": "code",
   "execution_count": 75,
   "metadata": {},
   "outputs": [
    {
     "data": {
      "image/png": "[encoded data removed]",
      "text/plain": [
       "<Figure size 432x288 with 1 Axes>"
      ]
     },
     "metadata": {
      "needs_background": "light"
     },
     "output_type": "display_data"
    }
   ],
   "source": [
    "plt.plot(pos['Updated On'],pos['polarity'],color='red')\n",
    "plt.plot(neg['Updated On'],neg['polarity'],color='blue')\n",
    "plt.plot(neu['Updated On'],neu['polarity'],color='orange')\n",
    "plt.title('Sentiment Analysis')\n",
    "plt.xlabel('Date')\n",
    "plt.ylabel('Sentiment Polarity')\n",
    "plt.show()"
   ]
  },
  {
   "cell_type": "code",
   "execution_count": null,
   "metadata": {},
   "outputs": [],
   "source": []
  }
 ],
 "metadata": {
  "kernelspec": {
   "display_name": "Python 3",
   "language": "python",
   "name": "python3"
  },
  "language_info": {
   "codemirror_mode": {
    "name": "ipython",
    "version": 3
   },
   "file_extension": ".py",
   "mimetype": "text/x-python",
   "name": "python",
   "nbconvert_exporter": "python",
   "pygments_lexer": "ipython3",
   "version": "3.7.3"
  }
 },
 "nbformat": 4,
 "nbformat_minor": 2
}
